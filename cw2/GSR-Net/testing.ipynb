{
 "cells": [
  {
   "cell_type": "code",
   "execution_count": 12,
   "metadata": {},
   "outputs": [],
   "source": [
    "import torch\n",
    "import numpy as np\n",
    "from preprocessing import *\n",
    "from utils import pad_HR_adj, unpad\n",
    "from model import GSRNet\n",
    "from dataclasses import dataclass\n",
    "from hyperparams import Hyperparams\n",
    "\n",
    "hps = Hyperparams()"
   ]
  },
  {
   "cell_type": "code",
   "execution_count": 13,
   "metadata": {},
   "outputs": [],
   "source": [
    "\n",
    "model = GSRNet(hps)\n",
    "model.load_state_dict(torch.load('models/GSR_resnet.pth', map_location=torch.device('cpu')))\n",
    "\n",
    "model.eval()\n",
    "unseen_test = get_unseen_test_dset()\n",
    "preds_list = []\n",
    "\n",
    "for lr_adj in unseen_test:\n",
    "    all_zeros_lr = not np.any(lr_adj)\n",
    "\n",
    "    if all_zeros_lr == False: #choose representative subject\n",
    "        lr_adj = torch.from_numpy(lr_adj).type(torch.FloatTensor)\n",
    "        preds,a,b,c = model(lr_adj)\n",
    "        preds = unpad(preds, hps.padding)\n",
    "\n",
    "    preds_list.append(preds.detach().numpy())"
   ]
  },
  {
   "cell_type": "code",
   "execution_count": 14,
   "metadata": {},
   "outputs": [],
   "source": [
    "vectorizer = MatrixVectorizer()\n",
    "\n",
    "res = []\n",
    "\n",
    "for hr in preds_list:\n",
    "    res.append(vectorizer.vectorize(hr))"
   ]
  },
  {
   "cell_type": "code",
   "execution_count": 15,
   "metadata": {},
   "outputs": [],
   "source": [
    "flattened_array = np.concatenate(res)\n",
    "df = pd.DataFrame({\n",
    "    'ID': np.arange(1, len(flattened_array) + 1),\n",
    "    'Predicted': flattened_array\n",
    "})\n",
    "\n",
    "df.to_csv('submission_resnet.csv', index=False)"
   ]
  }
 ],
 "metadata": {
  "kernelspec": {
   "display_name": "Python 3",
   "language": "python",
   "name": "python3"
  },
  "language_info": {
   "codemirror_mode": {
    "name": "ipython",
    "version": 3
   },
   "file_extension": ".py",
   "mimetype": "text/x-python",
   "name": "python",
   "nbconvert_exporter": "python",
   "pygments_lexer": "ipython3",
   "version": "3.11.8"
  }
 },
 "nbformat": 4,
 "nbformat_minor": 2
}
