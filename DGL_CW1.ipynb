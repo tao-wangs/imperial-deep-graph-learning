{
 "cells": [
  {
   "cell_type": "markdown",
   "id": "jWAqfqlcc5O4",
   "metadata": {
    "id": "jWAqfqlcc5O4"
   },
   "source": [
    "# DGL CW1\n",
    "Hi everyone, good luck on the first CW of the DGL course. Please do not hesitate to ask your questions on EdStem if you have any.\n",
    "\n",
    "## Questions\n",
    "1. Centrality-based Graph Classification (25 points)\n",
    "2. Implementation of GraphSAGE with Node Sampling (30 points)\n",
    "3. Attention-based aggregation in node classification (30 points)\n",
    "4. Propagation rule integrating edge features/embeddings (15 points)\n",
    "5. Bonus Questions (5 points)\n",
    "\n",
    "## Submission Instructions\n",
    "For submission, you only need to submit your Jupyter Notebook file named \"CID.ipynb\"\n"
   ]
  },
  {
   "cell_type": "markdown",
   "id": "3JNrkaurjfpM",
   "metadata": {
    "id": "3JNrkaurjfpM"
   },
   "source": [
    "# Required Libraries and Imports"
   ]
  },
  {
   "cell_type": "code",
   "execution_count": 2,
   "id": "vZCmHCdxjn4I",
   "metadata": {
    "id": "vZCmHCdxjn4I"
   },
   "outputs": [
    {
     "name": "stdout",
     "output_type": "stream",
     "text": [
      "Requirement already satisfied: dgl in c:\\users\\taow\\appdata\\local\\packages\\pythonsoftwarefoundation.python.3.11_qbz5n2kfra8p0\\localcache\\local-packages\\python311\\site-packages (2.0.0)Note: you may need to restart the kernel to use updated packages.\n",
      "\n",
      "Requirement already satisfied: numpy>=1.14.0 in c:\\users\\taow\\appdata\\local\\packages\\pythonsoftwarefoundation.python.3.11_qbz5n2kfra8p0\\localcache\\local-packages\\python311\\site-packages (from dgl) (1.26.0)\n",
      "Requirement already satisfied: scipy>=1.1.0 in c:\\users\\taow\\appdata\\local\\packages\\pythonsoftwarefoundation.python.3.11_qbz5n2kfra8p0\\localcache\\local-packages\\python311\\site-packages (from dgl) (1.11.3)\n",
      "Requirement already satisfied: networkx>=2.1 in c:\\users\\taow\\appdata\\local\\packages\\pythonsoftwarefoundation.python.3.11_qbz5n2kfra8p0\\localcache\\local-packages\\python311\\site-packages (from dgl) (3.2)\n",
      "Requirement already satisfied: requests>=2.19.0 in c:\\users\\taow\\appdata\\local\\packages\\pythonsoftwarefoundation.python.3.11_qbz5n2kfra8p0\\localcache\\local-packages\\python311\\site-packages (from dgl) (2.31.0)\n",
      "Requirement already satisfied: tqdm in c:\\users\\taow\\appdata\\local\\packages\\pythonsoftwarefoundation.python.3.11_qbz5n2kfra8p0\\localcache\\local-packages\\python311\\site-packages (from dgl) (4.66.1)\n",
      "Requirement already satisfied: psutil>=5.8.0 in c:\\users\\taow\\appdata\\local\\packages\\pythonsoftwarefoundation.python.3.11_qbz5n2kfra8p0\\localcache\\local-packages\\python311\\site-packages (from dgl) (5.9.5)\n",
      "Requirement already satisfied: torchdata>=0.5.0 in c:\\users\\taow\\appdata\\local\\packages\\pythonsoftwarefoundation.python.3.11_qbz5n2kfra8p0\\localcache\\local-packages\\python311\\site-packages (from dgl) (0.7.1)\n",
      "Requirement already satisfied: charset-normalizer<4,>=2 in c:\\users\\taow\\appdata\\local\\packages\\pythonsoftwarefoundation.python.3.11_qbz5n2kfra8p0\\localcache\\local-packages\\python311\\site-packages (from requests>=2.19.0->dgl) (3.3.2)\n",
      "Requirement already satisfied: idna<4,>=2.5 in c:\\users\\taow\\appdata\\local\\packages\\pythonsoftwarefoundation.python.3.11_qbz5n2kfra8p0\\localcache\\local-packages\\python311\\site-packages (from requests>=2.19.0->dgl) (3.6)\n",
      "Requirement already satisfied: urllib3<3,>=1.21.1 in c:\\users\\taow\\appdata\\local\\packages\\pythonsoftwarefoundation.python.3.11_qbz5n2kfra8p0\\localcache\\local-packages\\python311\\site-packages (from requests>=2.19.0->dgl) (2.1.0)\n",
      "Requirement already satisfied: certifi>=2017.4.17 in c:\\users\\taow\\appdata\\local\\packages\\pythonsoftwarefoundation.python.3.11_qbz5n2kfra8p0\\localcache\\local-packages\\python311\\site-packages (from requests>=2.19.0->dgl) (2023.11.17)\n",
      "Requirement already satisfied: torch>=2 in c:\\users\\taow\\appdata\\local\\packages\\pythonsoftwarefoundation.python.3.11_qbz5n2kfra8p0\\localcache\\local-packages\\python311\\site-packages (from torchdata>=0.5.0->dgl) (2.1.2)\n",
      "Requirement already satisfied: colorama in c:\\users\\taow\\appdata\\local\\packages\\pythonsoftwarefoundation.python.3.11_qbz5n2kfra8p0\\localcache\\local-packages\\python311\\site-packages (from tqdm->dgl) (0.4.6)\n",
      "Requirement already satisfied: filelock in c:\\users\\taow\\appdata\\local\\packages\\pythonsoftwarefoundation.python.3.11_qbz5n2kfra8p0\\localcache\\local-packages\\python311\\site-packages (from torch>=2->torchdata>=0.5.0->dgl) (3.13.1)\n",
      "Requirement already satisfied: typing-extensions in c:\\users\\taow\\appdata\\local\\packages\\pythonsoftwarefoundation.python.3.11_qbz5n2kfra8p0\\localcache\\local-packages\\python311\\site-packages (from torch>=2->torchdata>=0.5.0->dgl) (4.8.0)\n",
      "Requirement already satisfied: sympy in c:\\users\\taow\\appdata\\local\\packages\\pythonsoftwarefoundation.python.3.11_qbz5n2kfra8p0\\localcache\\local-packages\\python311\\site-packages (from torch>=2->torchdata>=0.5.0->dgl) (1.12)\n",
      "Requirement already satisfied: jinja2 in c:\\users\\taow\\appdata\\local\\packages\\pythonsoftwarefoundation.python.3.11_qbz5n2kfra8p0\\localcache\\local-packages\\python311\\site-packages (from torch>=2->torchdata>=0.5.0->dgl) (3.1.2)\n",
      "Requirement already satisfied: fsspec in c:\\users\\taow\\appdata\\local\\packages\\pythonsoftwarefoundation.python.3.11_qbz5n2kfra8p0\\localcache\\local-packages\\python311\\site-packages (from torch>=2->torchdata>=0.5.0->dgl) (2023.10.0)\n",
      "Requirement already satisfied: MarkupSafe>=2.0 in c:\\users\\taow\\appdata\\local\\packages\\pythonsoftwarefoundation.python.3.11_qbz5n2kfra8p0\\localcache\\local-packages\\python311\\site-packages (from jinja2->torch>=2->torchdata>=0.5.0->dgl) (2.1.3)\n",
      "Requirement already satisfied: mpmath>=0.19 in c:\\users\\taow\\appdata\\local\\packages\\pythonsoftwarefoundation.python.3.11_qbz5n2kfra8p0\\localcache\\local-packages\\python311\\site-packages (from sympy->torch>=2->torchdata>=0.5.0->dgl) (1.3.0)\n"
     ]
    },
    {
     "name": "stderr",
     "output_type": "stream",
     "text": [
      "\n",
      "[notice] A new release of pip is available: 23.3.2 -> 24.0\n",
      "[notice] To update, run: C:\\Users\\taow\\AppData\\Local\\Microsoft\\WindowsApps\\PythonSoftwareFoundation.Python.3.11_qbz5n2kfra8p0\\python.exe -m pip install --upgrade pip\n"
     ]
    }
   ],
   "source": [
    "%pip install dgl"
   ]
  },
  {
   "cell_type": "code",
   "execution_count": 3,
   "id": "DBqqR7fPjqKq",
   "metadata": {
    "id": "DBqqR7fPjqKq"
   },
   "outputs": [
    {
     "name": "stdout",
     "output_type": "stream",
     "text": [
      "CUDA not available. Using CPU.\n"
     ]
    }
   ],
   "source": [
    "# Standard library imports\n",
    "import random\n",
    "import math\n",
    "import copy\n",
    "import time\n",
    "\n",
    "# Data handling, numerical processing, and visualization\n",
    "import numpy as np\n",
    "import pandas as pd\n",
    "import matplotlib.pyplot as plt\n",
    "import seaborn as sns\n",
    "\n",
    "# Machine learning, neural network modules, and metrics\n",
    "import torch\n",
    "import torch.nn as nn\n",
    "import torch.nn.functional as F\n",
    "from torch import optim\n",
    "from torch.utils.data import Dataset, DataLoader\n",
    "from sklearn.metrics import accuracy_score, precision_score, recall_score, f1_score, confusion_matrix, euclidean_distances\n",
    "from sklearn.model_selection import train_test_split\n",
    "from sklearn.decomposition import PCA\n",
    "\n",
    "# Graph processing\n",
    "import networkx as nx\n",
    "\n",
    "# DGL and datasets\n",
    "from dgl.data import PPIDataset, CoraGraphDataset\n",
    "\n",
    "# Set a fixed random seed for reproducibility across multiple libraries\n",
    "random_seed = 42\n",
    "random.seed(random_seed)\n",
    "np.random.seed(random_seed)\n",
    "torch.manual_seed(random_seed)\n",
    "\n",
    "# Check for CUDA (GPU support) and set device accordingly\n",
    "if torch.cuda.is_available():\n",
    "    device = torch.device(\"cuda\")\n",
    "    print(\"CUDA is available. Using GPU.\")\n",
    "    torch.cuda.manual_seed(random_seed)\n",
    "    torch.cuda.manual_seed_all(random_seed)  # For multi-GPU setups\n",
    "    # Additional settings for ensuring reproducibility on CUDA\n",
    "    torch.backends.cudnn.deterministic = True\n",
    "    torch.backends.cudnn.benchmark = False\n",
    "else:\n",
    "    device = torch.device(\"cpu\")\n",
    "    print(\"CUDA not available. Using CPU.\")\n"
   ]
  },
  {
   "cell_type": "markdown",
   "id": "LQ7SGGtic5O6",
   "metadata": {
    "id": "LQ7SGGtic5O6"
   },
   "source": [
    "# 1) Centrality-based Graph Classification (25 points)"
   ]
  },
  {
   "cell_type": "markdown",
   "id": "DeiwfbLOc5O7",
   "metadata": {
    "id": "DeiwfbLOc5O7"
   },
   "source": [
    "## Part 1: Implementing and Analyzing PageRank Centrality\n",
    "\n",
    "### Objective\n",
    "The goal of this task is to enhance your comprehension of the PageRank centrality algorithm through hands-on implementation. You are tasked with coding the algorithm from the ground up and applying it to two specific graphs, named $G1$ and $G2$. Following the application, you will analyze and compare the PageRank distributions between these two graphs.\n",
    "\n",
    "### Total Points: 10\n",
    "\n",
    "---\n",
    "\n",
    "### Instructions\n",
    "\n",
    "#### 1. **Implement the PageRank Algorithm**\n",
    "\n",
    "- **Initialization**: Assign an equal PageRank to every node initially. For a graph containing $N$ nodes, each node's starting PageRank is $1/N$.\n",
    "\n",
    "- **Calculation**: Update each node's PageRank by employing the formula:\n",
    "  $$PR(p_i) = \\frac{1-d}{N} + d \\sum_{p_j \\in M(p_i)} \\frac{PR(p_j)}{L(p_j)}$$\n",
    "  where:\n",
    "  - $PR(p_i)$ denotes the PageRank of page $p_i$,\n",
    "  - $d$ represents the damping factor, usually set at 0.85,\n",
    "  - $N$ is the total count of nodes within the graph,\n",
    "  - $M(p_i)$ encompasses the set of nodes linking to $p_i$,\n",
    "  - $L(p_j)$ signifies the number of outbound links from node $p_j$.\n",
    "\n",
    "- **Convergence**: Continuously recalculate until the PageRank values reach a stable condition, evidenced by negligible changes between successive iterations.\n",
    "\n",
    "#### 2. **Pre-defined Graphs G1 and G2**\n",
    "\n",
    "- You have access to two graphs, $G1$ and $G2$, within your environment. These will serve as your experimental subjects for the PageRank algorithm application.\n",
    "\n",
    "#### 3. **Calculate PageRank Values**\n",
    "\n",
    "- Implement your PageRank algorithm on both $G1$ and $G2$ to determine the PageRank values for their respective nodes.\n",
    "\n",
    "#### 4. **Visualize the Results**\n",
    "\n",
    "- Create plots to showcase the PageRank value distributions for $G1$ and $G2$. Apply a transparent blue overlay for $G1$ and a transparent red for $G2$, facilitating an effortless comparison.\n",
    "\n",
    "#### 5. **Analysis**\n",
    "\n",
    "- **Reflect** upon the PageRank distribution variances between $G1$ and $G2$, pondering over:\n",
    "  - The impact of $G1$ and $G2$ structures on their PageRank distributions.\n",
    "  - Whether the PageRank values are more clustered or dispersed in one graph relative to the other.\n",
    "  - The presence of any nodes that emerge as notably more central within their graphs.\n",
    "\n",
    "### Comment Section\n",
    "\n",
    "- **Discuss** the insights and observations derived from juxtaposing the PageRank distributions of $G1$ and $G2$. Highlight any discerned patterns or anomalies, and deliberate on how each graph's inherent structure could elucidate these findings.\n",
    "\n",
    "---\n"
   ]
  },
  {
   "cell_type": "markdown",
   "id": "2c35ffa3",
   "metadata": {},
   "source": [
    "**Analysis Answer**\n",
    "\n",
    "In $G1$, we see that there are a significant number of nodes with a low PageRank value, and the frequency gradually decreases as the PageRank value increases. This could suggest that $G1$ has a more hierarchical or in-bound link structure where many nodes point to a few central nodes. \n",
    "\n",
    "In $G2$, the distribution is more uniform across a range of PageRank values, suggesting a more evenly distributed link structure where the importance is more spread out among nodes rather than being concentrated at a few. \n",
    "\n",
    "$G1$'s PageRank values are more clustered towards the lower end of the PageRank valures, indicating that most nodes have a lower importance. $G2$'s PageRank values are more dispersed across the spectrum of values, implying that there's a more even distribution of importance or that the graph is less hierarchical than $G1$. \n",
    "\n",
    "In $G1$, there are fewer nodes with higher PageRank values, which could indicate the presence of some nodes that are significantly more central than the rest. This is because as we go towards the higher PageRank values, the frequency of nodes with that value decreases, which is typical for a scale-free network where few nodes have many connections. \n",
    "\n",
    "In $G2$, we do not see a sharp drop-off in the frequency as PageRank values increase, which may suggest there are not as many standout central nodes as in $G1$, or if they are present, their PageRank values are not as significantly higher than the rest of the nodes. \n",
    "\n",
    "In summary, $G1$ seems to have a more centralized structure with a few nodes having much higher importance than the rest. In contrast, $G2$ has a more decentralized structure with a more uniform distribution of PageRank values across its nodes.\n",
    "\n",
    "**Comment Answer**\n",
    "\n",
    "Knowing both $G1$ and $G2$ are both generated with the same Erdős-Rényi model parameters (100 nodes, 0.05 edge creation probability, and directed) we offer the following insights. n the histogram, if one graph shows a few nodes with significantly higher PageRank values, it suggests the random process may have resulted in the formation of hubs – nodes with a disproportionately high number of inbound links. These hubs can greatly influence the overall connectivity and information flow within the graph, and their existence is an important structural characteristic. A more clustered distribution (as seen in $G1$) suggests that the graph may have a more pronounced hierarchical structure with several small nodes linking to bigger hubs. A more dispersed distribution (as seen in $G2$) indicates a more balanced structure, where influence is more evenly spread across the network and no single node overwhelmingly dominates. The overall connectivity of the graph, which includes the number of nodes with in-links and out-links, will affect the PageRank. A node with a high number of in-links from other highly ranked nodes will itself have a high PageRank. The histograms show how these connections are distributed across each graph."
   ]
  },
  {
   "cell_type": "code",
   "execution_count": 14,
   "id": "2f0c276d",
   "metadata": {},
   "outputs": [
    {
     "data": {
      "image/png": "[encoded data removed]",
      "text/plain": [
       "<Figure size 640x480 with 1 Axes>"
      ]
     },
     "metadata": {},
     "output_type": "display_data"
    }
   ],
   "source": [
    "def initialize_page_rank(graph):\n",
    "    \"\"\"\n",
    "    Initialize the PageRank scores for all nodes in a graph.\n",
    "    \n",
    "    #TODO: Implement this function to initialize PageRank scores for each node.\n",
    "    - Assume each node has an equal initial PageRank value.\n",
    "    - The function takes a graph as input and returns a dictionary with nodes as keys and initial PageRank scores as values.\n",
    "    \"\"\"\n",
    "    N = len(graph)\n",
    "    scores = {node: 1/N for node in graph.keys()}\n",
    "    \n",
    "    return scores\n",
    "    \n",
    "\n",
    "def calculate_page_rank(graph, d=0.85, max_iterations=100, tol=1e-6):\n",
    "    \"\"\"\n",
    "    Calculate the PageRank scores for all nodes in the graph using the iterative PageRank formula.\n",
    "    \n",
    "    #TODO: Implement this function to calculate the PageRank scores.\n",
    "    - Use the iterative PageRank algorithm with the damping factor `d`.\n",
    "    - Continue iterating until the change in PageRank scores is below `tol` or until `max_iterations` is reached.\n",
    "    - The function returns a dictionary with nodes as keys and their PageRank scores as values.\n",
    "    \"\"\"\n",
    "    N = len(graph)\n",
    "    scores = initialize_page_rank(graph)\n",
    "\n",
    "    for _ in range(max_iterations):\n",
    "        new_scores = dict.fromkeys(graph.keys(), 0)\n",
    "\n",
    "        for node in graph.keys():\n",
    "            # find node's predecessors \n",
    "            predecessors = [pred for pred, successors in graph.items() if node in successors]\n",
    "            # update rule \n",
    "            rank_sum = sum([scores[p] / len(graph[p]) if len(graph[p]) > 0 else 0 for p in predecessors])\n",
    "            new_scores[node] = (1 - d) / N + d * rank_sum\n",
    "\n",
    "        # check convergence criteria \n",
    "        if np.allclose(list(scores.values()), list(new_scores.values()), atol=tol):\n",
    "            break\n",
    "        \n",
    "        # update new page rank scores\n",
    "        scores = new_scores\n",
    "    \n",
    "    return scores\n",
    "\n",
    "\n",
    "def visualize_distributions(page_ranks_g1, page_ranks_g2):\n",
    "    \"\"\"\n",
    "    Visualizes the distributions of PageRank values for two graphs on the same histogram for comparison.\n",
    "    \n",
    "    #TODO: Implement this function to visualize the distributions of PageRank values.\n",
    "    - Use a histogram to compare the PageRank distributions of two different graphs.\n",
    "    - Customize the plot with labels, titles, and a legend.\n",
    "    \"\"\"\n",
    "    values_g1 = list(page_ranks_g1.values())\n",
    "    values_g2 = list(page_ranks_g2.values())\n",
    "\n",
    "    plt.hist(values_g1, alpha=0.5, label='Graph 1 PageRanks', bins='auto')\n",
    "    plt.hist(values_g2, alpha=0.5, label='Graph 2 PageRanks', bins='auto')\n",
    "\n",
    "    plt.title('Comparison of PageRank Distributions')\n",
    "    plt.xlabel('PageRank Value')\n",
    "    plt.ylabel('Frequency')\n",
    "\n",
    "    plt.legend()\n",
    "    plt.show()\n",
    "\n",
    "# Generating larger graphs G1 and G2 with more complexity\n",
    "G1 = nx.fast_gnp_random_graph(100, 0.05, directed=True)\n",
    "G2 = nx.fast_gnp_random_graph(100, 0.05, directed=True)\n",
    "\n",
    "# Convert NetworkX graphs to adjacency lists\n",
    "graph_g1 = {n: list(G1.successors(n)) for n in G1.nodes()}\n",
    "graph_g2 = {n: list(G2.successors(n)) for n in G2.nodes()}\n",
    "\n",
    "#TODO: Use the `calculate_page_rank` function to calculate PageRank values for `graph_g1` and `graph_g2`.\n",
    "#TODO: Use the `visualize_distributions` function to compare the PageRank distributions of `graph_g1` and `graph_g2`.\n",
    "g1_scores = calculate_page_rank(graph_g1)\n",
    "g2_scores = calculate_page_rank(graph_g2)\n",
    "\n",
    "visualize_distributions(g1_scores, g2_scores)"
   ]
  },
  {
   "cell_type": "markdown",
   "id": "a64518e3",
   "metadata": {},
   "source": [
    "I have left the test script from EdStem below for your ease of marking :)"
   ]
  },
  {
   "cell_type": "code",
   "execution_count": 13,
   "id": "e57c8c95",
   "metadata": {},
   "outputs": [
    {
     "name": "stdout",
     "output_type": "stream",
     "text": [
      "Test Case                 | Accuracy Score \n",
      "------------------------------------------\n",
      "Simple Chain              | 9.3695326875   \n",
      "Star Graph                | 9.999996653768559\n",
      "Cycle                     | 10.0           \n",
      "Complete Graph            | 10.0           \n",
      "Graph with Sink Node      | 10.0           \n",
      "Disconnected Graph        | 9.271125       \n",
      "Large Sparse Graph        | 9.35959943387916\n",
      "------------------------------------------\n",
      "Average Accuracy          | 9.71           \n"
     ]
    }
   ],
   "source": [
    "import numpy as np\n",
    "import networkx as nx\n",
    "import time\n",
    "\n",
    "def calculate_expected_page_rank(nx_graph):\n",
    "    \"\"\"\n",
    "    Calculate the expected PageRank values using NetworkX for comparison.\n",
    "\n",
    "    Parameters:\n",
    "        nx_graph (networkx.Graph): The NetworkX graph object.\n",
    "\n",
    "    Returns:\n",
    "        dict: A dictionary with nodes as keys and their PageRank scores as values.\n",
    "    \"\"\"\n",
    "    return nx.pagerank(nx_graph, alpha=0.85)\n",
    "\n",
    "def compare_page_rank(student_output, expected_output):\n",
    "    \"\"\"\n",
    "    Compare the student's PageRank output with the expected output.\n",
    "\n",
    "    Parameters:\n",
    "        student_output (dict): The PageRank scores computed by the student's function.\n",
    "        expected_output (dict): The expected PageRank scores computed by NetworkX.\n",
    "\n",
    "    Returns:\n",
    "        float: The total absolute difference between the student's and expected PageRank scores.\n",
    "    \"\"\"\n",
    "    diff = sum(abs(student_output[node] - expected_output.get(node, 0)) for node in student_output)\n",
    "    return diff\n",
    "\n",
    "def grade_student_implementation(student_func, graph):\n",
    "    \"\"\"\n",
    "    Grades the student's PageRank implementation by comparing its output against expected values from NetworkX.\n",
    "\n",
    "    Parameters:\n",
    "        student_func (function): The student's PageRank function to be graded.\n",
    "        graph (dict): The graph represented as an adjacency list on which the student's function will be tested.\n",
    "\n",
    "    Returns:\n",
    "        tuple: A tuple containing the accuracy score and efficiency score.\n",
    "    \"\"\"\n",
    "    nx_graph = nx.DiGraph(graph)\n",
    "    expected_output = calculate_expected_page_rank(nx_graph)\n",
    "\n",
    "    start_time = time.time()\n",
    "    student_output = student_func(graph)\n",
    "    execution_time = time.time() - start_time\n",
    "\n",
    "    diff = compare_page_rank(student_output, expected_output)\n",
    "    #print('diff = ', diff)\n",
    "    accuracy_score = max(0, 10 - diff)  # Adjusted accuracy scoring formula\n",
    "    efficiency_score = max(0, min(5, 5 - execution_time))  # Ensures efficiency scores are within a 0-5 range\n",
    "\n",
    "    return accuracy_score, efficiency_score\n",
    "\n",
    "def generate_test_graphs():\n",
    "    np.random.seed(42)  # Setting a seed for reproducibility\n",
    "    test_cases = {\n",
    "        \"Simple Chain\": nx.path_graph(5, create_using=nx.DiGraph()),\n",
    "        \"Star Graph\": nx.DiGraph(nx.star_graph(4)),  # Convert to DiGraph after creation\n",
    "        \"Cycle\": nx.cycle_graph(5, create_using=nx.DiGraph()),\n",
    "        \"Complete Graph\": nx.complete_graph(5, create_using=nx.DiGraph()),\n",
    "        \"Graph with Sink Node\": nx.DiGraph([(0, 1), (1, 2), (2, 2)]),\n",
    "        \"Disconnected Graph\": nx.disjoint_union_all([nx.path_graph(3, create_using=nx.DiGraph()),\n",
    "                                                     nx.path_graph(3, create_using=nx.DiGraph())]),\n",
    "        \"Large Sparse Graph\": nx.fast_gnp_random_graph(100, 0.01, directed=True, seed=np.random.randint(1000))\n",
    "    }\n",
    "    return test_cases\n",
    "\n",
    "\n",
    "if __name__ == \"__main__\":\n",
    "    test_graphs = generate_test_graphs()\n",
    "    accuracies = []\n",
    "    for name, graph in test_graphs.items():\n",
    "        graph_adj_list = {n: list(graph.successors(n)) for n in graph.nodes()}\n",
    "        accuracy, _ = grade_student_implementation(calculate_page_rank, graph_adj_list)\n",
    "        accuracies.append((name, accuracy))\n",
    "    \n",
    "    # Print the accuracies in a tabular format\n",
    "    print(f\"{'Test Case':<25} | {'Accuracy Score':<15}\")\n",
    "    print(\"-\" * 42)  # Adjust the length based on your column widths\n",
    "    for name, accuracy in accuracies:\n",
    "        print(f\"{name:<25} | {accuracy:<15}\")\n",
    "\n",
    "    # Calculate and print the average accuracy score\n",
    "    average_accuracy = sum(score for _, score in accuracies) / len(accuracies)\n",
    "    print(\"-\" * 42)  # Separator for the average\n",
    "    print(f\"{'Average Accuracy':<25} | {average_accuracy:<15.2f}\")\n"
   ]
  },
  {
   "cell_type": "markdown",
   "id": "755b005c",
   "metadata": {},
   "source": [
    "\n",
    "## Part 2: Graph Convolutional Networks (GCN) for Graph Classification\n",
    "\n",
    "### Objective\n",
    "\n",
    "Your main objective is to modify the degree-based propagation rule using the following topological measures for normalization:\n",
    "1. **PageRank Centrality**: Utilize the PageRank centrality implementation from Part 1.\n",
    "2. **Betweenness Centrality**: Implement normalization using Betweenness centrality, which can be calculated using NetworkX.\n",
    "3. **Clustering Coefficient**: Implement normalization using the Clustering coefficient, available through NetworkX.\n",
    "\n",
    "For each normalization technique, you will develop a separate GCN model, resulting in four different GNN models including the original degree-based model.\n",
    "\n",
    "### Total Points: 15\n",
    "\n",
    "---\n",
    "\n",
    "### Instructions\n",
    "\n",
    "#### 1. **Implement a 2-Layer GCN**\n",
    "- **Graph Representation**: Begin with the simple node degree normalization for your initial GCN implementation. Specifically, employ the normalization technique $D^{-1}A$ where $D$ is the degree matrix and $A$ is the adjacency matrix of the graph.\n",
    "- **GCN Propagation Rule**: Implement the GCN layer using the updated propagation rule:\n",
    "  $$H^{(l+1)} = \\sigma(D^{-1}AH^{(l)}W^{(l)})$$\n",
    "  Here, $H^{(l)}$ represents the node features at layer $l$, $W^{(l)}$ is the weight matrix at layer $l$, and $\\sigma$ denotes a non-linear activation function, such as ReLU.\n",
    "- **Architecture**: Design your GCN with two convolutional layers following this propagation rule. Conclude with a Mean Pooling layer to aggregate node embeddings for graph-level prediction.\n",
    "- **Prediction Head**: Develop a prediction head that processes the pooled graph representation to classify the graph.\n",
    "\n",
    "#### 2. **Topological Measures for Normalization**\n",
    "Adapt the degree-based propagation rule to incorporate the following topological measures:\n",
    "- **PageRank Centrality**: Leverage the PageRank centrality implementation from Part 1.\n",
    "- **Betweenness Centrality and Clustering Coefficient**: Use NetworkX to compute these centrality measures for each node, applying them as normalization factors in the GCN propagation rule.\n",
    "\n",
    "#### 3. **Data Preparation**\n",
    "- Ensure the train and test sets are fixed to guarantee consistent evaluation across the different normalization techniques.\n",
    "\n",
    "#### 4. **Model Training and Evaluation**\n",
    "- Independently train a GCN model for each normalization technique.\n",
    "- Assess the performance of each model, focusing on accuracy, sensitivity, and specificity.\n",
    "\n",
    "#### 5. **Analysis of Embedding Distributions and Classification Results**\n",
    "- **Embedding Distributions**: Employ PCA to reduce the dimensionality of embeddings obtained from the final layer (Layer 2) of each GCN model, and visualize these distributions.\n",
    "- **Classification Results**: Contrast the accuracy, sensitivity, and specificity results among the four models.\n",
    "\n",
    "### Comment Section\n",
    "\n",
    "Engage in discussion on the following topics based on your analysis:\n",
    "- **Comparative Analysis**: Examine how the embedding distributions and classification outcomes differ with each normalization technique.\n",
    "- **Interpretation of Results**: Reflect on the performances of GCN models under different topological normalizations. Consider how PageRank centrality, betweenness centrality, and clustering coefficient influence the embeddings and classification capabilities of the models.\n",
    "\n",
    "Delve into the reasons behind the performances observed and theorize how the distinct topological characteristics of graphs may affect GCN model efficacy. Ponder the impact of each normalization method on feature propagation within the network and its capacity to harness the structural information of the graph for classification purposes.\n"
   ]
  },
  {
   "cell_type": "markdown",
   "id": "acedd480",
   "metadata": {},
   "source": [
    "## 1.1 Dataset "
   ]
  },
  {
   "cell_type": "code",
   "execution_count": 50,
   "id": "8debb0c3",
   "metadata": {},
   "outputs": [
    {
     "data": {
      "image/png": "[encoded data removed]",
      "text/plain": [
       "<Figure size 1500x500 with 3 Axes>"
      ]
     },
     "metadata": {},
     "output_type": "display_data"
    }
   ],
   "source": [
    "def create_random_molecule_graph(num_atoms=9, num_bonds=12):\n",
    "    \"\"\"\n",
    "    Creates a random molecular graph with a specified number of atoms and bonds.\n",
    "\n",
    "    Args:\n",
    "        num_atoms (int): The number of atoms in the molecule.\n",
    "        num_bonds (int): The number of bonds between atoms in the molecule.\n",
    "\n",
    "    Returns:\n",
    "        (nx.Graph, list): A tuple containing the generated molecular graph and the list of atom labels.\n",
    "    \"\"\"\n",
    "    G = nx.Graph()\n",
    "    atom_labels = [f\"{i}:{random.choice(['H', 'C', 'O'])}\" for i in range(num_atoms)]\n",
    "    G.add_nodes_from(atom_labels)\n",
    "\n",
    "    for _ in range(num_bonds):\n",
    "        atom1, atom2 = random.choice(atom_labels), random.choice(atom_labels)\n",
    "        while atom1 == atom2 or G.has_edge(atom1, atom2):\n",
    "            atom1, atom2 = random.choice(atom_labels), random.choice(atom_labels)\n",
    "        G.add_edge(atom1, atom2)\n",
    "\n",
    "    return G, atom_labels\n",
    "\n",
    "def classify_molecule(G):\n",
    "    \"\"\"\n",
    "    Classifies a molecule into type 1 or type 2 based on more complex criteria (without considering nitrogen).\n",
    "\n",
    "    Args:\n",
    "        G (nx.Graph): The molecular graph.\n",
    "\n",
    "    Returns:\n",
    "        int: The type of molecule (0 or 1).\n",
    "    \"\"\"\n",
    "    atom_labels = list(G.nodes)\n",
    "    num_carbon = sum(1 for label in atom_labels if label.endswith(\":C\"))\n",
    "    num_oxygen = sum(1 for label in atom_labels if label.endswith(\":O\"))\n",
    "    num_hydrogen = sum(1 for label in atom_labels if label.endswith(\":H\"))\n",
    "    num_bonds = len(G.edges)\n",
    "\n",
    "    # Define more complex criteria for classification\n",
    "    if num_oxygen >= 2 and num_hydrogen >= 3 and num_carbon >= 2 and num_bonds >= 4:\n",
    "        return 1\n",
    "    elif num_oxygen >= 1 and num_carbon >= 3 and num_hydrogen >= 2 and num_bonds >= 3:\n",
    "        return 0\n",
    "    else:\n",
    "        return 2\n",
    "\n",
    "\n",
    "def generate_balanced_molecule_dataset(num_samples_per_type):\n",
    "    \"\"\"\n",
    "    Generates a balanced dataset of random molecule graphs.\n",
    "\n",
    "    Args:\n",
    "        num_samples_per_type (int): The number of samples per molecule type.\n",
    "\n",
    "    Returns:\n",
    "        list: A list of tuples, each containing a graph, its atom labels, and its classification.\n",
    "    \"\"\"\n",
    "    dataset = []\n",
    "    while len(dataset) < num_samples_per_type * 2:\n",
    "        G, atom_labels = create_random_molecule_graph()\n",
    "        classification = classify_molecule(G)\n",
    "        if classification in [0, 1]:\n",
    "            dataset.append((G, atom_labels, classification))\n",
    "    return dataset\n",
    "\n",
    "\n",
    "def graph_to_tensors(G, atom_labels, normalization_func=None):\n",
    "    \"\"\"\n",
    "    Converts a networkx graph of a molecule into tensor representations, with optional adjacency matrix normalization.\n",
    "\n",
    "    Args:\n",
    "        G (nx.Graph): The molecular graph.\n",
    "        atom_labels (list): List of atom labels in the molecule.\n",
    "        normalization_func (callable, optional): Function to normalize the adjacency matrix.\n",
    "\n",
    "    Returns:\n",
    "        tuple: A tuple containing the tensor representation of atom types (X) and (optionally normalized) adjacency matrix (A).\n",
    "    \"\"\"\n",
    "    atom_types = {'H': [1, 0, 0], 'C': [0, 1, 0], 'O': [0, 0, 1]}\n",
    "    X = torch.tensor([atom_types[node.split(':')[1]] for node in atom_labels], dtype=torch.float)\n",
    "\n",
    "    N = len(atom_labels)\n",
    "    A = torch.zeros((N, N), dtype=torch.float)\n",
    "    for i, j in G.edges:\n",
    "        idx1 = atom_labels.index(i)\n",
    "        idx2 = atom_labels.index(j)\n",
    "        A[idx1, idx2] = 1\n",
    "        A[idx2, idx1] = 1\n",
    "\n",
    "    if normalization_func:\n",
    "        A = normalization_func(G, A)  # Apply normalization if provided\n",
    "\n",
    "    return X, A\n",
    "\n",
    "from torch.utils.data import Dataset\n",
    "import torch\n",
    "\n",
    "class MoleculeDataset(Dataset):\n",
    "    \"\"\"\n",
    "    A custom dataset class for handling molecular graphs. Each sample in the dataset represents a molecule,\n",
    "    characterized by its graph structure and atom features, along with a classification label (e.g., for binary classification tasks).\n",
    "\n",
    "    The dataset initializes with a list of molecular data and optionally applies a normalization function to the adjacency matrix\n",
    "    of each molecule's graph. This normalization can be crucial for certain graph neural network models, affecting how the model\n",
    "    interprets the connectivity and flow of information through the graph.\n",
    "\n",
    "    Attributes:\n",
    "        dataset (list): A list of tuples, where each tuple corresponds to a molecule and contains:\n",
    "                        - A graph representation of the molecule (e.g., a `networkx` graph).\n",
    "                        - Atom labels or features as a list or array.\n",
    "                        - A classification label for the molecule.\n",
    "        normalization_func (callable, optional): A function that takes an adjacency matrix (and potentially a graph) as input\n",
    "                        and returns a normalized adjacency matrix. This can be any normalization technique, such as degree normalization,\n",
    "                        PageRank-based normalization, etc.\n",
    "\n",
    "    The class provides two main methods as part of the PyTorch `Dataset` interface:\n",
    "    - `__len__` returns the number of items in the dataset.\n",
    "    - `__getitem__` retrieves a single item from the dataset by index, applying the normalization function if provided.\n",
    "\n",
    "    #TODO: Implement the `__init__` method to initialize the dataset with the given list and normalization function.\n",
    "    - Store the provided dataset list and normalization function as instance attributes.\n",
    "\n",
    "    #TODO: Implement the `__len__` method to return the size of the dataset.\n",
    "    - This method should simply return the length of the dataset list.\n",
    "\n",
    "    #TODO: Implement the `__getitem__` method to fetch and preprocess a single graph representation from the dataset.\n",
    "    - Extract the graph `G`, atom labels `atom_labels`, and classification `classification` for the specified index `idx`.\n",
    "    - Convert the graph `G` and `atom_labels` into tensor formats suitable for graph neural networks. This often involves creating a feature matrix `X` for nodes and an adjacency matrix `A`. Use the `graph_to_tensors` function (to be implemented separately by the student) for this conversion. Apply the `normalization_func` to the adjacency matrix if provided.\n",
    "    - Convert the `classification` label into a tensor of type `torch.long`.\n",
    "    - Return the feature matrix `X`, the (optionally normalized) adjacency matrix `A`, and the label tensor.\n",
    "    \"\"\"\n",
    "    def __init__(self, dataset, normalization_func=None):\n",
    "        #TODO: Initialize the dataset and the normalization function.\n",
    "        self.dataset = dataset\n",
    "        self.normalization_func = normalization_func\n",
    "\n",
    "\n",
    "    def __len__(self):\n",
    "        #TODO: Return the number of items in the dataset.\n",
    "        return len(self.dataset)\n",
    "\n",
    "\n",
    "    def __getitem__(self, idx):\n",
    "        #TODO: Process and return a single item from the dataset as tensors.\n",
    "        G, atom_labels, classification = self.dataset[idx]\n",
    "        X, A = graph_to_tensors(G, atom_labels, self.normalization_func)\n",
    "\n",
    "        return X, A, torch.tensor(classification, dtype=torch.long)\n",
    "\n",
    "\n",
    "def prepare_data_loaders(num_samples_per_type, normalization_func=None, batch_size=10):\n",
    "    \"\"\"\n",
    "    Prepares DataLoader for training and testing datasets.\n",
    "\n",
    "    Args:\n",
    "        num_samples_per_type (int): Number of samples per class to generate.\n",
    "        normalization_func (callable, optional): Normalization function to apply to adjacency matrices.\n",
    "        batch_size (int): Size of each data batch.\n",
    "\n",
    "    Returns:\n",
    "        Tuple of DataLoader: Training and testing DataLoader objects.\n",
    "    \"\"\"\n",
    "    dataset = generate_balanced_molecule_dataset(num_samples_per_type)\n",
    "    train_dataset, test_dataset = train_test_split(dataset, test_size=0.2, random_state=random_seed)\n",
    "\n",
    "    train_dataset = MoleculeDataset(train_dataset, normalization_func=normalization_func)\n",
    "    test_dataset = MoleculeDataset(test_dataset, normalization_func=normalization_func)\n",
    "\n",
    "    train_loader = DataLoader(train_dataset, batch_size=batch_size, shuffle=True)\n",
    "    test_loader = DataLoader(test_dataset, batch_size=batch_size, shuffle=False)\n",
    "\n",
    "    return train_loader, test_loader\n",
    "\n",
    "# Your GCNLayer and GCN classes remain unchanged.\n",
    "\n",
    "# Generating a few random molecule graphs for visualization\n",
    "graphs = [create_random_molecule_graph() for _ in range(3)]\n",
    "\n",
    "# Plotting the generated graphs\n",
    "fig, axes = plt.subplots(1, 3, figsize=(15, 5))\n",
    "for i, (G, atom_labels) in enumerate(graphs):\n",
    "    pos = nx.spring_layout(G)  # Using spring layout for visual aesthetics\n",
    "    nx.draw(G, pos, with_labels=True, ax=axes[i])\n",
    "    axes[i].set_title(f\"Molecule Graph {i+1}\")\n",
    "\n",
    "plt.show()\n"
   ]
  },
  {
   "cell_type": "markdown",
   "id": "1e2ba759",
   "metadata": {},
   "source": [
    "## 1.2 Visualization Helper Functions"
   ]
  },
  {
   "cell_type": "code",
   "execution_count": 51,
   "id": "e02d5fe4",
   "metadata": {},
   "outputs": [],
   "source": [
    "def visualize_omega_distribution(layers, epochs):\n",
    "    \"\"\"\n",
    "    Visualizes the distribution of weights (Omega) in each GCN layer of the Graph Neural Network across different epochs using smooth KDE plots.\n",
    "\n",
    "    Args:\n",
    "        layers (list of tuples): Each tuple contains a layer's name and a list of arrays representing the layer's weights at different epochs.\n",
    "        epochs (list of int): List of epoch numbers corresponding to the weight arrays.\n",
    "\n",
    "    This function plots the kernel density estimation (KDE) of weight values for each layer across specified epochs, allowing for the observation of how weight distributions evolve during training.\n",
    "    \"\"\"\n",
    "    for layer_name, weight_arrays in layers:\n",
    "        plt.figure(figsize=(12, 6))\n",
    "        for i, weights in enumerate(weight_arrays):\n",
    "            omega_values = weights.flatten()  # Flatten the array to get a distribution of individual weight values\n",
    "            sns.kdeplot(omega_values, fill=True, label=f'Epoch {epochs[i]}')  # Use 'fill' for shaded KDE plots\n",
    "        plt.title(f'{layer_name} Weight Distribution Across Epochs', fontsize=16)\n",
    "        plt.xlabel('Weight Values', fontsize=12)\n",
    "        plt.ylabel('Density', fontsize=12)\n",
    "        plt.legend()\n",
    "        plt.show()\n",
    "\n",
    "\n",
    "def plot_training_losses(losses_list, normalization_names):\n",
    "    \"\"\"\n",
    "    Plots the training loss over epochs for different normalization techniques.\n",
    "\n",
    "    Args:\n",
    "        losses_list (list of lists): Each sublist contains the training losses for one normalization technique over all epochs.\n",
    "        normalization_names (list of str): Names of the normalization techniques used.\n",
    "\n",
    "    This function creates a line plot for each normalization technique's training loss over epochs, facilitating comparison of their performance.\n",
    "    \"\"\"\n",
    "    plt.figure(figsize=(10, 6))\n",
    "    for i, train_losses in enumerate(losses_list):\n",
    "        plt.plot(range(1, len(train_losses) + 1), train_losses, label=f'{normalization_names[i]} Normalization')\n",
    "    plt.title('Training Loss Over Epochs for Different Normalization Techniques', fontsize=16)\n",
    "    plt.xlabel('Epoch', fontsize=12)\n",
    "    plt.ylabel('Loss', fontsize=12)\n",
    "    plt.legend()\n",
    "    plt.grid(True)\n",
    "    plt.show()\n",
    "\n",
    "\n",
    "def plot_metric_bar_charts(names, metric_values, metric_names):\n",
    "    \"\"\"\n",
    "    Creates bar charts for different evaluation metrics across various normalization techniques.\n",
    "\n",
    "    Args:\n",
    "        names (list of str): Names of the normalization techniques.\n",
    "        metric_values (list of lists): Each sublist contains the values of a metric for each normalization technique.\n",
    "        metric_names (list of str): Names of the metrics being plotted.\n",
    "\n",
    "    This function plots a bar chart for each provided metric, comparing the performance of different normalization techniques,\n",
    "    with y-axis limits dynamically adjusted to emphasize differences while capping at 1.\n",
    "    \"\"\"\n",
    "    num_metrics = len(metric_names)\n",
    "    num_rows = num_cols = int(math.ceil(math.sqrt(num_metrics)))\n",
    "\n",
    "    sns.set(style='whitegrid', palette='muted', font_scale=1.2)\n",
    "\n",
    "    fig, axes = plt.subplots(num_rows, num_cols, figsize=(12 * num_cols, 8 * num_rows))\n",
    "    fig.subplots_adjust(hspace=0.4, wspace=0.4)\n",
    "\n",
    "    for i, metric_name in enumerate(metric_names):\n",
    "        ax = axes.flatten()[i] if num_metrics > 1 else axes\n",
    "\n",
    "        # Create DataFrame for seaborn\n",
    "        data = pd.DataFrame({\n",
    "            'Normalization Technique': np.repeat(names, len(metric_values[i])),\n",
    "            metric_name: np.concatenate([metric_values[i] for _ in names])\n",
    "        })\n",
    "\n",
    "        sns.barplot(x='Normalization Technique', y=metric_name, data=data, ax=ax, alpha=0.75)\n",
    "\n",
    "        # Dynamically adjust the y-axis limits\n",
    "        min_val = min(data[metric_name]) * 0.9  # Start slightly below the smallest value for better visibility\n",
    "        max_val = 1  # Ensuring the upper limit is 1\n",
    "        ax.set_ylim([min_val, max_val])\n",
    "\n",
    "        ax.set_xlabel('Normalization Technique', fontsize=14)\n",
    "        ax.set_ylabel(f'{metric_name} Value', fontsize=14)\n",
    "        ax.set_title(f'Comparison of {metric_name}', fontsize=16)\n",
    "        ax.tick_params(axis='x', rotation=45, labelsize=12)\n",
    "        ax.tick_params(axis='y', labelsize=12)\n",
    "\n",
    "        # Add text labels above bars\n",
    "        for p, value in zip(ax.patches, np.concatenate([metric_values[i] for _ in names])):\n",
    "            ax.text(p.get_x() + p.get_width() / 2., p.get_height(), f'{value:.2f}', ha='center', va='bottom', fontsize=10)\n",
    "\n",
    "    # Hide unused subplots if the number of metrics is less than the number of subplot positions\n",
    "    for i in range(num_metrics, num_rows * num_cols):\n",
    "        if num_rows * num_cols == 1:\n",
    "            break\n",
    "        fig.delaxes(axes.flatten()[i])\n",
    "\n",
    "    plt.tight_layout()\n",
    "    plt.show()\n",
    "\n",
    "\n",
    "def extract_embeddings(model, loader, device='cpu'):\n",
    "    \"\"\"\n",
    "    Extracts embeddings from a model given a data loader.\n",
    "\n",
    "    #TODO: Implement this function to extract embeddings from the provided model using data from the loader.\n",
    "    - Set the model to evaluation mode.\n",
    "    - Initialize lists or arrays to store embeddings and labels.\n",
    "    - Iterate over batches of data from the loader, ensuring to move the data to the specified device.\n",
    "    - For each batch, use the model to compute embeddings. If the model requires specific inputs (e.g., features and adjacency matrix), ensure they are correctly passed.\n",
    "    - Apply necessary post-processing on embeddings (e.g., mean pooling) and convert them to a suitable format (e.g., numpy array) for further analysis or visualization.\n",
    "    - Collect and store the labels associated with each embedding for potential use in tasks like visualization or analysis.\n",
    "    - Return the embeddings and labels as a tuple. Ensure embeddings are in a continuous array format suitable for analysis.\n",
    "    \n",
    "    Args:\n",
    "        model (torch.nn.Module): The trained model from which to extract embeddings.\n",
    "        loader (DataLoader): DataLoader providing batches of data for embedding extraction.\n",
    "        device (str): Device to run the model on ('cpu' or 'cuda').\n",
    "\n",
    "    Returns:\n",
    "        tuple: A tuple containing two elements. The first is a numpy array of embeddings, and the second is a list of labels associated with each embedding.\n",
    "\n",
    "    Note: This function should handle device placement (CPU or GPU) for both the data and model, and ensure gradients are not computed to optimize memory and compute resources.\n",
    "    \"\"\"\n",
    "    model.eval()  # Set the model to evaluation mode\n",
    "    embeddings = [] \n",
    "    labels = []  # Capture labels for color differentiation in PCA plots\n",
    "    with torch.no_grad(): \n",
    "        for X, A, label in loader:\n",
    "            X, A = X.to(device), A.to(device)\n",
    "            emb = model(X, A, return_embedding=True)\n",
    "            emb_mean_pooled = emb.mean(dim=1).cpu().numpy()\n",
    "            embeddings.append(emb_mean_pooled)\n",
    "            labels.extend(label.cpu().numpy())  # Store labels \n",
    "    embeddings = np.concatenate(embeddings, axis=0)\n",
    "    return embeddings, labels\n",
    "    \n",
    "\n",
    "def apply_pca_and_visualize_all_sns(embeddings_list, titles, labels_list):\n",
    "    \"\"\"\n",
    "    Applies PCA to reduce dimensionality of embeddings and visualizes them using scatter plots.\n",
    "\n",
    "    Args:\n",
    "        embeddings_list (list of np.ndarray): List of embeddings arrays to be visualized.\n",
    "        titles (list of str): Titles for each subplot, typically representing the condition or category of the embeddings.\n",
    "        labels_list (list of np.ndarray): List of label arrays corresponding to the embeddings for coloring the points.\n",
    "\n",
    "    This function reduces embeddings to two principal components using PCA and plots them, coloring points by their labels to distinguish between categories.\n",
    "    \"\"\"\n",
    "    sns.set(style='whitegrid')\n",
    "    fig, axs = plt.subplots(2, 2, figsize=(16, 12))\n",
    "    axs = axs.flatten()\n",
    "\n",
    "    for i, (embeddings, title, labels) in enumerate(zip(embeddings_list, titles, labels_list)):\n",
    "        pca = PCA(n_components=2)\n",
    "        pca_embeddings = pca.fit_transform(embeddings)\n",
    "        df = pd.DataFrame(data=pca_embeddings, columns=['PCA1', 'PCA2'])\n",
    "        df['Label'] = labels  # Add labels for coloring\n",
    "\n",
    "        sns.scatterplot(ax=axs[i], x='PCA1', y='PCA2', hue='Label', data=df, palette='viridis', alpha=0.7).set_title(title)\n",
    "        axs[i].set_xlabel('PCA Component 1')\n",
    "        axs[i].set_ylabel('PCA Component 2')\n",
    "\n",
    "    plt.tight_layout()\n",
    "    plt.show()"
   ]
  },
  {
   "cell_type": "markdown",
   "id": "a793cd23",
   "metadata": {},
   "source": [
    "## 1.3 Model "
   ]
  },
  {
   "cell_type": "code",
   "execution_count": 87,
   "id": "f1ecd9c3",
   "metadata": {},
   "outputs": [],
   "source": [
    "class GCNLayer(nn.Module):\n",
    "    \"\"\"\n",
    "    Implements a single Graph Convolutional Layer.\n",
    "\n",
    "    #TODO: Implement a GCN layer that performs graph convolution. This layer should first apply a linear transformation\n",
    "    to the node features and then utilize the adjacency matrix to incorporate neighborhood information. You will need to\n",
    "    define and initialize a weight matrix for the linear transformation of node features.\n",
    "    \n",
    "    Attributes:\n",
    "        - Define an attribute for the weight matrix.\n",
    "\n",
    "    Args:\n",
    "        - Accept the number of input features per node.\n",
    "        - Accept the number of output features per node.\n",
    "    \"\"\"\n",
    "    def __init__(self, in_features, out_features):\n",
    "        super(GCNLayer, self).__init__()\n",
    "        #TODO: Initialize the weight matrix as a torch.nn.Parameter.\n",
    "        self.weight = nn.Parameter(torch.FloatTensor(in_features, out_features))\n",
    "        self.bias = nn.Parameter(torch.zeros(out_features))\n",
    "        self.init_parameters()\n",
    "\n",
    "    def init_parameters(self):\n",
    "        #TODO: Implement a method to initialize the weights uniformly with a standard deviation based on layer size.\n",
    "        stdv = 1. / np.sqrt(self.weight.size(1))\n",
    "        self.weight.data.uniform_(-stdv, stdv)\n",
    "\n",
    "\n",
    "    def forward(self, input, adjacency):\n",
    "        \"\"\"\n",
    "        Forward pass of the GCN layer.\n",
    "        \n",
    "        #TODO: Implement the forward pass method. Apply a linear transformation to the input features and then\n",
    "        use the adjacency matrix to incorporate neighborhood information. The method should return the output feature\n",
    "        matrix after graph convolution.\n",
    "        \n",
    "        Args:\n",
    "            - input: Input feature matrix where each row represents node features.\n",
    "            - adjacency: Adjacency matrix of the graph.\n",
    "        \n",
    "        Returns:\n",
    "            - Output feature matrix after applying the graph convolution.\n",
    "        \"\"\"\n",
    "        agg = torch.matmul(adjacency, input)\n",
    "        out = torch.matmul(agg, self.weight) + self.bias\n",
    "        out = F.relu(out)\n",
    "        return out \n",
    "    \n",
    "\n",
    "class GCN(nn.Module):\n",
    "    \"\"\"\n",
    "    Implements a Graph Convolutional Network (GCN) for node classification.\n",
    "\n",
    "    #TODO: Implement a GCN model for node classification. The model should consist of two GCN layers followed by a\n",
    "    global mean pooling and a fully connected layer for classification. You need to define the GCN layers and the fully\n",
    "    connected layer in the constructor.\n",
    "    \n",
    "    Args:\n",
    "        - nfeat: Number of features for each input node.\n",
    "        - nhid: Number of hidden units for each GCN layer.\n",
    "        - nclass: Number of classes (output dimension).\n",
    "    \"\"\"\n",
    "    def __init__(self, nfeat, nhid, nclass):\n",
    "        super(GCN, self).__init__()\n",
    "        #TODO: Define the first and second graph convolutional layers and the fully connected layer for classification.\n",
    "        self.gcn1 = GCNLayer(nfeat, nhid)\n",
    "        self.gcn2 = GCNLayer(nhid, nhid)\n",
    "        self.pooling_fn = lambda x: torch.mean(x, dim=1)\n",
    "        self.fc = nn.Linear(nhid, nclass)\n",
    "\n",
    "\n",
    "    def forward(self, x, adj, return_embedding=False):\n",
    "        \"\"\"\n",
    "        Forward pass of the GCN.\n",
    "        \n",
    "        #TODO: Implement the forward pass. Apply two GCN layers with ReLU activation, perform global mean pooling,\n",
    "        and then use a fully connected layer for classification. If `return_embedding` is True, return the embedding\n",
    "        from the second GCN layer before classification.\n",
    "        \n",
    "        Args:\n",
    "            - x: Input feature matrix where each row is the feature vector of a node.\n",
    "            - adj: Adjacency matrix of the graph.\n",
    "            - return_embedding: If True, returns the embedding from the second GCN layer before classification.\n",
    "        \n",
    "        Returns:\n",
    "            - The output appropriate for your chosen loss function if return_embedding is False, otherwise\n",
    "              returns the embeddings from the second GCN layer.\n",
    "        \"\"\"\n",
    "        # we don't need to normalise adj here, because it is already normalised \n",
    "        # when we create the train/test data loaders\n",
    "        H1 = self.gcn1(x, adj)\n",
    "        H2 = self.gcn2(H1, adj)\n",
    "\n",
    "        # return the embeddings before global mean pooling if True  \n",
    "        if return_embedding:\n",
    "            return H2\n",
    "        \n",
    "        # apply global mean pooling \n",
    "        pooled = self.pooling_fn(H2)\n",
    "        out = self.fc(pooled)\n",
    "        return out\n",
    "\n"
   ]
  },
  {
   "cell_type": "markdown",
   "id": "33a96b83",
   "metadata": {},
   "source": [
    "## 1.4 Normalization Methods"
   ]
  },
  {
   "cell_type": "code",
   "execution_count": 88,
   "id": "1dec72e2",
   "metadata": {},
   "outputs": [],
   "source": [
    "def compute_degree_matrix_normalization(G, adjacency):\n",
    "    \"\"\"\n",
    "    Computes the degree matrix normalization D^-1 * A for the given graph.\n",
    "\n",
    "    #TODO: Implement this function to normalize the adjacency matrix by the inverse degree of each node.\n",
    "    - Calculate the degree for each node.\n",
    "    - Compute the inverse degree matrix D^-1.\n",
    "    - Normalize the adjacency matrix using D^-1 * A.\n",
    "    - Ensure to handle cases with isolated nodes by adding a small epsilon to the degrees to prevent division by zero.\n",
    "    - Convert and return the normalized adjacency matrix as a PyTorch tensor.\n",
    "    \"\"\"\n",
    "    epsilon = 1e-5 # Small constant to avoid division by zero \n",
    "    D_inv = torch.diag(1.0 / (epsilon + torch.sum(adjacency, dim=0))) \n",
    "    A_hat = D_inv.matmul(adjacency)\n",
    "    return A_hat\n",
    "\n",
    "\n",
    "def compute_pagerank_normalization(G, adjacency):\n",
    "    \"\"\"\n",
    "    Normalizes the adjacency matrix using PageRank centrality values.\n",
    "\n",
    "    #TODO: Implement this function to apply PageRank normalization on the adjacency matrix.\n",
    "    - Compute PageRank values for each node in the graph.\n",
    "    - Create a diagonal matrix with PageRank values.\n",
    "    - Normalize the adjacency matrix using the PageRank diagonal matrix.\n",
    "    - Convert and return the normalized adjacency matrix as a PyTorch tensor.\n",
    "    \"\"\"\n",
    "    graph = {n: list(G.neighbors(n)) for n in G.nodes()}\n",
    "    scores = calculate_page_rank(graph)\n",
    "    D_inv = torch.diag(torch.FloatTensor(list(scores.values())))\n",
    "    A_hat = D_inv.matmul(adjacency)\n",
    "    return A_hat\n",
    "\n",
    "\n",
    "def compute_betweenness_normalization(G, adjacency):\n",
    "    \"\"\"\n",
    "    Normalizes the adjacency matrix using Betweenness centrality values.\n",
    "\n",
    "    #TODO: Implement this function to utilize Betweenness centrality for adjacency matrix normalization.\n",
    "    - Calculate Betweenness centrality for each node.\n",
    "    - Construct a diagonal matrix using the centrality values.\n",
    "    - Apply this matrix to normalize the adjacency matrix.\n",
    "    - Convert and return the normalized adjacency matrix as a PyTorch tensor.\n",
    "    \"\"\"\n",
    "    scores = nx.betweenness_centrality(G)\n",
    "    D_inv = torch.diag(torch.FloatTensor(list(scores.values())))\n",
    "    A_hat = D_inv.matmul(adjacency)\n",
    "    return A_hat\n",
    "\n",
    "\n",
    "def compute_clustering_coefficient_normalization(G, adjacency):\n",
    "    \"\"\"\n",
    "    Normalizes the adjacency matrix using Clustering coefficient values.\n",
    "\n",
    "    #TODO: Implement this function to leverage Clustering coefficients for adjacency matrix normalization.\n",
    "    - Compute the Clustering coefficient for each node.\n",
    "    - Form a diagonal matrix with these coefficients.\n",
    "    - Normalize the adjacency matrix using this coefficient matrix.\n",
    "    - Convert and return the normalized adjacency matrix as a PyTorch tensor.\n",
    "    \"\"\"\n",
    "    scores = nx.clustering(G)\n",
    "    D_inv = torch.diag(torch.FloatTensor(list(scores.values())))\n",
    "    A_hat = D_inv.matmul(adjacency)\n",
    "    return A_hat\n"
   ]
  },
  {
   "cell_type": "markdown",
   "id": "951e56d0",
   "metadata": {},
   "source": [
    "## 1.5 Training & Evaluation "
   ]
  },
  {
   "cell_type": "code",
   "execution_count": 89,
   "id": "0336e8bc",
   "metadata": {},
   "outputs": [],
   "source": [
    "def train_model(model, train_loader, optimizer, criterion, epochs=100, device='cpu'):\n",
    "    \"\"\"\n",
    "    Trains the model over a specified number of epochs.\n",
    "\n",
    "    Args:\n",
    "        model (torch.nn.Module): The neural network model to be trained.\n",
    "        train_loader (torch.utils.data.DataLoader): DataLoader for the training data.\n",
    "        optimizer (torch.optim.Optimizer): Optimizer used for model parameter updates.\n",
    "        criterion (torch.nn.Module): Loss function used for training.\n",
    "        epochs (int, optional): Number of epochs to train the model. Defaults to 100.\n",
    "        device (str, optional): The device to run the model on ('cpu' or 'cuda'). Defaults to 'cpu'.\n",
    "\n",
    "    Returns:\n",
    "        list: A list containing the average loss value for each epoch.\n",
    "\n",
    "    This function iterates over the training dataset for a given number of epochs, performing\n",
    "    forward and backward passes, and updates the model parameters. The average loss per epoch is recorded and returned.\n",
    "    \"\"\"\n",
    "    model.train()  # Set the model to training mode\n",
    "    loss_values = []  # Initialize a list to store the average loss per epoch\n",
    "\n",
    "    for epoch in range(epochs):\n",
    "        total_loss = 0  # Track total loss for each epoch\n",
    "\n",
    "        for X, A, labels in train_loader:\n",
    "            # Move data to the specified device\n",
    "            X, A, labels = X.to(device), A.to(device), labels.to(device)\n",
    "\n",
    "            optimizer.zero_grad()  # Clear gradients for the next train step\n",
    "        \n",
    "            output = model(X, A)  # Forward pass\n",
    "\n",
    "            loss = criterion(output, labels)  # Compute the loss\n",
    "            loss.backward()  # Backward pass to compute gradients\n",
    "            optimizer.step()  # Update model parameters\n",
    "\n",
    "            total_loss += loss.item()  # Accumulate the loss\n",
    "\n",
    "        avg_loss = total_loss / len(train_loader)  # Calculate average loss\n",
    "        loss_values.append(avg_loss)  # Append average loss to list\n",
    "\n",
    "        # Print the average loss for the current epoch\n",
    "        print(f'Epoch {epoch+1}/{epochs}, Loss: {avg_loss:.4f}')\n",
    "\n",
    "    return loss_values\n",
    "\n",
    "\n",
    "def evaluate_model(model, test_loader, device='cpu'):\n",
    "    \"\"\"\n",
    "    Evaluates the model on a test dataset.\n",
    "\n",
    "    Args:\n",
    "        model (torch.nn.Module): The neural network model to be evaluated.\n",
    "        test_loader (torch.utils.data.DataLoader): DataLoader for the test data.\n",
    "        device (str, optional): The device to run the model on ('cpu' or 'cuda'). Defaults to 'cpu'.\n",
    "\n",
    "    Returns:\n",
    "        tuple: A tuple containing the accuracy, precision, recall, and F1 score of the model on the test dataset.\n",
    "\n",
    "    This function performs a forward pass on the test dataset to obtain the model's predictions,\n",
    "    then calculates and returns various evaluation metrics including accuracy, precision, recall, and F1 score.\n",
    "    \"\"\"\n",
    "    model.eval()  # Set the model to evaluation mode\n",
    "    true_labels = []  # List to store actual labels\n",
    "    predictions = []  # List to store model predictions\n",
    "\n",
    "    with torch.no_grad():  # Disable gradient computation\n",
    "        for X, A, labels in test_loader:\n",
    "            # Move data to the specified device\n",
    "            X, A, labels = X.to(device), A.to(device), labels.to(device)\n",
    "\n",
    "            output = model(X, A)  # Forward pass\n",
    "            _, predicted = torch.max(output.data, 1)  # Get the index of the max log-probability\n",
    "\n",
    "            true_labels += labels.tolist()  # Append actual labels\n",
    "            predictions += predicted.tolist()  # Append predicted labels\n",
    "\n",
    "    # Calculate evaluation metrics\n",
    "    accuracy = accuracy_score(true_labels, predictions)\n",
    "    precision = precision_score(true_labels, predictions, average='weighted')\n",
    "    recall = recall_score(true_labels, predictions, average='weighted')\n",
    "    f1 = f1_score(true_labels, predictions, average='weighted')\n",
    "\n",
    "    return accuracy, precision, recall, f1\n",
    "\n"
   ]
  },
  {
   "cell_type": "markdown",
   "id": "484968ac",
   "metadata": {},
   "source": [
    "## 1.6 Main Script"
   ]
  },
  {
   "cell_type": "code",
   "execution_count": 63,
   "id": "7cde7dfa",
   "metadata": {},
   "outputs": [
    {
     "ename": "NameError",
     "evalue": "name 'compute_degree_matrix_normalization' is not defined",
     "output_type": "error",
     "traceback": [
      "\u001b[1;31m---------------------------------------------------------------------------\u001b[0m",
      "\u001b[1;31mNameError\u001b[0m                                 Traceback (most recent call last)",
      "Cell \u001b[1;32mIn[63], line 83\u001b[0m\n\u001b[0;32m     80\u001b[0m     apply_pca_and_visualize_all_sns(embeddings_list, titles, labels_list)\n\u001b[0;32m     82\u001b[0m \u001b[38;5;28;01mif\u001b[39;00m \u001b[38;5;18m__name__\u001b[39m \u001b[38;5;241m==\u001b[39m \u001b[38;5;124m\"\u001b[39m\u001b[38;5;124m__main__\u001b[39m\u001b[38;5;124m\"\u001b[39m:\n\u001b[1;32m---> 83\u001b[0m     \u001b[43mmain\u001b[49m\u001b[43m(\u001b[49m\u001b[43m)\u001b[49m\n",
      "Cell \u001b[1;32mIn[63], line 15\u001b[0m, in \u001b[0;36mmain\u001b[1;34m()\u001b[0m\n\u001b[0;32m     12\u001b[0m num_epochs \u001b[38;5;241m=\u001b[39m \u001b[38;5;241m200\u001b[39m  \u001b[38;5;66;03m# Number of training epochs\u001b[39;00m\n\u001b[0;32m     13\u001b[0m \u001b[38;5;66;03m# Dictionary mapping normalization technique names to their corresponding functions\u001b[39;00m\n\u001b[0;32m     14\u001b[0m normalization_techniques \u001b[38;5;241m=\u001b[39m {\n\u001b[1;32m---> 15\u001b[0m     \u001b[38;5;124m'\u001b[39m\u001b[38;5;124mdegree\u001b[39m\u001b[38;5;124m'\u001b[39m: \u001b[43mcompute_degree_matrix_normalization\u001b[49m,\n\u001b[0;32m     16\u001b[0m     \u001b[38;5;124m'\u001b[39m\u001b[38;5;124mpagerank\u001b[39m\u001b[38;5;124m'\u001b[39m: compute_pagerank_normalization,\n\u001b[0;32m     17\u001b[0m     \u001b[38;5;124m'\u001b[39m\u001b[38;5;124mbetweenness\u001b[39m\u001b[38;5;124m'\u001b[39m: compute_betweenness_normalization,\n\u001b[0;32m     18\u001b[0m     \u001b[38;5;124m'\u001b[39m\u001b[38;5;124mclustering\u001b[39m\u001b[38;5;124m'\u001b[39m: compute_clustering_coefficient_normalization,\n\u001b[0;32m     19\u001b[0m }\n\u001b[0;32m     21\u001b[0m \u001b[38;5;66;03m# Lists for storing evaluation metrics and model information\u001b[39;00m\n\u001b[0;32m     22\u001b[0m metric_values \u001b[38;5;241m=\u001b[39m [[] \u001b[38;5;28;01mfor\u001b[39;00m _ \u001b[38;5;129;01min\u001b[39;00m \u001b[38;5;28mrange\u001b[39m(\u001b[38;5;241m4\u001b[39m)]  \u001b[38;5;66;03m# Lists to store Accuracy, Precision, Recall, F1 Score\u001b[39;00m\n",
      "\u001b[1;31mNameError\u001b[0m: name 'compute_degree_matrix_normalization' is not defined"
     ]
    }
   ],
   "source": [
    "def main():\n",
    "    \"\"\"\n",
    "    Main execution function to train and evaluate Graph Convolutional Network (GCN) models\n",
    "    with different graph normalization techniques, visualize training metrics, and perform\n",
    "    embedding analysis through PCA.\n",
    "\n",
    "    Assumes the presence of a GCN model class, data loader preparation functions, and\n",
    "    various normalization technique functions defined outside this script.\n",
    "    \"\"\"\n",
    "    # Configuration parameters\n",
    "    num_samples_per_type = 1000  # Number of samples per class/type\n",
    "    num_epochs = 200  # Number of training epochs\n",
    "    # Dictionary mapping normalization technique names to their corresponding functions\n",
    "    normalization_techniques = {\n",
    "        'degree': compute_degree_matrix_normalization,\n",
    "        'pagerank': compute_pagerank_normalization,\n",
    "        'betweenness': compute_betweenness_normalization,\n",
    "        'clustering': compute_clustering_coefficient_normalization,\n",
    "    }\n",
    "\n",
    "    # Lists for storing evaluation metrics and model information\n",
    "    metric_values = [[] for _ in range(4)]  # Lists to store Accuracy, Precision, Recall, F1 Score\n",
    "    normalization_names = []  # Names of the normalization techniques\n",
    "    train_losses_list = []  # Training loss values for each normalization technique\n",
    "    models = []  # Trained models\n",
    "\n",
    "    # Set the computation device (GPU or CPU)\n",
    "    device = torch.device(\"cuda\" if torch.cuda.is_available() else \"cpu\")\n",
    "\n",
    "    # Loop over each normalization technique to train and evaluate a model\n",
    "    for name, norm_func in normalization_techniques.items():\n",
    "        print(f\"\\nTraining model with {name} normalization...\")\n",
    "        # Prepare data loaders\n",
    "        train_loader, test_loader = prepare_data_loaders(num_samples_per_type, normalization_func=norm_func, batch_size=50)\n",
    "        print(f\"DataLoader batch size: {train_loader.batch_size}\")\n",
    "\n",
    "        # Initialize the GCN model, optimizer, and loss criterion\n",
    "        model = GCN(nfeat=3, nhid=16, nclass=2).to(device)\n",
    "        optimizer = optim.Adam(model.parameters(), lr=0.001)\n",
    "        criterion = nn.CrossEntropyLoss()\n",
    "\n",
    "        # Train the model\n",
    "        train_losses = train_model(model, train_loader, optimizer, criterion, epochs=num_epochs, device=device)\n",
    "        train_losses_list.append(train_losses)\n",
    "\n",
    "        # Store the trained model\n",
    "        models.append(model)\n",
    "\n",
    "        # Evaluate the model's performance\n",
    "        accuracy, precision, recall, f1 = evaluate_model(model, test_loader, device=device)\n",
    "        # Store the evaluation metrics\n",
    "        metric_values[0].append(accuracy)\n",
    "        metric_values[1].append(precision)\n",
    "        metric_values[2].append(recall)\n",
    "        metric_values[3].append(f1)\n",
    "        normalization_names.append(name)\n",
    "\n",
    "        # Output the evaluation results\n",
    "        print(f\"Results with {name} normalization - Accuracy: {accuracy:.4f}, Precision: {precision:.4f}, Recall: {recall:.4f}, F1 Score: {f1:.4f}\")\n",
    "\n",
    "    # Visualization of training losses and evaluation metrics for each normalization technique\n",
    "    metric_names = ['Accuracy', 'Precision', 'Recall', 'F1 Score']\n",
    "    plot_training_losses(train_losses_list, normalization_names)\n",
    "    plot_metric_bar_charts(normalization_names, metric_values, metric_names)\n",
    "\n",
    "    # Embedding extraction and PCA visualization\n",
    "    embeddings_list = []\n",
    "    labels_list = []  # Labels for each set of embeddings\n",
    "    titles = []  # Titles for the PCA plots\n",
    "\n",
    "    # Extract embeddings and labels for each model\n",
    "    for name, model in zip(normalization_names, models):\n",
    "        print(f\"\\nExtracting embeddings for model trained with {name} normalization...\")\n",
    "        embeddings, labels = extract_embeddings(model, test_loader, device=device)\n",
    "        embeddings_list.append(embeddings)\n",
    "        labels_list.append(labels)  # Append corresponding labels\n",
    "        titles.append(f\"Embedding Distributions with {name} normalization\")\n",
    "\n",
    "    # Apply PCA and visualize the embeddings\n",
    "    apply_pca_and_visualize_all_sns(embeddings_list, titles, labels_list)\n",
    "\n",
    "if __name__ == \"__main__\":\n",
    "    main()\n"
   ]
  },
  {
   "cell_type": "markdown",
   "id": "69be9fbc",
   "metadata": {},
   "source": [
    "The training loss plot shows how the model's loss decreases over time for different normalization techniques. Degree normalization appears to stabilize quickly and achieves the lowest loss, suggesting that it is effective for this particular model and dataset. PageRank and betweenness normalization follow closely, indicating they are also effective but to a slightly lesser extent. Clustering normalization, however, shows a higher loss, suggesting that it might be less effective for this task. The bar charts for classification outcomes demonstrate the variability in performance for different normalization techniques. Degree normalization again seems to perform best on average across accuracy, precision, recall, and F1 score. PageRank normalization provides comparable results but with a slightly lower mean performance. Betweenness and clustering normalizations show more variability, as indicated by the error bars, and generally lower performance. The PCA plots of the embeddings reveal the separability of the classes (labeled 0 and 1) under different normalization techniques. Degree normalization leads to a distribution where the classes are not clearly separable, which might be counterintuitive given its good performance in classification metrics. PageRank normalization shows a more distinct separation between classes. Betweenness normalization appears to provide the most spread out distribution, and clustering normalization again shows a less distinct separation between classes. The GCN models' performance under different normalizations reflects the impact of how node features are aggregated. Degree normalization typically standardizes features by the number of connections a node has, leading to efficient propagation of features in networks where connectivity is an important feature. PageRank centrality incorporates a notion of global importance, which can enhance feature propagation from more influential nodes. This seems to have resulted in good performance, but not quite as effective as degree normalization in this case. Betweenness centrality considers nodes that act as bridges in the shortest paths across the network. While theoretically important, the lower performance might suggest that for this specific dataset and task, being a bridge is less relevant than the number of direct connections or global importance. The clustering coefficient normalization considers the local neighborhood's tightness around a node. The relatively poor performance of this normalization technique could indicate that the local clustering is not as informative for the classification task at hand or that it does not interact well with the GCN's feature propagation mechanisms. Feature propagation in GCNs depends significantly on the graph's structure. Normalization techniques influence how node features are weighted and combined, impacting the model's ability to learn discriminative features for classification. Degree normalization often assumes that nodes with more connections are more important for feature aggregation. This method seems effective in this context, possibly because it simplifies the propagation process and treats all connections as equally important. PageRank normalization assigns more weight to nodes that are deemed important not just by their local connections but also by their global standing in the network. This can be particularly useful in capturing broader patterns but may introduce biases if some high PageRank nodes are not relevant for the classification task. Betweenness centrality might be introducing noise in the feature propagation process if nodes that are central in terms of betweenness are not necessarily important for the classification labels. Clustering coefficient normalization potentially downplays the importance of nodes in denser clusters, which might be detrimental if those clusters are relevant to the classification problem.\n",
    "\n",
    "The distinct topological characteristics of a graph can significantly affect GCN model efficacy. In this case, degree normalization seems to provide the most consistent performance across all classification metrics, possibly due to its straightforward approach to feature propagation that aligns well with the dataset's underlying structure. PageRank normalization also performs well, suggesting that the global importance of nodes is relevant to the task. Betweenness and clustering normalizations may not align as well with the task's requirements, indicating that the bridges between nodes and the tightness of node neighborhoods are less informative for this classification problem. The choice of normalization technique should therefore be closely aligned with the inherent topological characteristics of the graph and the nature of the classification task."
   ]
  },
  {
   "cell_type": "markdown",
   "id": "Xg8ZtRfK463d",
   "metadata": {
    "id": "Xg8ZtRfK463d"
   },
   "source": [
    "# 2) Implementation of GraphSAGE with Node Sampling (30 points)"
   ]
  },
  {
   "cell_type": "markdown",
   "id": "cn37bADeLk0h",
   "metadata": {
    "id": "cn37bADeLk0h"
   },
   "source": [
    "## 2.1) Dataset\n",
    "\n",
    "In this question, we are going to train and test GraphSAGE on a **node classification** task using a toy Protein-Protein Interaction (PPI) dataset.\n",
    "\n",
    "The dataset contains 24 graphs. The average number of nodes per graph is 2372. Each node has 50 features and 121 labels.\n",
    "\n",
    "Since we will work on a node classification task, we will select only one of the graphs.\n",
    "\n",
    "Below, we load the dataset and split into train/validation/test splits."
   ]
  },
  {
   "cell_type": "code",
   "execution_count": 102,
   "id": "pKOlr5XwLoaw",
   "metadata": {
    "id": "pKOlr5XwLoaw"
   },
   "outputs": [],
   "source": [
    "def load_ppi_data():\n",
    "    # Load the dataset\n",
    "    dataset = PPIDataset()\n",
    "\n",
    "    # Select one graph from the PPI dataset\n",
    "    g = dataset[0]\n",
    "\n",
    "    # Extract features, labels\n",
    "    features = g.ndata['feat']\n",
    "    labels = g.ndata['label']\n",
    "\n",
    "    num_nodes = g.number_of_nodes()\n",
    "    num_train = int(0.6 * num_nodes)  # 60% for training\n",
    "    num_val = int(0.2 * num_nodes)    # 20% for validation\n",
    "\n",
    "    # Create a random permutation of node indices\n",
    "    indices = torch.randperm(num_nodes)\n",
    "\n",
    "    # Assign the first num_train nodes to the training set\n",
    "    # Assign the next num_val nodes to the validation set\n",
    "    # Assign the remaining nodes to the test set\n",
    "    train_mask = torch.zeros(num_nodes, dtype=torch.bool)\n",
    "    val_mask = torch.zeros(num_nodes, dtype=torch.bool)\n",
    "    test_mask = torch.zeros(num_nodes, dtype=torch.bool)\n",
    "\n",
    "    train_mask[indices[:num_train]] = True\n",
    "    val_mask[indices[num_train:num_train+num_val]] = True\n",
    "    test_mask[indices[num_train+num_val:]] = True\n",
    "\n",
    "    adj = g.adjacency_matrix().to_dense()\n",
    "\n",
    "    return features, labels, adj, train_mask, val_mask, test_mask"
   ]
  },
  {
   "cell_type": "code",
   "execution_count": 103,
   "id": "Rdp7_8kzLpZJ",
   "metadata": {
    "id": "Rdp7_8kzLpZJ"
   },
   "outputs": [
    {
     "name": "stdout",
     "output_type": "stream",
     "text": [
      "Number of train nodes: 1060\n",
      "Number of val nodes: 353\n",
      "Number of test nodes: 354\n",
      "Number of features: 50\n",
      "Number of classes: 121\n"
     ]
    }
   ],
   "source": [
    "features, labels, adj, train_mask, val_mask, test_mask = load_ppi_data()\n",
    "\n",
    "features = features.to(device)\n",
    "labels = labels.to(device)\n",
    "adj = adj.to(device)\n",
    "\n",
    "num_feats = features.shape[1]\n",
    "num_classes = labels.shape[1]\n",
    "\n",
    "# Convert one-hot encoding to class indices format\n",
    "# e.g.,\n",
    "# one-hot encoding vector [0, 0, 1, 0, 0, ....] is converted to class index 2.\n",
    "# To use torch.nn.CrossEntropyLoss, we need to have this class indices format. \n",
    "# For more information, check https://pytorch.org/docs/stable/generated/torch.nn.CrossEntropyLoss.html\n",
    "labels = torch.argmax(labels, dim=1)\n",
    "\n",
    "train_features = features[train_mask]\n",
    "val_features = features[val_mask]\n",
    "test_features = features[test_mask]\n",
    "\n",
    "train_labels = labels[train_mask]\n",
    "val_labels = labels[val_mask]\n",
    "test_labels = labels[test_mask]\n",
    "\n",
    "train_adj = adj[train_mask][:, train_mask]\n",
    "val_adj = adj[val_mask][:, val_mask]\n",
    "test_adj = adj[test_mask][:, test_mask]\n",
    "\n",
    "print(f\"Number of train nodes: {train_adj.shape[0]}\")\n",
    "print(f\"Number of val nodes: {val_adj.shape[0]}\")\n",
    "print(f\"Number of test nodes: {test_adj.shape[0]}\")\n",
    "print(f\"Number of features: {num_feats}\")\n",
    "print(f\"Number of classes: {num_classes}\")"
   ]
  },
  {
   "cell_type": "code",
   "execution_count": 104,
   "id": "FCGjLT2KfEPF",
   "metadata": {
    "id": "FCGjLT2KfEPF"
   },
   "outputs": [
    {
     "name": "stdout",
     "output_type": "stream",
     "text": [
      "Average Degree: 11.081131935119629\n"
     ]
    }
   ],
   "source": [
    "def compute_average_degree(A):\n",
    "    degrees = A.sum(dim=1)  # Sum along rows to get degrees\n",
    "    average_degree = degrees.mean().item()  # Compute the mean degree\n",
    "\n",
    "    return average_degree\n",
    "\n",
    "average_degree = compute_average_degree(train_adj)\n",
    "print(\"Average Degree:\", average_degree)"
   ]
  },
  {
   "cell_type": "markdown",
   "id": "MiyIOQSXMgqB",
   "metadata": {
    "id": "MiyIOQSXMgqB"
   },
   "source": [
    "## 2.2) Node-wise Sampling (15 points)\n",
    "Node-wise sampling involves aggregating a subset of neighbors for each node in the graph, as opposed to considering all neighbors for aggregation (see the Figure 1). \n",
    "\n",
    "In the GraphSAGE, they sample a fixed number of neighbors in each layer. More specifically, they use $K=2$ number of layers and for the first layer and second layer, they sample $S_1=25$ and $S_2=10$ neighbors, respectively. \n",
    "\n",
    "**Here, for simplicity, we will sample $S=S_1=S_2=5$ neighbors for both layers**.\n",
    "\n",
    "<img src=\"figures/nodewise_sampling.jpg\" alt=\"Node-wise sampling\" width=\"200\" />\n",
    "\n",
    "(Figure 1: Node-wise sampling<sup>1</sup>)\n",
    "\n",
    "<sup>1</sup>_Hamilton, W., Ying, Z., & Leskovec, J. (2017). Inductive representation learning on large graphs. Advances in neural information processing systems, 30._\n"
   ]
  },
  {
   "cell_type": "markdown",
   "id": "Zdm91LJaOMp3",
   "metadata": {
    "id": "Zdm91LJaOMp3"
   },
   "source": [
    "Below, you need to implement the sampler function. It takes the adj. matrix A and number of neighbors to sample, returns a list of lists including indices to sampled neighbors for each node in A.\n",
    "\n",
    "You can use [torch.randperm](https://pytorch.org/docs/stable/generated/torch.randperm.html) or feel free to use any other function that does the same job."
   ]
  },
  {
   "cell_type": "code",
   "execution_count": 105,
   "id": "OA2mQO3GOliw",
   "metadata": {
    "id": "OA2mQO3GOliw"
   },
   "outputs": [],
   "source": [
    "def sampler(A, num_samples):\n",
    "    \"\"\"\n",
    "    Samples \"num_samples\" amount of neighbors for each node in adj. matrix A\n",
    "    You can use uniform random sampling. No need for any importance sampling strategy.\n",
    "\n",
    "    Params:\n",
    "        A (Tensor): Adj. matrix of shape (N x N)\n",
    "        num_samples (int): Number of neighbors to sample for each node\n",
    "        where N is the number of nodes.\n",
    "\n",
    "    Returns:\n",
    "        A list of lists including indices to sampled neighbors for each node in A.\n",
    "    \"\"\"\n",
    "\n",
    "    N = A.shape[0]  # Number of nodes\n",
    "    sampled_neighbors = []\n",
    "\n",
    "    ########## YOUR CODE HERE ##########\n",
    "    # For each node, populate the sampled_neighors list\n",
    "    # Here is a dummy example with num_samples = 3\n",
    "    # sampled_neighbors = [[3, 41, 2], [53, 234], ...]\n",
    "    # for the first node, the indices for sampled neighbors are 3, 41 and 2.\n",
    "    # the second node has only 2 neighbors (smaller than the num_samples), thus we sampled all its neighbors.\n",
    "\n",
    "    # My approach: \n",
    "    # 1. First, find all of node i's neighbours \n",
    "    # 2. If len(neighbours) <= num_samples, add all neighbours to sampled_neighbours\n",
    "    # 3. otherwise, randomly select num_samples neighbours and add them to sampled_neighbours\n",
    "    for i in range(N):\n",
    "        neighbors = torch.where(A[:, i] > 0)[0].tolist()\n",
    "        if len(neighbors) > num_samples:\n",
    "            sampled_neighbors.append(random.sample(neighbors, k=num_samples))\n",
    "        else:\n",
    "            sampled_neighbors.append(neighbors)\n",
    "        \n",
    "    ####################################\n",
    "\n",
    "    return sampled_neighbors"
   ]
  },
  {
   "cell_type": "markdown",
   "id": "HjtPeehpQIVP",
   "metadata": {
    "id": "HjtPeehpQIVP"
   },
   "source": [
    "Let's see the sampled neighbors for the first 10 nodes."
   ]
  },
  {
   "cell_type": "code",
   "execution_count": 106,
   "id": "YfGkkONoPFo3",
   "metadata": {
    "id": "YfGkkONoPFo3"
   },
   "outputs": [
    {
     "name": "stdout",
     "output_type": "stream",
     "text": [
      "Node 0: Sampled Neighbors [0]\n",
      "Node 1: Sampled Neighbors [5, 4]\n",
      "Node 2: Sampled Neighbors [2]\n",
      "Node 3: Sampled Neighbors [3]\n",
      "Node 4: Sampled Neighbors [1, 6]\n",
      "Node 5: Sampled Neighbors [1, 5]\n",
      "Node 6: Sampled Neighbors [4, 6]\n",
      "Node 7: Sampled Neighbors [7]\n",
      "Node 8: Sampled Neighbors [8]\n",
      "Node 9: Sampled Neighbors [9]\n"
     ]
    }
   ],
   "source": [
    "# set num_samples to 2 just for now\n",
    "num_samples = 2\n",
    "\n",
    "sampled_neighbors = sampler(adj[:10], num_samples)\n",
    "\n",
    "# Print the sampled neighbors for each node\n",
    "for node, neighbors in enumerate(sampled_neighbors):\n",
    "    print(f\"Node {node}: Sampled Neighbors {neighbors}\")"
   ]
  },
  {
   "cell_type": "markdown",
   "id": "It_a42RolM_h",
   "metadata": {
    "id": "It_a42RolM_h"
   },
   "source": [
    "## 2.3) Implementation of GraphSAGE (15 points)\n",
    "\n",
    "In Figure 2, you can find the pseudo-code for the forward propagation of GraphSAGE. Basically, in each layer, GraphSAGE iterates over all the nodes in the graph and aggregates the neighborhood information from a set of sampled neighbors. Then, different from the original GCN model<sup>2</sup>, the embedding of the current node is concatenated with the aggregated embedding, doubling the size of the embedding vector before applying linear transformation via the learnable parameter $W^k$. After that, the embedding of the current node is updated following the application of a non-linearity.\n",
    "\n",
    "They use different AGGREGATE functions such as mean and max-pooling aggregation. In this question, you need to use mean aggregation.\n",
    "\n",
    "We choose the number of layers as $K=2$ and non-linearity as $ReLU$.\n",
    "\n",
    "It is OK to skip the normalization in the line 7.\n",
    "\n",
    "<img src=\"figures/graphsage_algo.jpg\" alt=\"GraphSAGE Algorithm\" width=\"700\" />\n",
    "\n",
    "(Figure 2: Forward propagation of GraphSAGE<sup>3</sup>)\n",
    "\n",
    "<sup>2</sup>*Kipf, T. N., & Welling, M. (2016). Semi-supervised classification with graph convolutional networks. arXiv preprint arXiv:1609.02907.*\n",
    "\n",
    "<sup>3</sup>*Liu, X., Yan, M., Deng, L., Li, G., Ye, X., & Fan, D. (2021). Sampling methods for efficient training of graph convolutional networks: A survey. IEEE/CAA Journal of Automatica Sinica, 9(2), 205-234.*\n",
    "\n"
   ]
  },
  {
   "cell_type": "code",
   "execution_count": 113,
   "id": "kcyM2ioCR939",
   "metadata": {
    "id": "kcyM2ioCR939"
   },
   "outputs": [],
   "source": [
    "class GraphSAGEConvLayer(nn.Module):\n",
    "    def __init__(self, input_dim, output_dim):\n",
    "        super(GraphSAGEConvLayer, self).__init__()\n",
    "        ########## YOUR CODE HERE ##########\n",
    "        # Define the learnable parameter W to be used in linear transformation\n",
    "        # Take into account the dimension increase resulting from the concatenation\n",
    "        # of the aggregated neighbor embeddings with the current node embedding.\n",
    "\n",
    "        self.W = nn.Parameter(torch.randn(input_dim * 2, output_dim) * torch.sqrt(torch.tensor(2.0) / (input_dim * 2 + output_dim)))\n",
    "        # no bias, since pseudocode doesn't have it and confirmed by Mr. Pala :)\n",
    "        ####################################\n",
    "\n",
    "\n",
    "    def forward(self, curr_node_emb, neighbor_embs):\n",
    "        \"\"\"\n",
    "        Forward pass of a single GraphSAGE convolution layer\n",
    "\n",
    "        Params:\n",
    "        curr_node_emb (Tensor): Embedding vector of the current node.\n",
    "        neighbor_embs (Tensor): Embedding vectors of sampled neighbors of the current node\n",
    "\n",
    "        Returns:\n",
    "        Tensor: New embedding of the current node\n",
    "        \"\"\"\n",
    "\n",
    "        ########## YOUR CODE HERE ##########\n",
    "        # 1. Aggregate neighbor embeddings using mean aggregation\n",
    "        # 2. Concatenate the aggregated embeddings with the embedding of the current node\n",
    "        # 3. Apply linear transformation using self.W\n",
    "        # 4. Apply ReLU non-linearity\n",
    "        # 5. Return the new_embedding\n",
    "        agg_neighbors = torch.mean(neighbor_embs, dim=0)\n",
    "        emb = torch.cat((curr_node_emb, agg_neighbors))\n",
    "        emb = torch.matmul(emb, self.W)\n",
    "        return F.relu(emb)\n",
    "        ####################################\n",
    "\n",
    "\n",
    "class GraphSAGE(nn.Module):\n",
    "    def __init__(self, input_dim, hidden_dim, num_classes, num_samples):\n",
    "        super(GraphSAGE, self).__init__()\n",
    "        self.layers = nn.ModuleList([\n",
    "            GraphSAGEConvLayer(input_dim, hidden_dim),\n",
    "            GraphSAGEConvLayer(hidden_dim, num_classes)\n",
    "        ])\n",
    "        self.num_samples = num_samples\n",
    "\n",
    "\n",
    "    def forward(self, X, A):\n",
    "        \"\"\"\n",
    "        Forward pass of GraphSAGE\n",
    "\n",
    "        Params:\n",
    "        X (Tensor): Node feature matrix of shape (N x d)\n",
    "        A (Tensor): Adj. matrix of shape (N x N)\n",
    "        where N is the number of nodes and d is the embedding size.\n",
    "\n",
    "        Returns:\n",
    "        Tensor: The output matrix of the last layer with shape (N x num_classes)\n",
    "        \"\"\"\n",
    "\n",
    "        ########## YOUR CODE HERE ##########\n",
    "        # 1. For each layer:\n",
    "        #   1.1. Sample neighbors using the sampler function and adj matrix A\n",
    "        #   1.2. Update the embedding for each node\n",
    "        #     1.2.1 Forward pass through the GraphSAGE convolution layer\n",
    "        #     1.2.2 Store the new embeddings for each node\n",
    "        #   1.3. Update the node feature matrix for the next layer\n",
    "        # 2. Return the final node feature matrix with shape (N x num_classes)\n",
    "        N = X.shape[0]\n",
    "        curr_embs = X \n",
    "        for layer in self.layers:\n",
    "            sampled_neighbors = sampler(A, self.num_samples)\n",
    "            new_embs = torch.zeros(N, layer.output_dim, device=device)\n",
    "            for i in range(N):\n",
    "                curr_node_emb = curr_embs[i, :]\n",
    "                neighbor_embs = curr_embs[sampled_neighbors[i], :]\n",
    "                new_node_emb = layer(curr_node_emb, neighbor_embs)\n",
    "                new_embs[i, :] = new_node_emb\n",
    "            curr_embs = new_embs\n",
    "        return curr_embs\n",
    "        ####################################"
   ]
  },
  {
   "cell_type": "code",
   "execution_count": 114,
   "id": "upLxt7pwWgXn",
   "metadata": {
    "id": "upLxt7pwWgXn"
   },
   "outputs": [],
   "source": [
    "def trainStepGraphSAGE(model, features, adj, labels, loss_fn, optimizer):\n",
    "    model.train()\n",
    "\n",
    "    # Forward pass\n",
    "    logits = model(features, adj)\n",
    "    train_loss = loss_fn(logits, labels)\n",
    "\n",
    "    # Backward pass and optimization\n",
    "    optimizer.zero_grad()\n",
    "    train_loss.backward()\n",
    "    optimizer.step()\n",
    "    \n",
    "    return train_loss.item()"
   ]
  },
  {
   "cell_type": "code",
   "execution_count": 115,
   "id": "Fjxyx9j6Wl8m",
   "metadata": {
    "id": "Fjxyx9j6Wl8m"
   },
   "outputs": [],
   "source": [
    "@torch.no_grad()\n",
    "def testGraphSAGE(model, features, adj, labels):\n",
    "    model.eval()\n",
    "    logits = model(features, adj)\n",
    "\n",
    "    _, predicted = torch.max(logits, 1)\n",
    "\n",
    "    correct = (predicted == labels).sum().item()\n",
    "    total = labels.size(0)\n",
    "    accuracy = correct / total\n",
    "\n",
    "    return accuracy"
   ]
  },
  {
   "cell_type": "code",
   "execution_count": 116,
   "id": "woYruDm-Wbrn",
   "metadata": {
    "id": "woYruDm-Wbrn"
   },
   "outputs": [],
   "source": [
    "def trainGraphSAGE(model, train_features, val_features, train_adj, val_adj, train_labels, val_labels, num_epochs=50):\n",
    "    t = time.time()\n",
    "    loss_fn = nn.CrossEntropyLoss()\n",
    "    optimizer = optim.AdamW(model.parameters(), lr=0.01)\n",
    "\n",
    "    best_model = None\n",
    "    best_valid_acc = 0\n",
    "\n",
    "    for epoch in range(1, 1 + num_epochs):\n",
    "        train_loss = trainStepGraphSAGE(model, train_features, train_adj, train_labels, loss_fn, optimizer)\n",
    "        val_acc = testGraphSAGE(model, val_features, val_adj, val_labels)\n",
    "        if val_acc > best_valid_acc:\n",
    "            best_valid_acc = val_acc\n",
    "            best_model = copy.deepcopy(model)\n",
    "        \n",
    "        print(f'Epoch: {epoch:02d}, '\n",
    "            f'Train Loss: {train_loss:.4f}, ',\n",
    "            f'Validation Accuracy: {100*val_acc:.4f}%, ',\n",
    "            f'time: {time.time() - t:.4f}s.')\n",
    "    \n",
    "    print(f'best acc_valid: {100*best_valid_acc:.4f}%')\n",
    "\n",
    "    return best_model"
   ]
  },
  {
   "cell_type": "code",
   "execution_count": 117,
   "id": "gxNlHZg0XAEE",
   "metadata": {
    "id": "gxNlHZg0XAEE"
   },
   "outputs": [
    {
     "data": {
      "text/plain": [
       "GraphSAGE(\n",
       "  (layers): ModuleList(\n",
       "    (0-1): 2 x GraphSAGEConvLayer()\n",
       "  )\n",
       ")"
      ]
     },
     "execution_count": 117,
     "metadata": {},
     "output_type": "execute_result"
    }
   ],
   "source": [
    "# feel free to play with hidden_dim :)\n",
    "hidden_dim = 64\n",
    "model = GraphSAGE(num_feats, hidden_dim, num_classes, num_samples=5)\n",
    "\n",
    "model.to(device)"
   ]
  },
  {
   "cell_type": "code",
   "execution_count": 118,
   "id": "nwJWPpEVaJo8",
   "metadata": {
    "id": "nwJWPpEVaJo8"
   },
   "outputs": [
    {
     "name": "stdout",
     "output_type": "stream",
     "text": [
      "Epoch: 01, Train Loss: 4.8821,  Validation Accuracy: 14.7309%,  time: 2.5051s.\n",
      "Epoch: 02, Train Loss: 4.3140,  Validation Accuracy: 38.8102%,  time: 4.4011s.\n",
      "Epoch: 03, Train Loss: 3.8324,  Validation Accuracy: 42.2096%,  time: 6.3981s.\n",
      "Epoch: 04, Train Loss: 3.3653,  Validation Accuracy: 49.2918%,  time: 8.3061s.\n",
      "Epoch: 05, Train Loss: 2.9278,  Validation Accuracy: 53.8244%,  time: 10.2071s.\n",
      "Epoch: 06, Train Loss: 2.5341,  Validation Accuracy: 59.4901%,  time: 12.1381s.\n",
      "Epoch: 07, Train Loss: 2.1791,  Validation Accuracy: 61.7564%,  time: 14.0231s.\n",
      "Epoch: 08, Train Loss: 1.8683,  Validation Accuracy: 66.0057%,  time: 15.8841s.\n",
      "Epoch: 09, Train Loss: 1.5805,  Validation Accuracy: 68.2720%,  time: 17.7701s.\n",
      "Epoch: 10, Train Loss: 1.3711,  Validation Accuracy: 69.9717%,  time: 19.7551s.\n",
      "Epoch: 11, Train Loss: 1.2227,  Validation Accuracy: 70.2550%,  time: 21.6541s.\n",
      "Epoch: 12, Train Loss: 1.1465,  Validation Accuracy: 70.5382%,  time: 23.6001s.\n",
      "Epoch: 13, Train Loss: 1.0983,  Validation Accuracy: 69.9717%,  time: 25.5071s.\n",
      "Epoch: 14, Train Loss: 1.0919,  Validation Accuracy: 71.1048%,  time: 27.3761s.\n",
      "Epoch: 15, Train Loss: 1.0579,  Validation Accuracy: 71.1048%,  time: 29.3361s.\n",
      "Epoch: 16, Train Loss: 1.0399,  Validation Accuracy: 69.1218%,  time: 31.2631s.\n",
      "Epoch: 17, Train Loss: 1.0216,  Validation Accuracy: 68.2720%,  time: 33.1441s.\n",
      "Epoch: 18, Train Loss: 0.9903,  Validation Accuracy: 67.9887%,  time: 35.0631s.\n",
      "Epoch: 19, Train Loss: 0.9833,  Validation Accuracy: 66.8555%,  time: 36.9861s.\n",
      "Epoch: 20, Train Loss: 0.9800,  Validation Accuracy: 66.5722%,  time: 38.9021s.\n",
      "Epoch: 21, Train Loss: 0.9683,  Validation Accuracy: 66.2890%,  time: 40.8041s.\n",
      "Epoch: 22, Train Loss: 0.9446,  Validation Accuracy: 67.7054%,  time: 42.6981s.\n",
      "Epoch: 23, Train Loss: 0.9331,  Validation Accuracy: 68.2720%,  time: 44.6101s.\n",
      "Epoch: 24, Train Loss: 0.9219,  Validation Accuracy: 68.5552%,  time: 46.5181s.\n",
      "Epoch: 25, Train Loss: 0.9101,  Validation Accuracy: 68.5552%,  time: 48.4521s.\n",
      "Epoch: 26, Train Loss: 0.8996,  Validation Accuracy: 68.8385%,  time: 50.3991s.\n",
      "Epoch: 27, Train Loss: 0.8986,  Validation Accuracy: 68.2720%,  time: 52.3781s.\n",
      "Epoch: 28, Train Loss: 0.8834,  Validation Accuracy: 67.1388%,  time: 54.3191s.\n",
      "Epoch: 29, Train Loss: 0.8648,  Validation Accuracy: 67.4221%,  time: 56.2291s.\n",
      "Epoch: 30, Train Loss: 0.8604,  Validation Accuracy: 66.0057%,  time: 58.1271s.\n",
      "Epoch: 31, Train Loss: 0.8356,  Validation Accuracy: 67.7054%,  time: 59.9101s.\n",
      "Epoch: 32, Train Loss: 0.8286,  Validation Accuracy: 66.8555%,  time: 61.7651s.\n",
      "Epoch: 33, Train Loss: 0.8262,  Validation Accuracy: 67.7054%,  time: 63.6501s.\n",
      "Epoch: 34, Train Loss: 0.8120,  Validation Accuracy: 67.4221%,  time: 65.6371s.\n",
      "Epoch: 35, Train Loss: 0.7974,  Validation Accuracy: 67.7054%,  time: 67.5241s.\n",
      "Epoch: 36, Train Loss: 0.7886,  Validation Accuracy: 67.4221%,  time: 69.5401s.\n",
      "Epoch: 37, Train Loss: 0.7798,  Validation Accuracy: 67.4221%,  time: 71.4561s.\n",
      "Epoch: 38, Train Loss: 0.7682,  Validation Accuracy: 66.0057%,  time: 73.3599s.\n",
      "Epoch: 39, Train Loss: 0.7538,  Validation Accuracy: 67.4221%,  time: 75.2842s.\n",
      "Epoch: 40, Train Loss: 0.7418,  Validation Accuracy: 67.4221%,  time: 77.1832s.\n",
      "Epoch: 41, Train Loss: 0.7382,  Validation Accuracy: 65.7224%,  time: 79.0992s.\n",
      "Epoch: 42, Train Loss: 0.7242,  Validation Accuracy: 66.2890%,  time: 80.9152s.\n",
      "Epoch: 43, Train Loss: 0.7125,  Validation Accuracy: 66.2890%,  time: 82.8472s.\n",
      "Epoch: 44, Train Loss: 0.7134,  Validation Accuracy: 65.7224%,  time: 84.7512s.\n",
      "Epoch: 45, Train Loss: 0.6995,  Validation Accuracy: 65.4391%,  time: 86.6672s.\n",
      "Epoch: 46, Train Loss: 0.6769,  Validation Accuracy: 66.0057%,  time: 88.5812s.\n",
      "Epoch: 47, Train Loss: 0.6828,  Validation Accuracy: 65.7224%,  time: 90.4962s.\n",
      "Epoch: 48, Train Loss: 0.6615,  Validation Accuracy: 64.5892%,  time: 92.2742s.\n",
      "Epoch: 49, Train Loss: 0.6655,  Validation Accuracy: 65.1558%,  time: 94.2212s.\n",
      "Epoch: 50, Train Loss: 0.6475,  Validation Accuracy: 64.8725%,  time: 96.0952s.\n",
      "best acc_valid: 71.1048%\n"
     ]
    }
   ],
   "source": [
    "best_model = trainGraphSAGE(model, train_features, val_features, train_adj, val_adj, train_labels, val_labels, num_epochs=50)"
   ]
  },
  {
   "cell_type": "code",
   "execution_count": 119,
   "id": "d97776f1",
   "metadata": {},
   "outputs": [
    {
     "name": "stdout",
     "output_type": "stream",
     "text": [
      "Test Accuracy: 76.2712%\n"
     ]
    }
   ],
   "source": [
    "# You should get around 70-75% test accuracy.\n",
    "test_acc = testGraphSAGE(best_model, test_features, test_adj, test_labels)\n",
    "print(f\"Test Accuracy: {100*test_acc:.4f}%\")"
   ]
  },
  {
   "cell_type": "markdown",
   "id": "6t4V24ZpjXJx",
   "metadata": {
    "id": "6t4V24ZpjXJx"
   },
   "source": [
    "# 3) Attention-based aggregation in node classification (30 points)"
   ]
  },
  {
   "cell_type": "markdown",
   "id": "0dSBj13VcNy0",
   "metadata": {
    "id": "0dSBj13VcNy0"
   },
   "source": [
    "The objective is to develop two types of aggregation methods: mean aggregation and aggregation by attention.\n",
    "\n",
    "For those who require additional guidance or clarification, it is recommended to revisit the relevant [lecture](https://www.youtube.com/watch?v=zRmzVkidkqA&list=PLug43ldmRSo14Y_vt7S6vanPGh-JpHR7T&index=13) or consult the course [notes](https://drive.google.com/file/d/1p7U1xyW4-5W4ge8gRstUkBGQSY3fKHX6/view).\n",
    "\n",
    "\n",
    "Important Reminder: Please ensure that you execute all the cells in each section in sequence to maintain the integrity of intermediate variables and package imports.\n",
    "\n",
    "\n"
   ]
  },
  {
   "cell_type": "markdown",
   "id": "g_df0zRghF1b",
   "metadata": {
    "id": "g_df0zRghF1b"
   },
   "source": [
    "## Constructing Layers for Graph Neural Networks (17 points)\n"
   ]
  },
  {
   "cell_type": "markdown",
   "id": "neppPZh5g_47",
   "metadata": {
    "id": "neppPZh5g_47"
   },
   "source": [
    "Let's begin by creating a dummy dataset that will aid in the development and testing of our Graph Neural Networks (GNNs). This dataset will include a simple graph structure with defined nodes, edges, and node features."
   ]
  },
  {
   "cell_type": "code",
   "execution_count": 65,
   "id": "jju0azWFhevg",
   "metadata": {
    "id": "jju0azWFhevg"
   },
   "outputs": [],
   "source": [
    "def create_dummy_data(n_nodes, n_features):\n",
    "  # Create a random adjacency matrix for an undirected graph\n",
    "  # Use a random integer matrix and make it symmetric\n",
    "  adj = torch.triu(torch.randint(0, 2, (n_nodes, n_nodes)), diagonal=1)\n",
    "  adj = adj + adj.T\n",
    "\n",
    "  # Create random features for each node\n",
    "  adj = adj.type(torch.float)\n",
    "  x = torch.rand(n_nodes, n_features)\n",
    "\n",
    "  return x, adj"
   ]
  },
  {
   "cell_type": "code",
   "execution_count": 66,
   "id": "7qDSC9VthjlE",
   "metadata": {
    "id": "7qDSC9VthjlE"
   },
   "outputs": [
    {
     "name": "stdout",
     "output_type": "stream",
     "text": [
      "torch.Size([5, 3])\n",
      "torch.Size([5, 5])\n"
     ]
    }
   ],
   "source": [
    "x, adj = create_dummy_data(5, 3)\n",
    "print(x.shape)\n",
    "print(adj.shape)"
   ]
  },
  {
   "cell_type": "markdown",
   "id": "djXNL49_hqyt",
   "metadata": {
    "id": "djXNL49_hqyt"
   },
   "source": [
    "### Building a Graph Neural Network with Mean Aggregation (7 points)"
   ]
  },
  {
   "cell_type": "markdown",
   "id": "e_NRLPPhhs_v",
   "metadata": {
    "id": "e_NRLPPhhs_v"
   },
   "source": [
    "Observe that the GNN utilizing a mean aggregator is significantly influenced by how the adjacency matrix is normalized.\n",
    "\n",
    "The formula for the next layer's node representations is given by:\n",
    "\n",
    "$H_{k+1} = a[\\beta_k\\mathbf{1}^T + \\Omega_kH_k(AD^{-1}+I)]$\n",
    "\n",
    "We will proceed to implement the mean normalization of the adjacency matrix using the following expression:\n",
    "\n",
    "$\\widetilde{A}=AD^{-1}+I$\n"
   ]
  },
  {
   "cell_type": "code",
   "execution_count": 67,
   "id": "DqOma83HjBth",
   "metadata": {
    "id": "DqOma83HjBth"
   },
   "outputs": [],
   "source": [
    "def mean_normalization(A):\n",
    "  ############# Your code here ############\n",
    "  ## Note:\n",
    "  ## 1. Calculate the degree matrix\n",
    "  ## 2. Create the inverse of the degree matrix\n",
    "  ## 3. Compute the mean normalization of the adjacency matrix\n",
    "  ## (~3 lines of code)\n",
    "  epsilon = 1e-5 # Small constant to avoid division by zero \n",
    "  I = torch.eye(A.size(0), device=A.device)\n",
    "  D_inv = torch.diag(1.0 / (epsilon + torch.sum(A, dim=0))) # DO WE ADD EPSILON???\n",
    "  A = A.matmul(D_inv) + I\n",
    "  #########################################\n",
    "  return A"
   ]
  },
  {
   "cell_type": "code",
   "execution_count": 68,
   "id": "wSLQfIfjjChw",
   "metadata": {
    "id": "wSLQfIfjjChw"
   },
   "outputs": [
    {
     "data": {
      "text/plain": [
       "tensor([[1.0000, 0.3333, 0.3333, 0.5000, 0.2500],\n",
       "        [0.2500, 1.0000, 0.3333, 0.0000, 0.2500],\n",
       "        [0.2500, 0.3333, 1.0000, 0.0000, 0.2500],\n",
       "        [0.2500, 0.0000, 0.0000, 1.0000, 0.2500],\n",
       "        [0.2500, 0.3333, 0.3333, 0.5000, 1.0000]])"
      ]
     },
     "execution_count": 68,
     "metadata": {},
     "output_type": "execute_result"
    }
   ],
   "source": [
    "## Test your implementation to observe the behavior of the\n",
    "## mean normalization adjacency matrix.\n",
    "## Note:\n",
    "## It should reflect the values normalized over the number of neighbors,\n",
    "## with the inclusion of a self-loop for each node\n",
    "mean_normalization(adj)"
   ]
  },
  {
   "cell_type": "markdown",
   "id": "gpq54RcAlyHm",
   "metadata": {
    "id": "gpq54RcAlyHm"
   },
   "source": [
    "Now, let's build the GCN layer with a mean aggregator. Remeber, node features are computed as follows:\n",
    "\n",
    "$H_{k+1} = a[\\beta_k\\mathbf{1}^T + \\Omega_kH_k(AD^{-1}+I)]$"
   ]
  },
  {
   "cell_type": "code",
   "execution_count": 69,
   "id": "D2gWjKtDmCUW",
   "metadata": {
    "id": "D2gWjKtDmCUW"
   },
   "outputs": [],
   "source": [
    "class GCN(nn.Module):\n",
    "    \"\"\"\n",
    "    A basic implementation of GCN layer.\n",
    "    It aggregates information from a node's neighbors\n",
    "    using mean aggregation.\n",
    "    \"\"\"\n",
    "    def __init__(self, in_features, out_features, activation=None):\n",
    "        super(GCN, self).__init__()\n",
    "        self.weight = nn.Parameter(torch.FloatTensor(in_features, out_features))\n",
    "        self.bias = nn.Parameter(torch.zeros(out_features))\n",
    "        self.activation = activation\n",
    "        self.reset_parameters()\n",
    "\n",
    "    def reset_parameters(self):\n",
    "        stdv = 1. / np.sqrt(self.weight.size(1))\n",
    "        self.weight.data.uniform_(-stdv, stdv)\n",
    "\n",
    "    def forward(self, x, adj):\n",
    "        \"\"\"\n",
    "        Forward pass of the GCN layer.\n",
    "\n",
    "        Parameters:\n",
    "        input (Tensor): The input features of the nodes.\n",
    "        adj (Tensor): The adjacency matrix of the graph.\n",
    "\n",
    "        Returns:\n",
    "        Tensor: The output features of the nodes after applying the GCN layer.\n",
    "        \"\"\"\n",
    "        adj_norm = mean_normalization(adj)\n",
    "        ############# Your code here ############\n",
    "        ## Note:\n",
    "        ## 1. Apply the linear transformation\n",
    "        ## 2. Perform the graph convolution operation\n",
    "        ## Note: rename the last line as `output`\n",
    "        ## (2 lines of code)\n",
    "        agg = torch.matmul(adj_norm, x)\n",
    "        output = torch.matmul(agg, self.weight) + self.bias\n",
    "        #########################################\n",
    "        h = self.activation(output) if self.activation else output\n",
    "        return h"
   ]
  },
  {
   "cell_type": "code",
   "execution_count": 70,
   "id": "YzuoVNnenV93",
   "metadata": {
    "id": "YzuoVNnenV93"
   },
   "outputs": [
    {
     "data": {
      "text/plain": [
       "tensor([[ 0.2044,  1.1992, -0.7470],\n",
       "        [ 0.0997,  1.0687, -0.4256],\n",
       "        [ 0.1165,  0.8664, -0.2612],\n",
       "        [-0.0926,  0.4753, -0.3574],\n",
       "        [-0.0072,  1.2375, -0.7060]], grad_fn=<AddBackward0>)"
      ]
     },
     "execution_count": 70,
     "metadata": {},
     "output_type": "execute_result"
    }
   ],
   "source": [
    "## Ensure that your implementation is flexible enough to accommodate changes\n",
    "## in the number of hidden features. Verify that the dimensions of all\n",
    "## matrices are correctly aligned, allowing for a successful forward\n",
    "## pass through the network.\n",
    "GCN(x.size(1), 3)(x, adj)"
   ]
  },
  {
   "cell_type": "markdown",
   "id": "0g-hfZN1pHCo",
   "metadata": {
    "id": "0g-hfZN1pHCo"
   },
   "source": [
    "### Developing a Graph Neural Network with Attention-Based Aggregation (10 points)"
   ]
  },
  {
   "cell_type": "markdown",
   "id": "uEVWsPIYruLD",
   "metadata": {
    "id": "uEVWsPIYruLD"
   },
   "source": [
    "The transformed node embeddings $H_k^{'}$ are calculated using the formula:\n",
    "\n",
    "\\begin{equation}\n",
    "H_k^{'} = \\beta_k\\mathbf{1}^T + \\Omega_kH_k\n",
    "\\end{equation}\n",
    "\n",
    "In this equation, $\\beta_k$ and $\\Omega_k$ are parameters, and $H_k$ represents the node embeddings at layer $k$.\n",
    "\n",
    "To compute the similarity $s_{mn}$ between any two transformed node embeddings $h^{'}_m$ and $h^{'}_n$, we concatenate these embeddings and then take a dot product with a learned parameter vector $\\phi_k$. An activation function is then applied to this dot product:\n",
    "\n",
    "\\begin{equation}\n",
    "s_{mn} = a\\left[\\phi_k^T \\begin{bmatrix} h^{'}_m\\\\ h^{'}_n \\end{bmatrix}\\right]\n",
    "\\end{equation}\n",
    "\n",
    "These similarity values are organized into an $N \\times N$ matrix $S$, where each element represents the similarity between every pair of nodes.\n",
    "\n",
    "The attention weights that contribute to each output embedding are normalized to ensure they are positive and sum to one.\n",
    "\n",
    "This normalization is achieved using the softmax operation. However, it's important to note that only the values corresponding to a node and its neighbors are considered in this computation. The attention weights are then applied to the transformed embeddings as follows:\n",
    "\n",
    "\\begin{equation}\n",
    "a[H_k^{'} * \\text{Softmax}(S, A+I)]\n",
    "\\end{equation}\n",
    "\n",
    "Here, $A+I$ represents the adjacency matrix with added self-loops, ensuring that each node also considers itself when computing attention weights.\n"
   ]
  },
  {
   "cell_type": "markdown",
   "id": "4nXvTZUvvN62",
   "metadata": {
    "id": "4nXvTZUvvN62"
   },
   "source": [
    "To get started, it's important to grasp how to calculate the similarity matrix.\n",
    "\n",
    "A straightforward approach would be to iterate through all the nodes and compute the similarity scores for each pair."
   ]
  },
  {
   "cell_type": "code",
   "execution_count": 71,
   "id": "wfJx30JZpGXp",
   "metadata": {
    "id": "wfJx30JZpGXp"
   },
   "outputs": [
    {
     "name": "stdout",
     "output_type": "stream",
     "text": [
      "tensor([[1.3132, 1.0801, 1.5406, 1.2612, 1.2906],\n",
      "        [0.9922, 0.7591, 1.2196, 0.9402, 0.9696],\n",
      "        [1.6812, 1.4480, 1.9086, 1.6291, 1.6585],\n",
      "        [1.4793, 1.2462, 1.7067, 1.4273, 1.4567],\n",
      "        [1.4720, 1.2389, 1.6994, 1.4200, 1.4494]])\n"
     ]
    }
   ],
   "source": [
    "N = x.size(0)\n",
    "D = 3\n",
    "\n",
    "# Initialize H' and phi with random values\n",
    "H = torch.rand(size=(N, D))\n",
    "phi = torch.rand(size=(2 * D,))\n",
    "\n",
    "# Initialize the similarity matrix S\n",
    "S = torch.zeros((N, N))\n",
    "\n",
    "# Loop over all nodes to compute the similarity scores\n",
    "for i in range(N):\n",
    "    for j in range(N):\n",
    "        ############# Your code here ############\n",
    "        ## 1. Concatenate the features of nodes i and j\n",
    "        ## 2. Compute the dot product of concatenated features with phi\n",
    "        ## (2 lines of code)\n",
    "        h = torch.cat((H[i, :], H[j, :]))\n",
    "        S[i, j] = F.relu(torch.dot(phi, h))\n",
    "        #########################################\n",
    "print(S)"
   ]
  },
  {
   "cell_type": "markdown",
   "id": "Td_GQQX4wiUl",
   "metadata": {
    "id": "Td_GQQX4wiUl"
   },
   "source": [
    "It's crucial to apply a mask to the pre-attention scores before they are processed through the softmax function. This ensures that the normalization is applied exclusively to the existing edges in the graph, maintaining the integrity of the graph structure.\n",
    "\n",
    "\n",
    "Construct the mask using the following equation:\n",
    "$mask = A+I$"
   ]
  },
  {
   "cell_type": "code",
   "execution_count": 72,
   "id": "_Tr83bLQwz6L",
   "metadata": {
    "id": "_Tr83bLQwz6L"
   },
   "outputs": [
    {
     "name": "stdout",
     "output_type": "stream",
     "text": [
      "tensor([[ True,  True,  True,  True,  True],\n",
      "        [ True,  True,  True, False,  True],\n",
      "        [ True,  True,  True, False,  True],\n",
      "        [ True, False, False,  True,  True],\n",
      "        [ True,  True,  True,  True,  True]])\n"
     ]
    }
   ],
   "source": [
    "############# Your code here ############\n",
    "## contruct the mask, name it `mask`\n",
    "## return a boolean matrix NxN\n",
    "## (1 line of code)\n",
    "mask = (adj + torch.eye(adj.size(0))).bool()\n",
    "#########################################\n",
    "print(mask)"
   ]
  },
  {
   "cell_type": "markdown",
   "id": "4PCNdExKxVb2",
   "metadata": {
    "id": "4PCNdExKxVb2"
   },
   "source": [
    "Apply the mask to the pre-attention\n",
    "$S[mask]$.\n",
    "\n",
    "Set $S$ to very large negative values. This is effectively to represent negative infinity in the context of the softmax operation that follows."
   ]
  },
  {
   "cell_type": "code",
   "execution_count": 73,
   "id": "Gzfru1H4w3jX",
   "metadata": {
    "id": "Gzfru1H4w3jX"
   },
   "outputs": [
    {
     "name": "stdout",
     "output_type": "stream",
     "text": [
      "tensor([[3.7182, 2.9451, 4.6676, 3.5297, 3.6350],\n",
      "        [2.6972, 2.1364, 3.3858, 0.0000, 2.6368],\n",
      "        [5.3718, 4.2548, 6.7433, 0.0000, 5.2515],\n",
      "        [4.3900, 0.0000, 0.0000, 4.1675, 4.2918],\n",
      "        [4.3580, 3.4518, 5.4707, 4.1370, 4.2604]])\n"
     ]
    }
   ],
   "source": [
    "############# Your code here ############\n",
    "## get masked values for S, `S_masked`\n",
    "## hint: see torch.where\n",
    "## Note: The values masked should effectively be zero,\n",
    "## considering the limits of numerical precision.\n",
    "## (1 line of code)\n",
    "S_masked = torch.where(mask, S, torch.tensor(float('-inf')))\n",
    "#########################################\n",
    "print(S_masked.exp())"
   ]
  },
  {
   "cell_type": "markdown",
   "id": "fcNf5fYB1E21",
   "metadata": {
    "id": "fcNf5fYB1E21"
   },
   "source": [
    "\n",
    "Now, let's proceed to implement the Graph Attention Network (GAT). The preparatory work we've done should have provided you with all the necessary tools and understanding to successfully implement the attention based aggregation."
   ]
  },
  {
   "cell_type": "code",
   "execution_count": 74,
   "id": "9becc149",
   "metadata": {},
   "outputs": [],
   "source": [
    "# N = input.size(0)\n",
    "#     h = torch.matmul(input, self.weight) + self.bias\n",
    "#     S = torch.zeros((N, N), device=device)\n",
    "\n",
    "#     # h_expanded = h.repeat_interleave(N, dim=0)  # Repeat each node N times\n",
    "#     # h_tiled = h.repeat(N, 1)  # Tile entire h N times\n",
    "#     # h_concat = torch.cat([h_expanded, h_tiled], dim=1)  # Concatenate features for all pairs\n",
    "#     # S = torch.matmul(h_concat, self.phi).view(N, N)  # Reshape to get the similarity matrix\n",
    "\n",
    "#     # Loop over all nodes to compute the similarity scores\n",
    "#     for i in range(N):\n",
    "#         for j in range(N):\n",
    "#             h_concat = torch.cat((h[i, :], h[j, :]))\n",
    "#             S[i, j] = torch.dot(phi, h_concat)\n",
    "            \n",
    "#     mask = (adj + torch.eye(adj.size(0))).bool()\n",
    "    \n",
    "#     # att_weights = torch.where(mask, S, torch.tensor(float('-inf'))).exp()\n",
    "#     S_masked = torch.where(mask, S, torch.tensor(float('-inf'), device=device))\n",
    "#     att_weights = F.softmax(S_masked, dim=1)\n",
    "#     h = torch.matmul(att_weights, h)"
   ]
  },
  {
   "cell_type": "code",
   "execution_count": 86,
   "id": "hMECcwy7pV6B",
   "metadata": {
    "id": "hMECcwy7pV6B"
   },
   "outputs": [],
   "source": [
    "class GAT(nn.Module):\n",
    "    \"\"\"\n",
    "    A basic implementation of the GAT layer.\n",
    "\n",
    "    This layer applies an attention mechanism in the graph convolution process,\n",
    "    allowing the model to focus on different parts of the neighborhood\n",
    "    of each node.\n",
    "    \"\"\"\n",
    "    def __init__(self, in_features, out_features, activation=None):\n",
    "        super(GAT, self).__init__()\n",
    "        # Initialize the weights, bias, and attention parameters as\n",
    "        # trainable parameters\n",
    "        self.weight = nn.Parameter(torch.FloatTensor(in_features, out_features))\n",
    "        self.bias = nn.Parameter(torch.zeros(out_features))\n",
    "        self.phi = nn.Parameter(torch.FloatTensor(2 * out_features, 1))\n",
    "        self.activation = activation\n",
    "        self.reset_parameters()\n",
    "\n",
    "    def reset_parameters(self):\n",
    "        stdv = 1. / np.sqrt(self.weight.size(1))\n",
    "        self.weight.data.uniform_(-stdv, stdv)\n",
    "\n",
    "        stdv = 1. / np.sqrt(self.phi.size(1))\n",
    "        self.phi.data.uniform_(-stdv, stdv)\n",
    "\n",
    "    def forward(self, input, adj):\n",
    "        \"\"\"\n",
    "        Forward pass of the GAT layer.\n",
    "\n",
    "        Parameters:\n",
    "        input (Tensor): The input features of the nodes.\n",
    "        adj (Tensor): The adjacency matrix of the graph.\n",
    "\n",
    "        Returns:\n",
    "        Tensor: The output features of the nodes after applying the GAT layer.\n",
    "        \"\"\"\n",
    "        ############# Your code here ############\n",
    "        ## 1. Apply linear transformation and add bias\n",
    "        ## 2. Compute the attention scores utilizing the previously\n",
    "        ## established mechanism.\n",
    "        ## Note: Keep in mind that employing matrix notation can\n",
    "        ## optimize this process.\n",
    "        ## 3. Compute mask based on adjacency matrix\n",
    "        ## 4. Apply mask to the pre-attention matrix\n",
    "        ## 5. Compute attention weights using softmax\n",
    "        ## 6. Aggregate features based on attention weights\n",
    "        ## Note: name the last line as `h`\n",
    "        ## (9-10 lines of code)\n",
    "        h = torch.matmul(input, self.weight) + self.bias\n",
    "        N = h.size(0)\n",
    "        h_extended = h.unsqueeze(1).expand(N, N, -1)\n",
    "        h_extended_transpose = h.unsqueeze(0).expand(N, N, -1)\n",
    "        att_input = torch.cat([h_extended, h_extended_transpose], dim=-1)\n",
    "        S = torch.matmul(att_input, self.phi).squeeze(-1)\n",
    "        mask = (adj + torch.eye(adj.size(0), device=device)).bool()\n",
    "        S_masked = torch.where(mask, S, torch.tensor(float('-inf'), device=device))\n",
    "        att_weights = F.softmax(S_masked, dim=1) \n",
    "        h = torch.matmul(att_weights, h) # tranpose because here we're doing row wise, lecture does column-wise\n",
    "        #########################################\n",
    "        return self.activation(h) if self.activation else h\n"
   ]
  },
  {
   "cell_type": "code",
   "execution_count": 87,
   "id": "OXVpydRKpV3m",
   "metadata": {
    "id": "OXVpydRKpV3m"
   },
   "outputs": [
    {
     "ename": "RuntimeError",
     "evalue": "The size of tensor a (2708) must match the size of tensor b (5) at non-singleton dimension 1",
     "output_type": "error",
     "traceback": [
      "\u001b[1;31m---------------------------------------------------------------------------\u001b[0m",
      "\u001b[1;31mRuntimeError\u001b[0m                              Traceback (most recent call last)",
      "Cell \u001b[1;32mIn[87], line 7\u001b[0m\n\u001b[0;32m      5\u001b[0m x \u001b[38;5;241m=\u001b[39m x\u001b[38;5;241m.\u001b[39mto(device) \u001b[38;5;66;03m# note: added extra \u001b[39;00m\n\u001b[0;32m      6\u001b[0m adj \u001b[38;5;241m=\u001b[39m adj\u001b[38;5;241m.\u001b[39mto(device) \u001b[38;5;66;03m# note: added extra\u001b[39;00m\n\u001b[1;32m----> 7\u001b[0m \u001b[43mGAT\u001b[49m\u001b[43m(\u001b[49m\u001b[43mx\u001b[49m\u001b[38;5;241;43m.\u001b[39;49m\u001b[43msize\u001b[49m\u001b[43m(\u001b[49m\u001b[38;5;241;43m1\u001b[39;49m\u001b[43m)\u001b[49m\u001b[43m,\u001b[49m\u001b[43m \u001b[49m\u001b[38;5;241;43m3\u001b[39;49m\u001b[43m)\u001b[49m\u001b[38;5;241;43m.\u001b[39;49m\u001b[43mto\u001b[49m\u001b[43m(\u001b[49m\u001b[43mdevice\u001b[49m\u001b[43m)\u001b[49m\u001b[43m(\u001b[49m\u001b[43mx\u001b[49m\u001b[43m,\u001b[49m\u001b[43m \u001b[49m\u001b[43madj\u001b[49m\u001b[43m)\u001b[49m\n",
      "File \u001b[1;32m~\\AppData\\Local\\Packages\\PythonSoftwareFoundation.Python.3.11_qbz5n2kfra8p0\\LocalCache\\local-packages\\Python311\\site-packages\\torch\\nn\\modules\\module.py:1518\u001b[0m, in \u001b[0;36mModule._wrapped_call_impl\u001b[1;34m(self, *args, **kwargs)\u001b[0m\n\u001b[0;32m   1516\u001b[0m     \u001b[38;5;28;01mreturn\u001b[39;00m \u001b[38;5;28mself\u001b[39m\u001b[38;5;241m.\u001b[39m_compiled_call_impl(\u001b[38;5;241m*\u001b[39margs, \u001b[38;5;241m*\u001b[39m\u001b[38;5;241m*\u001b[39mkwargs)  \u001b[38;5;66;03m# type: ignore[misc]\u001b[39;00m\n\u001b[0;32m   1517\u001b[0m \u001b[38;5;28;01melse\u001b[39;00m:\n\u001b[1;32m-> 1518\u001b[0m     \u001b[38;5;28;01mreturn\u001b[39;00m \u001b[38;5;28;43mself\u001b[39;49m\u001b[38;5;241;43m.\u001b[39;49m\u001b[43m_call_impl\u001b[49m\u001b[43m(\u001b[49m\u001b[38;5;241;43m*\u001b[39;49m\u001b[43margs\u001b[49m\u001b[43m,\u001b[49m\u001b[43m \u001b[49m\u001b[38;5;241;43m*\u001b[39;49m\u001b[38;5;241;43m*\u001b[39;49m\u001b[43mkwargs\u001b[49m\u001b[43m)\u001b[49m\n",
      "File \u001b[1;32m~\\AppData\\Local\\Packages\\PythonSoftwareFoundation.Python.3.11_qbz5n2kfra8p0\\LocalCache\\local-packages\\Python311\\site-packages\\torch\\nn\\modules\\module.py:1527\u001b[0m, in \u001b[0;36mModule._call_impl\u001b[1;34m(self, *args, **kwargs)\u001b[0m\n\u001b[0;32m   1522\u001b[0m \u001b[38;5;66;03m# If we don't have any hooks, we want to skip the rest of the logic in\u001b[39;00m\n\u001b[0;32m   1523\u001b[0m \u001b[38;5;66;03m# this function, and just call forward.\u001b[39;00m\n\u001b[0;32m   1524\u001b[0m \u001b[38;5;28;01mif\u001b[39;00m \u001b[38;5;129;01mnot\u001b[39;00m (\u001b[38;5;28mself\u001b[39m\u001b[38;5;241m.\u001b[39m_backward_hooks \u001b[38;5;129;01mor\u001b[39;00m \u001b[38;5;28mself\u001b[39m\u001b[38;5;241m.\u001b[39m_backward_pre_hooks \u001b[38;5;129;01mor\u001b[39;00m \u001b[38;5;28mself\u001b[39m\u001b[38;5;241m.\u001b[39m_forward_hooks \u001b[38;5;129;01mor\u001b[39;00m \u001b[38;5;28mself\u001b[39m\u001b[38;5;241m.\u001b[39m_forward_pre_hooks\n\u001b[0;32m   1525\u001b[0m         \u001b[38;5;129;01mor\u001b[39;00m _global_backward_pre_hooks \u001b[38;5;129;01mor\u001b[39;00m _global_backward_hooks\n\u001b[0;32m   1526\u001b[0m         \u001b[38;5;129;01mor\u001b[39;00m _global_forward_hooks \u001b[38;5;129;01mor\u001b[39;00m _global_forward_pre_hooks):\n\u001b[1;32m-> 1527\u001b[0m     \u001b[38;5;28;01mreturn\u001b[39;00m \u001b[43mforward_call\u001b[49m\u001b[43m(\u001b[49m\u001b[38;5;241;43m*\u001b[39;49m\u001b[43margs\u001b[49m\u001b[43m,\u001b[49m\u001b[43m \u001b[49m\u001b[38;5;241;43m*\u001b[39;49m\u001b[38;5;241;43m*\u001b[39;49m\u001b[43mkwargs\u001b[49m\u001b[43m)\u001b[49m\n\u001b[0;32m   1529\u001b[0m \u001b[38;5;28;01mtry\u001b[39;00m:\n\u001b[0;32m   1530\u001b[0m     result \u001b[38;5;241m=\u001b[39m \u001b[38;5;28;01mNone\u001b[39;00m\n",
      "Cell \u001b[1;32mIn[86], line 56\u001b[0m, in \u001b[0;36mGAT.forward\u001b[1;34m(self, input, adj)\u001b[0m\n\u001b[0;32m     54\u001b[0m S \u001b[38;5;241m=\u001b[39m torch\u001b[38;5;241m.\u001b[39mmatmul(att_input, \u001b[38;5;28mself\u001b[39m\u001b[38;5;241m.\u001b[39mphi)\u001b[38;5;241m.\u001b[39msqueeze(\u001b[38;5;241m-\u001b[39m\u001b[38;5;241m1\u001b[39m)\n\u001b[0;32m     55\u001b[0m mask \u001b[38;5;241m=\u001b[39m (adj \u001b[38;5;241m+\u001b[39m torch\u001b[38;5;241m.\u001b[39meye(adj\u001b[38;5;241m.\u001b[39msize(\u001b[38;5;241m0\u001b[39m), device\u001b[38;5;241m=\u001b[39mdevice))\u001b[38;5;241m.\u001b[39mbool()\n\u001b[1;32m---> 56\u001b[0m S_masked \u001b[38;5;241m=\u001b[39m \u001b[43mtorch\u001b[49m\u001b[38;5;241;43m.\u001b[39;49m\u001b[43mwhere\u001b[49m\u001b[43m(\u001b[49m\u001b[43mmask\u001b[49m\u001b[43m,\u001b[49m\u001b[43m \u001b[49m\u001b[43mS\u001b[49m\u001b[43m,\u001b[49m\u001b[43m \u001b[49m\u001b[43mtorch\u001b[49m\u001b[38;5;241;43m.\u001b[39;49m\u001b[43mtensor\u001b[49m\u001b[43m(\u001b[49m\u001b[38;5;28;43mfloat\u001b[39;49m\u001b[43m(\u001b[49m\u001b[38;5;124;43m'\u001b[39;49m\u001b[38;5;124;43m-inf\u001b[39;49m\u001b[38;5;124;43m'\u001b[39;49m\u001b[43m)\u001b[49m\u001b[43m,\u001b[49m\u001b[43m \u001b[49m\u001b[43mdevice\u001b[49m\u001b[38;5;241;43m=\u001b[39;49m\u001b[43mdevice\u001b[49m\u001b[43m)\u001b[49m\u001b[43m)\u001b[49m\n\u001b[0;32m     57\u001b[0m att_weights \u001b[38;5;241m=\u001b[39m F\u001b[38;5;241m.\u001b[39msoftmax(S_masked, dim\u001b[38;5;241m=\u001b[39m\u001b[38;5;241m1\u001b[39m)\n\u001b[0;32m     58\u001b[0m \u001b[38;5;66;03m# ROW WISE do h * attention. \u001b[39;00m\n",
      "\u001b[1;31mRuntimeError\u001b[0m: The size of tensor a (2708) must match the size of tensor b (5) at non-singleton dimension 1"
     ]
    }
   ],
   "source": [
    "## Ensure that your implementation is flexible enough to accommodate changes\n",
    "## in the number of hidden features. Verify that the dimensions of all\n",
    "## matrices are correctly aligned, allowing for a successful forward\n",
    "## pass through the network.\n",
    "x = x.to(device) # note: added to work  \n",
    "adj = adj.to(device) # note: added to work \n",
    "GAT(x.size(1), 3).to(device)(x, adj)"
   ]
  },
  {
   "cell_type": "markdown",
   "id": "rtH8rckF2hLR",
   "metadata": {
    "id": "rtH8rckF2hLR"
   },
   "source": [
    "## Node Classification (6 points)"
   ]
  },
  {
   "cell_type": "markdown",
   "id": "B3IdKBlv2ulI",
   "metadata": {
    "id": "B3IdKBlv2ulI"
   },
   "source": [
    "Here is a GNN for node classification"
   ]
  },
  {
   "cell_type": "code",
   "execution_count": null,
   "id": "wSemM4ZJ2tkB",
   "metadata": {
    "id": "wSemM4ZJ2tkB"
   },
   "outputs": [],
   "source": [
    "class NodeClassifier(nn.Module):\n",
    "    def __init__(self, nfeat, nhid, nclass, dropout, gnn_layer):\n",
    "        super(NodeClassifier, self).__init__()\n",
    "\n",
    "        self.gc1 = gnn_layer(nfeat, nhid, F.relu)\n",
    "        self.gc2 = gnn_layer(nhid, nclass, None)\n",
    "        self.dropout = dropout\n",
    "\n",
    "    def forward(self, x, adj):\n",
    "        x = self.gc1(x, adj)\n",
    "        x = F.dropout(x, self.dropout, training=self.training)\n",
    "        x = self.gc2(x, adj)\n",
    "        return F.log_softmax(x, dim=1)"
   ]
  },
  {
   "cell_type": "markdown",
   "id": "IPhzOUiNazmc",
   "metadata": {
    "id": "IPhzOUiNazmc"
   },
   "source": [
    "Let's get hands-on experience by loading a benchmark dataset - the Cora dataset.\n",
    "\n",
    "Dataset: Cora is a widely-used benchmark in graph ML. It consists of a citation network where nodes represent scientific papers, and edges correspond to citations between these papers. Each paper (node) is described by a textual abstract and is categorized into one of several classes based on its content.\n",
    "\n",
    "Node Classification: we'll dive into  node classification where the goal is to predict the category of each paper in the Cora citation network."
   ]
  },
  {
   "cell_type": "code",
   "execution_count": null,
   "id": "E7x9tcgEZe3A",
   "metadata": {
    "id": "E7x9tcgEZe3A"
   },
   "outputs": [
    {
     "name": "stdout",
     "output_type": "stream",
     "text": [
      "  NumNodes: 2708\n",
      "  NumEdges: 10556\n",
      "  NumFeats: 1433\n",
      "  NumClasses: 7\n",
      "  NumTrainingSamples: 140\n",
      "  NumValidationSamples: 500\n",
      "  NumTestSamples: 1000\n",
      "Done loading data from cached files.\n"
     ]
    }
   ],
   "source": [
    "def load_cora_data(subset_size=100):\n",
    "    # Load the dataset\n",
    "    dataset = CoraGraphDataset()\n",
    "    g = dataset[0]\n",
    "    if subset_size > 0:\n",
    "      # Ensure subset_size is smaller than the total number of nodes\n",
    "      total_nodes = g.num_nodes()\n",
    "      subset_size = min(subset_size, total_nodes)\n",
    "\n",
    "      # Select a subset of nodes\n",
    "      subset_nodes = torch.randperm(total_nodes)[:subset_size]\n",
    "\n",
    "      # Create a subgraph with the selected nodes\n",
    "      subg = g.subgraph(subset_nodes)\n",
    "    else:\n",
    "      subg = g\n",
    "\n",
    "    # Extract features, labels, and masks for the graph\n",
    "    features = subg.ndata['feat']\n",
    "    labels = subg.ndata['label']\n",
    "    train_mask = subg.ndata['train_mask']\n",
    "    val_mask = subg.ndata['val_mask']\n",
    "    test_mask = subg.ndata['test_mask']\n",
    "\n",
    "    adj = subg.adjacency_matrix().to_dense()\n",
    "\n",
    "    return features, labels, adj, train_mask, val_mask, test_mask\n",
    "features, labels, adj, train_mask, val_mask, test_mask = load_cora_data(-1)\n",
    "\n",
    "features = features.to(device)\n",
    "labels = labels.to(device)\n",
    "adj = adj.to(device)\n",
    "train_mask = train_mask.to(device)\n",
    "val_mask = val_mask.to(device)\n",
    "test_mask = test_mask.to(device)"
   ]
  },
  {
   "cell_type": "markdown",
   "id": "za5azmEYvHMZ",
   "metadata": {
    "id": "za5azmEYvHMZ"
   },
   "source": [
    "Feel free to analyze and print the dimensions of *features, adj*, and *labels*. This will help you debug in case of errors.\n",
    "\n",
    "Note: you can take a subset of the full graph `load_cora_data(subset_size=1000)` to spead up development. However, we expect the final submission on the full graph"
   ]
  },
  {
   "cell_type": "markdown",
   "id": "3g_YeKQUTA0y",
   "metadata": {
    "id": "3g_YeKQUTA0y"
   },
   "source": [
    "Let's define metrics to track"
   ]
  },
  {
   "cell_type": "code",
   "execution_count": null,
   "id": "wvR11ZbbTEu4",
   "metadata": {
    "id": "wvR11ZbbTEu4"
   },
   "outputs": [],
   "source": [
    "def calculate_specificity(y_true, y_pred, labels):\n",
    "    specificity_scores = np.zeros(len(labels))\n",
    "    for i, label in enumerate(labels):\n",
    "        binary_true = (y_true == label).int()\n",
    "        binary_pred = (y_pred == label).int()\n",
    "\n",
    "        tn, fp, fn, tp = confusion_matrix(binary_true, binary_pred).ravel()\n",
    "\n",
    "        specificity = tn / (tn + fp) if (tn + fp) != 0 else 0\n",
    "        specificity_scores[i] = specificity\n",
    "\n",
    "    return np.mean(specificity_scores)"
   ]
  },
  {
   "cell_type": "code",
   "execution_count": null,
   "id": "piwFKneJ4BNi",
   "metadata": {
    "id": "piwFKneJ4BNi"
   },
   "outputs": [],
   "source": [
    "def compute_accuracy(target, prediction):\n",
    "  ############# Your code here ############\n",
    "  ## 1. Count the number of correct predictions\n",
    "  ## 2. Get the total number of predictions\n",
    "  ## 3. Calculate the accuracy\n",
    "  ## (~3 lines of code)\n",
    "  correct_predictions = torch.sum(target == prediction)\n",
    "  total_predictions = len(target)\n",
    "  accuracy = correct_predictions / total_predictions\n",
    "  #########################################\n",
    "  return accuracy"
   ]
  },
  {
   "cell_type": "code",
   "execution_count": null,
   "id": "AFZVCe7DUNBV",
   "metadata": {
    "id": "AFZVCe7DUNBV"
   },
   "outputs": [],
   "source": [
    "sensitivity = lambda y_true, y_pred: recall_score(y_true.cpu(), y_pred.cpu(), average='macro')\n",
    "specificity = lambda y_true, y_pred: calculate_specificity(y_true.cpu(), y_pred.cpu(), labels.unique().cpu())\n",
    "accuracy = lambda y_true, y_pred: compute_accuracy(y_true.cpu(), y_pred.cpu())"
   ]
  },
  {
   "cell_type": "markdown",
   "id": "HHzjkKv4vwA2",
   "metadata": {
    "id": "HHzjkKv4vwA2"
   },
   "source": [
    "Almost there, write the main training function to train our GNNs."
   ]
  },
  {
   "cell_type": "code",
   "execution_count": null,
   "id": "BDvI2ZD4gQOj",
   "metadata": {
    "id": "BDvI2ZD4gQOj"
   },
   "outputs": [],
   "source": [
    "def train_step(model, X, A, y ,train_mask, optimizer, loss_fn):\n",
    "  model.train()\n",
    "  loss = 0\n",
    "  ############# Your code here ############\n",
    "  ## 1. Zero grad the optimizer\n",
    "  ## 2. Feed the data into the model\n",
    "  ## 3. Slice the model output and label by train_mask\n",
    "  ## 4. Feed the sliced output and label to loss_fn\n",
    "  ## (~4 lines of code)\n",
    "  # Step 1: Zero gradients\n",
    "  optimizer.zero_grad()\n",
    "  X, A, y = X.to(device), A.to(device), y.to(device)\n",
    "  output = model(X, A)\n",
    "  output_train = output[train_mask]\n",
    "  y_train = y[train_mask]\n",
    "  loss = loss_fn(output_train, y_train)\n",
    "  #########################################\n",
    "\n",
    "  loss.backward()\n",
    "  optimizer.step()\n",
    "\n",
    "  return loss.item()"
   ]
  },
  {
   "cell_type": "code",
   "execution_count": null,
   "id": "zDBF9eMe31sg",
   "metadata": {
    "id": "zDBF9eMe31sg"
   },
   "outputs": [],
   "source": [
    "@torch.no_grad()\n",
    "def test(model, X, A, y, train_mask, val_mask, test_mask=None, metrics={}):\n",
    "  model.eval()\n",
    "\n",
    "  # The output of model on all data\n",
    "  out = None\n",
    "  logits = model(X, A)\n",
    "  preds = logits.argmax(dim=1)\n",
    "\n",
    "  result = {\n",
    "        'train': {},\n",
    "        'val': {},\n",
    "      }\n",
    "  if test_mask is not None:\n",
    "    result['test'] = {}\n",
    "\n",
    "  for name, metric in metrics.items():\n",
    "    result['train'][name] = metric(y[train_mask], preds[train_mask])\n",
    "    result['val'][name] = metric(y[val_mask], preds[val_mask])\n",
    "\n",
    "    if test_mask is not None:\n",
    "      result['test'][name] = metric(y[test_mask], preds[test_mask])\n",
    "\n",
    "  return result"
   ]
  },
  {
   "cell_type": "code",
   "execution_count": null,
   "id": "RJNEQbtB4xQY",
   "metadata": {
    "id": "RJNEQbtB4xQY"
   },
   "outputs": [],
   "source": [
    "def train(model, epochs, lr):\n",
    "  t = time.time()\n",
    "  optimizer = torch.optim.Adam(model.parameters(),\n",
    "                            lr=lr,\n",
    "                            weight_decay=5e-4)\n",
    "  loss_fn = F.nll_loss\n",
    "  metrics = {\"acc\": accuracy}\n",
    "\n",
    "  best_model = None\n",
    "  best_valid_acc = 0\n",
    "\n",
    "  for epoch in range(1, 1 + epochs):\n",
    "    loss = train_step(model, features, adj, labels, train_mask,\n",
    "                      optimizer, loss_fn)\n",
    "\n",
    "\n",
    "    result = test(model, features, adj, labels,\n",
    "                train_mask, val_mask, None, metrics)\n",
    "    train_acc = result['train']['acc']\n",
    "    valid_acc = result['val']['acc']\n",
    "    if valid_acc > best_valid_acc:\n",
    "        best_valid_acc = valid_acc\n",
    "        best_model = copy.deepcopy(model)\n",
    "    print(f'Epoch: {epoch:02d}, '\n",
    "          f'Loss: {loss:.4f}, ',\n",
    "          f'acc_train: {100*train_acc:.4f}%, ',\n",
    "          f'acc_valid: {100*valid_acc:.4f}%, ',\n",
    "          f'time: {time.time() - t:.4f}s.')\n",
    "  print(f'best acc_valid: {100*best_valid_acc:.4f}%')\n",
    "  return best_model"
   ]
  },
  {
   "cell_type": "markdown",
   "id": "7pGPt9EB9kD9",
   "metadata": {
    "id": "7pGPt9EB9kD9"
   },
   "source": [
    "Execute node classification on the Cora dataset using mean aggregation.\n",
    "\n"
   ]
  },
  {
   "cell_type": "code",
   "execution_count": null,
   "id": "bcgU70zI8KXD",
   "metadata": {
    "id": "bcgU70zI8KXD"
   },
   "outputs": [
    {
     "name": "stdout",
     "output_type": "stream",
     "text": [
      "Epoch: 01, Loss: 1.9468,  acc_train: 22.8571%,  acc_valid: 13.6000%,  time: 2.6587s.\n",
      "Epoch: 02, Loss: 1.9330,  acc_train: 40.7143%,  acc_valid: 17.2000%,  time: 3.2534s.\n",
      "Epoch: 03, Loss: 1.9098,  acc_train: 47.1429%,  acc_valid: 21.0000%,  time: 3.8583s.\n",
      "Epoch: 04, Loss: 1.8801,  acc_train: 55.0000%,  acc_valid: 28.4000%,  time: 4.4341s.\n",
      "Epoch: 05, Loss: 1.8556,  acc_train: 62.8571%,  acc_valid: 34.4000%,  time: 5.0100s.\n",
      "Epoch: 06, Loss: 1.8185,  acc_train: 70.0000%,  acc_valid: 40.2000%,  time: 5.6110s.\n"
     ]
    },
    {
     "name": "stdout",
     "output_type": "stream",
     "text": [
      "Epoch: 07, Loss: 1.7910,  acc_train: 76.4286%,  acc_valid: 43.0000%,  time: 6.2409s.\n",
      "Epoch: 08, Loss: 1.7482,  acc_train: 80.7143%,  acc_valid: 48.6000%,  time: 6.8061s.\n",
      "Epoch: 09, Loss: 1.7070,  acc_train: 82.8571%,  acc_valid: 51.4000%,  time: 7.4334s.\n",
      "Epoch: 10, Loss: 1.6474,  acc_train: 87.1429%,  acc_valid: 53.8000%,  time: 8.0668s.\n",
      "Epoch: 11, Loss: 1.6030,  acc_train: 90.0000%,  acc_valid: 57.4000%,  time: 8.6888s.\n",
      "Epoch: 12, Loss: 1.5816,  acc_train: 93.5714%,  acc_valid: 61.6000%,  time: 9.3463s.\n",
      "Epoch: 13, Loss: 1.5098,  acc_train: 97.1429%,  acc_valid: 64.4000%,  time: 9.9091s.\n",
      "Epoch: 14, Loss: 1.4806,  acc_train: 97.1429%,  acc_valid: 65.0000%,  time: 10.5667s.\n",
      "Epoch: 15, Loss: 1.4102,  acc_train: 97.8571%,  acc_valid: 66.2000%,  time: 11.1932s.\n",
      "Epoch: 16, Loss: 1.3433,  acc_train: 98.5714%,  acc_valid: 68.2000%,  time: 11.8033s.\n",
      "Epoch: 17, Loss: 1.3056,  acc_train: 98.5714%,  acc_valid: 69.0000%,  time: 12.3654s.\n",
      "Epoch: 18, Loss: 1.2901,  acc_train: 98.5714%,  acc_valid: 69.2000%,  time: 12.9395s.\n",
      "Epoch: 19, Loss: 1.2041,  acc_train: 98.5714%,  acc_valid: 69.0000%,  time: 13.5343s.\n",
      "Epoch: 20, Loss: 1.1644,  acc_train: 99.2857%,  acc_valid: 69.6000%,  time: 14.1450s.\n",
      "Epoch: 21, Loss: 1.1271,  acc_train: 99.2857%,  acc_valid: 70.2000%,  time: 14.7842s.\n",
      "Epoch: 22, Loss: 1.0850,  acc_train: 99.2857%,  acc_valid: 71.2000%,  time: 15.3555s.\n",
      "Epoch: 23, Loss: 1.0278,  acc_train: 99.2857%,  acc_valid: 71.8000%,  time: 15.9351s.\n",
      "Epoch: 24, Loss: 0.9497,  acc_train: 99.2857%,  acc_valid: 72.8000%,  time: 16.5097s.\n",
      "Epoch: 25, Loss: 0.9446,  acc_train: 99.2857%,  acc_valid: 73.4000%,  time: 17.1099s.\n",
      "Epoch: 26, Loss: 0.8914,  acc_train: 99.2857%,  acc_valid: 73.8000%,  time: 17.6966s.\n",
      "Epoch: 27, Loss: 0.8010,  acc_train: 99.2857%,  acc_valid: 74.0000%,  time: 18.3081s.\n",
      "Epoch: 28, Loss: 0.8279,  acc_train: 99.2857%,  acc_valid: 74.2000%,  time: 18.9460s.\n",
      "Epoch: 29, Loss: 0.7432,  acc_train: 99.2857%,  acc_valid: 75.0000%,  time: 19.6205s.\n",
      "Epoch: 30, Loss: 0.7297,  acc_train: 99.2857%,  acc_valid: 75.0000%,  time: 20.2302s.\n",
      "Epoch: 31, Loss: 0.6728,  acc_train: 100.0000%,  acc_valid: 75.0000%,  time: 20.9709s.\n",
      "Epoch: 32, Loss: 0.6369,  acc_train: 100.0000%,  acc_valid: 75.0000%,  time: 21.6476s.\n",
      "Epoch: 33, Loss: 0.6403,  acc_train: 100.0000%,  acc_valid: 74.2000%,  time: 22.3722s.\n",
      "Epoch: 34, Loss: 0.6215,  acc_train: 99.2857%,  acc_valid: 73.8000%,  time: 23.1006s.\n",
      "Epoch: 35, Loss: 0.5469,  acc_train: 99.2857%,  acc_valid: 74.0000%,  time: 23.7992s.\n",
      "Epoch: 36, Loss: 0.5104,  acc_train: 99.2857%,  acc_valid: 74.2000%,  time: 24.5304s.\n",
      "Epoch: 37, Loss: 0.5190,  acc_train: 99.2857%,  acc_valid: 75.0000%,  time: 25.2151s.\n",
      "Epoch: 38, Loss: 0.4836,  acc_train: 100.0000%,  acc_valid: 75.6000%,  time: 25.9218s.\n",
      "Epoch: 39, Loss: 0.5013,  acc_train: 100.0000%,  acc_valid: 76.2000%,  time: 26.6164s.\n",
      "Epoch: 40, Loss: 0.4509,  acc_train: 100.0000%,  acc_valid: 76.0000%,  time: 27.2560s.\n",
      "Epoch: 41, Loss: 0.4365,  acc_train: 100.0000%,  acc_valid: 76.2000%,  time: 27.8607s.\n",
      "Epoch: 42, Loss: 0.4022,  acc_train: 100.0000%,  acc_valid: 76.0000%,  time: 28.5399s.\n",
      "Epoch: 43, Loss: 0.4428,  acc_train: 100.0000%,  acc_valid: 75.6000%,  time: 29.2370s.\n",
      "Epoch: 44, Loss: 0.4048,  acc_train: 100.0000%,  acc_valid: 75.2000%,  time: 29.8472s.\n",
      "Epoch: 45, Loss: 0.3654,  acc_train: 100.0000%,  acc_valid: 74.8000%,  time: 30.4613s.\n",
      "Epoch: 46, Loss: 0.3707,  acc_train: 100.0000%,  acc_valid: 74.4000%,  time: 31.0916s.\n",
      "Epoch: 47, Loss: 0.3546,  acc_train: 100.0000%,  acc_valid: 74.4000%,  time: 31.7139s.\n",
      "Epoch: 48, Loss: 0.3533,  acc_train: 100.0000%,  acc_valid: 74.6000%,  time: 32.3496s.\n",
      "Epoch: 49, Loss: 0.3607,  acc_train: 100.0000%,  acc_valid: 74.6000%,  time: 33.1343s.\n",
      "Epoch: 50, Loss: 0.3158,  acc_train: 100.0000%,  acc_valid: 74.6000%,  time: 33.9240s.\n",
      "Epoch: 51, Loss: 0.3202,  acc_train: 100.0000%,  acc_valid: 75.0000%,  time: 34.7061s.\n",
      "Epoch: 52, Loss: 0.2975,  acc_train: 100.0000%,  acc_valid: 75.4000%,  time: 35.4565s.\n",
      "Epoch: 53, Loss: 0.2895,  acc_train: 100.0000%,  acc_valid: 76.2000%,  time: 36.1421s.\n",
      "Epoch: 54, Loss: 0.2937,  acc_train: 100.0000%,  acc_valid: 76.4000%,  time: 36.8253s.\n",
      "Epoch: 55, Loss: 0.2584,  acc_train: 100.0000%,  acc_valid: 76.6000%,  time: 37.4632s.\n",
      "Epoch: 56, Loss: 0.2682,  acc_train: 100.0000%,  acc_valid: 76.4000%,  time: 38.1497s.\n",
      "Epoch: 57, Loss: 0.2900,  acc_train: 100.0000%,  acc_valid: 76.0000%,  time: 38.8559s.\n",
      "Epoch: 58, Loss: 0.2793,  acc_train: 100.0000%,  acc_valid: 76.0000%,  time: 39.5253s.\n",
      "Epoch: 59, Loss: 0.2294,  acc_train: 100.0000%,  acc_valid: 76.0000%,  time: 40.1737s.\n",
      "Epoch: 60, Loss: 0.2570,  acc_train: 100.0000%,  acc_valid: 75.8000%,  time: 40.8222s.\n",
      "Epoch: 61, Loss: 0.2292,  acc_train: 100.0000%,  acc_valid: 75.6000%,  time: 41.4486s.\n",
      "Epoch: 62, Loss: 0.2226,  acc_train: 100.0000%,  acc_valid: 75.0000%,  time: 42.0524s.\n",
      "Epoch: 63, Loss: 0.2358,  acc_train: 100.0000%,  acc_valid: 75.2000%,  time: 42.7158s.\n",
      "Epoch: 64, Loss: 0.2145,  acc_train: 100.0000%,  acc_valid: 75.2000%,  time: 43.3974s.\n",
      "Epoch: 65, Loss: 0.2421,  acc_train: 100.0000%,  acc_valid: 75.2000%,  time: 44.0700s.\n",
      "Epoch: 66, Loss: 0.2047,  acc_train: 100.0000%,  acc_valid: 75.2000%,  time: 44.7118s.\n",
      "Epoch: 67, Loss: 0.2527,  acc_train: 100.0000%,  acc_valid: 75.4000%,  time: 45.3101s.\n",
      "Epoch: 68, Loss: 0.1917,  acc_train: 100.0000%,  acc_valid: 75.4000%,  time: 45.9193s.\n",
      "Epoch: 69, Loss: 0.2288,  acc_train: 100.0000%,  acc_valid: 75.6000%,  time: 46.5447s.\n",
      "Epoch: 70, Loss: 0.2021,  acc_train: 100.0000%,  acc_valid: 75.2000%,  time: 47.1798s.\n",
      "Epoch: 71, Loss: 0.2301,  acc_train: 100.0000%,  acc_valid: 75.6000%,  time: 47.7889s.\n",
      "Epoch: 72, Loss: 0.1667,  acc_train: 100.0000%,  acc_valid: 75.4000%,  time: 48.4148s.\n",
      "Epoch: 73, Loss: 0.2104,  acc_train: 100.0000%,  acc_valid: 75.0000%,  time: 49.0684s.\n",
      "Epoch: 74, Loss: 0.2148,  acc_train: 100.0000%,  acc_valid: 75.4000%,  time: 49.7327s.\n",
      "Epoch: 75, Loss: 0.2250,  acc_train: 100.0000%,  acc_valid: 76.2000%,  time: 50.4209s.\n",
      "Epoch: 76, Loss: 0.1740,  acc_train: 100.0000%,  acc_valid: 76.2000%,  time: 51.1133s.\n",
      "Epoch: 77, Loss: 0.1877,  acc_train: 100.0000%,  acc_valid: 76.4000%,  time: 51.7306s.\n",
      "Epoch: 78, Loss: 0.2309,  acc_train: 100.0000%,  acc_valid: 76.6000%,  time: 52.3145s.\n"
     ]
    },
    {
     "ename": "KeyboardInterrupt",
     "evalue": "",
     "output_type": "error",
     "traceback": [
      "\u001b[1;31m---------------------------------------------------------------------------\u001b[0m",
      "\u001b[1;31mKeyboardInterrupt\u001b[0m                         Traceback (most recent call last)",
      "Cell \u001b[1;32mIn[85], line 9\u001b[0m\n\u001b[0;32m      1\u001b[0m \u001b[38;5;66;03m## Note:\u001b[39;00m\n\u001b[0;32m      2\u001b[0m \u001b[38;5;66;03m## feel free to play with the parameters to improve validation accuracy\u001b[39;00m\n\u001b[0;32m      3\u001b[0m \u001b[38;5;66;03m## you should get a validationaccuracy of at least 77%-80%\u001b[39;00m\n\u001b[0;32m      4\u001b[0m model_GCN \u001b[38;5;241m=\u001b[39m NodeClassifier(nfeat\u001b[38;5;241m=\u001b[39mfeatures\u001b[38;5;241m.\u001b[39mshape[\u001b[38;5;241m1\u001b[39m],\n\u001b[0;32m      5\u001b[0m                   nhid\u001b[38;5;241m=\u001b[39m\u001b[38;5;241m16\u001b[39m,\n\u001b[0;32m      6\u001b[0m                   nclass\u001b[38;5;241m=\u001b[39mlabels\u001b[38;5;241m.\u001b[39mmax()\u001b[38;5;241m.\u001b[39mitem() \u001b[38;5;241m+\u001b[39m \u001b[38;5;241m1\u001b[39m,\n\u001b[0;32m      7\u001b[0m                   dropout\u001b[38;5;241m=\u001b[39m\u001b[38;5;241m0.5\u001b[39m,\n\u001b[0;32m      8\u001b[0m                   gnn_layer\u001b[38;5;241m=\u001b[39mGCN)\u001b[38;5;241m.\u001b[39mto(device)\n\u001b[1;32m----> 9\u001b[0m model_GCN \u001b[38;5;241m=\u001b[39m \u001b[43mtrain\u001b[49m\u001b[43m(\u001b[49m\u001b[43mmodel_GCN\u001b[49m\u001b[43m,\u001b[49m\u001b[43m \u001b[49m\u001b[38;5;241;43m100\u001b[39;49m\u001b[43m,\u001b[49m\u001b[43m \u001b[49m\u001b[38;5;241;43m0.01\u001b[39;49m\u001b[43m)\u001b[49m\n",
      "Cell \u001b[1;32mIn[84], line 17\u001b[0m, in \u001b[0;36mtrain\u001b[1;34m(model, epochs, lr)\u001b[0m\n\u001b[0;32m     12\u001b[0m \u001b[38;5;28;01mfor\u001b[39;00m epoch \u001b[38;5;129;01min\u001b[39;00m \u001b[38;5;28mrange\u001b[39m(\u001b[38;5;241m1\u001b[39m, \u001b[38;5;241m1\u001b[39m \u001b[38;5;241m+\u001b[39m epochs):\n\u001b[0;32m     13\u001b[0m   loss \u001b[38;5;241m=\u001b[39m train_step(model, features, adj, labels, train_mask,\n\u001b[0;32m     14\u001b[0m                     optimizer, loss_fn)\n\u001b[1;32m---> 17\u001b[0m   result \u001b[38;5;241m=\u001b[39m \u001b[43mtest\u001b[49m\u001b[43m(\u001b[49m\u001b[43mmodel\u001b[49m\u001b[43m,\u001b[49m\u001b[43m \u001b[49m\u001b[43mfeatures\u001b[49m\u001b[43m,\u001b[49m\u001b[43m \u001b[49m\u001b[43madj\u001b[49m\u001b[43m,\u001b[49m\u001b[43m \u001b[49m\u001b[43mlabels\u001b[49m\u001b[43m,\u001b[49m\n\u001b[0;32m     18\u001b[0m \u001b[43m              \u001b[49m\u001b[43mtrain_mask\u001b[49m\u001b[43m,\u001b[49m\u001b[43m \u001b[49m\u001b[43mval_mask\u001b[49m\u001b[43m,\u001b[49m\u001b[43m \u001b[49m\u001b[38;5;28;43;01mNone\u001b[39;49;00m\u001b[43m,\u001b[49m\u001b[43m \u001b[49m\u001b[43mmetrics\u001b[49m\u001b[43m)\u001b[49m\n\u001b[0;32m     19\u001b[0m   train_acc \u001b[38;5;241m=\u001b[39m result[\u001b[38;5;124m'\u001b[39m\u001b[38;5;124mtrain\u001b[39m\u001b[38;5;124m'\u001b[39m][\u001b[38;5;124m'\u001b[39m\u001b[38;5;124macc\u001b[39m\u001b[38;5;124m'\u001b[39m]\n\u001b[0;32m     20\u001b[0m   valid_acc \u001b[38;5;241m=\u001b[39m result[\u001b[38;5;124m'\u001b[39m\u001b[38;5;124mval\u001b[39m\u001b[38;5;124m'\u001b[39m][\u001b[38;5;124m'\u001b[39m\u001b[38;5;124macc\u001b[39m\u001b[38;5;124m'\u001b[39m]\n",
      "File \u001b[1;32m~\\AppData\\Local\\Packages\\PythonSoftwareFoundation.Python.3.11_qbz5n2kfra8p0\\LocalCache\\local-packages\\Python311\\site-packages\\torch\\utils\\_contextlib.py:115\u001b[0m, in \u001b[0;36mcontext_decorator.<locals>.decorate_context\u001b[1;34m(*args, **kwargs)\u001b[0m\n\u001b[0;32m    112\u001b[0m \u001b[38;5;129m@functools\u001b[39m\u001b[38;5;241m.\u001b[39mwraps(func)\n\u001b[0;32m    113\u001b[0m \u001b[38;5;28;01mdef\u001b[39;00m \u001b[38;5;21mdecorate_context\u001b[39m(\u001b[38;5;241m*\u001b[39margs, \u001b[38;5;241m*\u001b[39m\u001b[38;5;241m*\u001b[39mkwargs):\n\u001b[0;32m    114\u001b[0m     \u001b[38;5;28;01mwith\u001b[39;00m ctx_factory():\n\u001b[1;32m--> 115\u001b[0m         \u001b[38;5;28;01mreturn\u001b[39;00m \u001b[43mfunc\u001b[49m\u001b[43m(\u001b[49m\u001b[38;5;241;43m*\u001b[39;49m\u001b[43margs\u001b[49m\u001b[43m,\u001b[49m\u001b[43m \u001b[49m\u001b[38;5;241;43m*\u001b[39;49m\u001b[38;5;241;43m*\u001b[39;49m\u001b[43mkwargs\u001b[49m\u001b[43m)\u001b[49m\n",
      "Cell \u001b[1;32mIn[83], line 7\u001b[0m, in \u001b[0;36mtest\u001b[1;34m(model, X, A, y, train_mask, val_mask, test_mask, metrics)\u001b[0m\n\u001b[0;32m      5\u001b[0m \u001b[38;5;66;03m# The output of model on all data\u001b[39;00m\n\u001b[0;32m      6\u001b[0m out \u001b[38;5;241m=\u001b[39m \u001b[38;5;28;01mNone\u001b[39;00m\n\u001b[1;32m----> 7\u001b[0m logits \u001b[38;5;241m=\u001b[39m \u001b[43mmodel\u001b[49m\u001b[43m(\u001b[49m\u001b[43mX\u001b[49m\u001b[43m,\u001b[49m\u001b[43m \u001b[49m\u001b[43mA\u001b[49m\u001b[43m)\u001b[49m\n\u001b[0;32m      8\u001b[0m preds \u001b[38;5;241m=\u001b[39m logits\u001b[38;5;241m.\u001b[39margmax(dim\u001b[38;5;241m=\u001b[39m\u001b[38;5;241m1\u001b[39m)\n\u001b[0;32m     10\u001b[0m result \u001b[38;5;241m=\u001b[39m {\n\u001b[0;32m     11\u001b[0m       \u001b[38;5;124m'\u001b[39m\u001b[38;5;124mtrain\u001b[39m\u001b[38;5;124m'\u001b[39m: {},\n\u001b[0;32m     12\u001b[0m       \u001b[38;5;124m'\u001b[39m\u001b[38;5;124mval\u001b[39m\u001b[38;5;124m'\u001b[39m: {},\n\u001b[0;32m     13\u001b[0m     }\n",
      "File \u001b[1;32m~\\AppData\\Local\\Packages\\PythonSoftwareFoundation.Python.3.11_qbz5n2kfra8p0\\LocalCache\\local-packages\\Python311\\site-packages\\torch\\nn\\modules\\module.py:1518\u001b[0m, in \u001b[0;36mModule._wrapped_call_impl\u001b[1;34m(self, *args, **kwargs)\u001b[0m\n\u001b[0;32m   1516\u001b[0m     \u001b[38;5;28;01mreturn\u001b[39;00m \u001b[38;5;28mself\u001b[39m\u001b[38;5;241m.\u001b[39m_compiled_call_impl(\u001b[38;5;241m*\u001b[39margs, \u001b[38;5;241m*\u001b[39m\u001b[38;5;241m*\u001b[39mkwargs)  \u001b[38;5;66;03m# type: ignore[misc]\u001b[39;00m\n\u001b[0;32m   1517\u001b[0m \u001b[38;5;28;01melse\u001b[39;00m:\n\u001b[1;32m-> 1518\u001b[0m     \u001b[38;5;28;01mreturn\u001b[39;00m \u001b[38;5;28;43mself\u001b[39;49m\u001b[38;5;241;43m.\u001b[39;49m\u001b[43m_call_impl\u001b[49m\u001b[43m(\u001b[49m\u001b[38;5;241;43m*\u001b[39;49m\u001b[43margs\u001b[49m\u001b[43m,\u001b[49m\u001b[43m \u001b[49m\u001b[38;5;241;43m*\u001b[39;49m\u001b[38;5;241;43m*\u001b[39;49m\u001b[43mkwargs\u001b[49m\u001b[43m)\u001b[49m\n",
      "File \u001b[1;32m~\\AppData\\Local\\Packages\\PythonSoftwareFoundation.Python.3.11_qbz5n2kfra8p0\\LocalCache\\local-packages\\Python311\\site-packages\\torch\\nn\\modules\\module.py:1527\u001b[0m, in \u001b[0;36mModule._call_impl\u001b[1;34m(self, *args, **kwargs)\u001b[0m\n\u001b[0;32m   1522\u001b[0m \u001b[38;5;66;03m# If we don't have any hooks, we want to skip the rest of the logic in\u001b[39;00m\n\u001b[0;32m   1523\u001b[0m \u001b[38;5;66;03m# this function, and just call forward.\u001b[39;00m\n\u001b[0;32m   1524\u001b[0m \u001b[38;5;28;01mif\u001b[39;00m \u001b[38;5;129;01mnot\u001b[39;00m (\u001b[38;5;28mself\u001b[39m\u001b[38;5;241m.\u001b[39m_backward_hooks \u001b[38;5;129;01mor\u001b[39;00m \u001b[38;5;28mself\u001b[39m\u001b[38;5;241m.\u001b[39m_backward_pre_hooks \u001b[38;5;129;01mor\u001b[39;00m \u001b[38;5;28mself\u001b[39m\u001b[38;5;241m.\u001b[39m_forward_hooks \u001b[38;5;129;01mor\u001b[39;00m \u001b[38;5;28mself\u001b[39m\u001b[38;5;241m.\u001b[39m_forward_pre_hooks\n\u001b[0;32m   1525\u001b[0m         \u001b[38;5;129;01mor\u001b[39;00m _global_backward_pre_hooks \u001b[38;5;129;01mor\u001b[39;00m _global_backward_hooks\n\u001b[0;32m   1526\u001b[0m         \u001b[38;5;129;01mor\u001b[39;00m _global_forward_hooks \u001b[38;5;129;01mor\u001b[39;00m _global_forward_pre_hooks):\n\u001b[1;32m-> 1527\u001b[0m     \u001b[38;5;28;01mreturn\u001b[39;00m \u001b[43mforward_call\u001b[49m\u001b[43m(\u001b[49m\u001b[38;5;241;43m*\u001b[39;49m\u001b[43margs\u001b[49m\u001b[43m,\u001b[49m\u001b[43m \u001b[49m\u001b[38;5;241;43m*\u001b[39;49m\u001b[38;5;241;43m*\u001b[39;49m\u001b[43mkwargs\u001b[49m\u001b[43m)\u001b[49m\n\u001b[0;32m   1529\u001b[0m \u001b[38;5;28;01mtry\u001b[39;00m:\n\u001b[0;32m   1530\u001b[0m     result \u001b[38;5;241m=\u001b[39m \u001b[38;5;28;01mNone\u001b[39;00m\n",
      "Cell \u001b[1;32mIn[77], line 10\u001b[0m, in \u001b[0;36mNodeClassifier.forward\u001b[1;34m(self, x, adj)\u001b[0m\n\u001b[0;32m      9\u001b[0m \u001b[38;5;28;01mdef\u001b[39;00m \u001b[38;5;21mforward\u001b[39m(\u001b[38;5;28mself\u001b[39m, x, adj):\n\u001b[1;32m---> 10\u001b[0m     x \u001b[38;5;241m=\u001b[39m \u001b[38;5;28;43mself\u001b[39;49m\u001b[38;5;241;43m.\u001b[39;49m\u001b[43mgc1\u001b[49m\u001b[43m(\u001b[49m\u001b[43mx\u001b[49m\u001b[43m,\u001b[49m\u001b[43m \u001b[49m\u001b[43madj\u001b[49m\u001b[43m)\u001b[49m\n\u001b[0;32m     11\u001b[0m     x \u001b[38;5;241m=\u001b[39m F\u001b[38;5;241m.\u001b[39mdropout(x, \u001b[38;5;28mself\u001b[39m\u001b[38;5;241m.\u001b[39mdropout, training\u001b[38;5;241m=\u001b[39m\u001b[38;5;28mself\u001b[39m\u001b[38;5;241m.\u001b[39mtraining)\n\u001b[0;32m     12\u001b[0m     x \u001b[38;5;241m=\u001b[39m \u001b[38;5;28mself\u001b[39m\u001b[38;5;241m.\u001b[39mgc2(x, adj)\n",
      "File \u001b[1;32m~\\AppData\\Local\\Packages\\PythonSoftwareFoundation.Python.3.11_qbz5n2kfra8p0\\LocalCache\\local-packages\\Python311\\site-packages\\torch\\nn\\modules\\module.py:1518\u001b[0m, in \u001b[0;36mModule._wrapped_call_impl\u001b[1;34m(self, *args, **kwargs)\u001b[0m\n\u001b[0;32m   1516\u001b[0m     \u001b[38;5;28;01mreturn\u001b[39;00m \u001b[38;5;28mself\u001b[39m\u001b[38;5;241m.\u001b[39m_compiled_call_impl(\u001b[38;5;241m*\u001b[39margs, \u001b[38;5;241m*\u001b[39m\u001b[38;5;241m*\u001b[39mkwargs)  \u001b[38;5;66;03m# type: ignore[misc]\u001b[39;00m\n\u001b[0;32m   1517\u001b[0m \u001b[38;5;28;01melse\u001b[39;00m:\n\u001b[1;32m-> 1518\u001b[0m     \u001b[38;5;28;01mreturn\u001b[39;00m \u001b[38;5;28;43mself\u001b[39;49m\u001b[38;5;241;43m.\u001b[39;49m\u001b[43m_call_impl\u001b[49m\u001b[43m(\u001b[49m\u001b[38;5;241;43m*\u001b[39;49m\u001b[43margs\u001b[49m\u001b[43m,\u001b[49m\u001b[43m \u001b[49m\u001b[38;5;241;43m*\u001b[39;49m\u001b[38;5;241;43m*\u001b[39;49m\u001b[43mkwargs\u001b[49m\u001b[43m)\u001b[49m\n",
      "File \u001b[1;32m~\\AppData\\Local\\Packages\\PythonSoftwareFoundation.Python.3.11_qbz5n2kfra8p0\\LocalCache\\local-packages\\Python311\\site-packages\\torch\\nn\\modules\\module.py:1527\u001b[0m, in \u001b[0;36mModule._call_impl\u001b[1;34m(self, *args, **kwargs)\u001b[0m\n\u001b[0;32m   1522\u001b[0m \u001b[38;5;66;03m# If we don't have any hooks, we want to skip the rest of the logic in\u001b[39;00m\n\u001b[0;32m   1523\u001b[0m \u001b[38;5;66;03m# this function, and just call forward.\u001b[39;00m\n\u001b[0;32m   1524\u001b[0m \u001b[38;5;28;01mif\u001b[39;00m \u001b[38;5;129;01mnot\u001b[39;00m (\u001b[38;5;28mself\u001b[39m\u001b[38;5;241m.\u001b[39m_backward_hooks \u001b[38;5;129;01mor\u001b[39;00m \u001b[38;5;28mself\u001b[39m\u001b[38;5;241m.\u001b[39m_backward_pre_hooks \u001b[38;5;129;01mor\u001b[39;00m \u001b[38;5;28mself\u001b[39m\u001b[38;5;241m.\u001b[39m_forward_hooks \u001b[38;5;129;01mor\u001b[39;00m \u001b[38;5;28mself\u001b[39m\u001b[38;5;241m.\u001b[39m_forward_pre_hooks\n\u001b[0;32m   1525\u001b[0m         \u001b[38;5;129;01mor\u001b[39;00m _global_backward_pre_hooks \u001b[38;5;129;01mor\u001b[39;00m _global_backward_hooks\n\u001b[0;32m   1526\u001b[0m         \u001b[38;5;129;01mor\u001b[39;00m _global_forward_hooks \u001b[38;5;129;01mor\u001b[39;00m _global_forward_pre_hooks):\n\u001b[1;32m-> 1527\u001b[0m     \u001b[38;5;28;01mreturn\u001b[39;00m \u001b[43mforward_call\u001b[49m\u001b[43m(\u001b[49m\u001b[38;5;241;43m*\u001b[39;49m\u001b[43margs\u001b[49m\u001b[43m,\u001b[49m\u001b[43m \u001b[49m\u001b[38;5;241;43m*\u001b[39;49m\u001b[38;5;241;43m*\u001b[39;49m\u001b[43mkwargs\u001b[49m\u001b[43m)\u001b[49m\n\u001b[0;32m   1529\u001b[0m \u001b[38;5;28;01mtry\u001b[39;00m:\n\u001b[0;32m   1530\u001b[0m     result \u001b[38;5;241m=\u001b[39m \u001b[38;5;28;01mNone\u001b[39;00m\n",
      "Cell \u001b[1;32mIn[69], line 29\u001b[0m, in \u001b[0;36mGCN.forward\u001b[1;34m(self, x, adj)\u001b[0m\n\u001b[0;32m     18\u001b[0m \u001b[38;5;28;01mdef\u001b[39;00m \u001b[38;5;21mforward\u001b[39m(\u001b[38;5;28mself\u001b[39m, x, adj):\n\u001b[0;32m     19\u001b[0m \u001b[38;5;250m    \u001b[39m\u001b[38;5;124;03m\"\"\"\u001b[39;00m\n\u001b[0;32m     20\u001b[0m \u001b[38;5;124;03m    Forward pass of the GCN layer.\u001b[39;00m\n\u001b[0;32m     21\u001b[0m \n\u001b[1;32m   (...)\u001b[0m\n\u001b[0;32m     27\u001b[0m \u001b[38;5;124;03m    Tensor: The output features of the nodes after applying the GCN layer.\u001b[39;00m\n\u001b[0;32m     28\u001b[0m \u001b[38;5;124;03m    \"\"\"\u001b[39;00m\n\u001b[1;32m---> 29\u001b[0m     adj_norm \u001b[38;5;241m=\u001b[39m \u001b[43mmean_normalization\u001b[49m\u001b[43m(\u001b[49m\u001b[43madj\u001b[49m\u001b[43m)\u001b[49m\n\u001b[0;32m     30\u001b[0m     \u001b[38;5;66;03m############# Your code here ############\u001b[39;00m\n\u001b[0;32m     31\u001b[0m     \u001b[38;5;66;03m## Note:\u001b[39;00m\n\u001b[0;32m     32\u001b[0m     \u001b[38;5;66;03m## 1. Apply the linear transformation\u001b[39;00m\n\u001b[0;32m     33\u001b[0m     \u001b[38;5;66;03m## 2. Perform the graph convolution operation\u001b[39;00m\n\u001b[0;32m     34\u001b[0m     \u001b[38;5;66;03m## Note: rename the last line as `output`\u001b[39;00m\n\u001b[0;32m     35\u001b[0m     \u001b[38;5;66;03m## (2 lines of code)\u001b[39;00m\n\u001b[0;32m     36\u001b[0m     agg \u001b[38;5;241m=\u001b[39m torch\u001b[38;5;241m.\u001b[39mmatmul(adj_norm, x)\n",
      "Cell \u001b[1;32mIn[67], line 11\u001b[0m, in \u001b[0;36mmean_normalization\u001b[1;34m(A)\u001b[0m\n\u001b[0;32m      9\u001b[0m I \u001b[38;5;241m=\u001b[39m torch\u001b[38;5;241m.\u001b[39meye(A\u001b[38;5;241m.\u001b[39msize(\u001b[38;5;241m0\u001b[39m), device\u001b[38;5;241m=\u001b[39mA\u001b[38;5;241m.\u001b[39mdevice)\n\u001b[0;32m     10\u001b[0m D_inv \u001b[38;5;241m=\u001b[39m torch\u001b[38;5;241m.\u001b[39mdiag(\u001b[38;5;241m1.0\u001b[39m \u001b[38;5;241m/\u001b[39m (epsilon \u001b[38;5;241m+\u001b[39m torch\u001b[38;5;241m.\u001b[39msum(A, dim\u001b[38;5;241m=\u001b[39m\u001b[38;5;241m0\u001b[39m))) \u001b[38;5;66;03m# DO WE ADD EPSILON???\u001b[39;00m\n\u001b[1;32m---> 11\u001b[0m A \u001b[38;5;241m=\u001b[39m \u001b[43mA\u001b[49m\u001b[38;5;241;43m.\u001b[39;49m\u001b[43mmatmul\u001b[49m\u001b[43m(\u001b[49m\u001b[43mD_inv\u001b[49m\u001b[43m)\u001b[49m \u001b[38;5;241m+\u001b[39m I\n\u001b[0;32m     12\u001b[0m \u001b[38;5;66;03m#########################################\u001b[39;00m\n\u001b[0;32m     13\u001b[0m \u001b[38;5;28;01mreturn\u001b[39;00m A\n",
      "\u001b[1;31mKeyboardInterrupt\u001b[0m: "
     ]
    }
   ],
   "source": [
    "## Note:\n",
    "## feel free to play with the parameters to improve validation accuracy\n",
    "## you should get a validationaccuracy of at least 77%-80%\n",
    "model_GCN = NodeClassifier(nfeat=features.shape[1],\n",
    "                  nhid=16,\n",
    "                  nclass=labels.max().item() + 1,\n",
    "                  dropout=0.5,\n",
    "                  gnn_layer=GCN).to(device)\n",
    "model_GCN = train(model_GCN, 100, 0.01)"
   ]
  },
  {
   "cell_type": "markdown",
   "id": "8M_Shomo95Xq",
   "metadata": {
    "id": "8M_Shomo95Xq"
   },
   "source": [
    "Execute node classification on the Cora dataset using attention based aggregation.\n",
    "\n"
   ]
  },
  {
   "cell_type": "code",
   "execution_count": null,
   "id": "SaZjU5tn4yGk",
   "metadata": {
    "id": "SaZjU5tn4yGk"
   },
   "outputs": [
    {
     "name": "stdout",
     "output_type": "stream",
     "text": [
      "Epoch: 01, Loss: 1.9451,  acc_train: 23.5714%,  acc_valid: 13.6000%,  time: 0.0250s.\n",
      "Epoch: 02, Loss: 1.9413,  acc_train: 34.2857%,  acc_valid: 18.2000%,  time: 0.0530s.\n",
      "Epoch: 03, Loss: 1.9389,  acc_train: 43.5714%,  acc_valid: 23.2000%,  time: 0.0810s.\n",
      "Epoch: 04, Loss: 1.9346,  acc_train: 50.7143%,  acc_valid: 28.8000%,  time: 0.1110s.\n",
      "Epoch: 05, Loss: 1.9312,  acc_train: 59.2857%,  acc_valid: 31.4000%,  time: 0.1390s.\n",
      "Epoch: 06, Loss: 1.9284,  acc_train: 61.4286%,  acc_valid: 35.8000%,  time: 0.1680s.\n",
      "Epoch: 07, Loss: 1.9227,  acc_train: 64.2857%,  acc_valid: 39.8000%,  time: 0.1950s.\n",
      "Epoch: 08, Loss: 1.9176,  acc_train: 66.4286%,  acc_valid: 42.4000%,  time: 0.2220s.\n",
      "Epoch: 09, Loss: 1.9126,  acc_train: 67.8571%,  acc_valid: 44.4000%,  time: 0.2500s.\n",
      "Epoch: 10, Loss: 1.9054,  acc_train: 69.2857%,  acc_valid: 46.6000%,  time: 0.2760s.\n",
      "Epoch: 11, Loss: 1.8985,  acc_train: 70.0000%,  acc_valid: 46.8000%,  time: 0.3050s.\n",
      "Epoch: 12, Loss: 1.8908,  acc_train: 70.7143%,  acc_valid: 48.0000%,  time: 0.3310s.\n",
      "Epoch: 13, Loss: 1.8838,  acc_train: 70.7143%,  acc_valid: 49.2000%,  time: 0.3620s.\n",
      "Epoch: 14, Loss: 1.8727,  acc_train: 71.4286%,  acc_valid: 49.6000%,  time: 0.3940s.\n",
      "Epoch: 15, Loss: 1.8634,  acc_train: 72.1429%,  acc_valid: 49.8000%,  time: 0.4270s.\n",
      "Epoch: 16, Loss: 1.8582,  acc_train: 74.2857%,  acc_valid: 50.0000%,  time: 0.4560s.\n",
      "Epoch: 17, Loss: 1.8508,  acc_train: 77.1429%,  acc_valid: 50.6000%,  time: 0.4910s.\n",
      "Epoch: 18, Loss: 1.8343,  acc_train: 78.5714%,  acc_valid: 51.4000%,  time: 0.5230s.\n",
      "Epoch: 19, Loss: 1.8202,  acc_train: 79.2857%,  acc_valid: 52.0000%,  time: 0.5560s.\n",
      "Epoch: 20, Loss: 1.8024,  acc_train: 80.0000%,  acc_valid: 52.4000%,  time: 0.5860s.\n",
      "Epoch: 21, Loss: 1.7995,  acc_train: 80.0000%,  acc_valid: 52.8000%,  time: 0.6190s.\n",
      "Epoch: 22, Loss: 1.7816,  acc_train: 80.0000%,  acc_valid: 53.2000%,  time: 0.6490s.\n",
      "Epoch: 23, Loss: 1.7728,  acc_train: 80.0000%,  acc_valid: 53.0000%,  time: 0.6830s.\n",
      "Epoch: 24, Loss: 1.7497,  acc_train: 80.0000%,  acc_valid: 53.2000%,  time: 0.7130s.\n",
      "Epoch: 25, Loss: 1.7238,  acc_train: 80.0000%,  acc_valid: 53.0000%,  time: 0.7460s.\n",
      "Epoch: 26, Loss: 1.7279,  acc_train: 80.0000%,  acc_valid: 53.4000%,  time: 0.7780s.\n",
      "Epoch: 27, Loss: 1.6928,  acc_train: 80.0000%,  acc_valid: 53.4000%,  time: 0.8100s.\n",
      "Epoch: 28, Loss: 1.6884,  acc_train: 80.7143%,  acc_valid: 53.6000%,  time: 0.8470s.\n",
      "Epoch: 29, Loss: 1.6691,  acc_train: 81.4286%,  acc_valid: 54.0000%,  time: 0.8810s.\n",
      "Epoch: 30, Loss: 1.6348,  acc_train: 81.4286%,  acc_valid: 54.0000%,  time: 0.9150s.\n",
      "Epoch: 31, Loss: 1.6263,  acc_train: 80.7143%,  acc_valid: 53.8000%,  time: 0.9470s.\n",
      "Epoch: 32, Loss: 1.5979,  acc_train: 80.7143%,  acc_valid: 54.0000%,  time: 0.9800s.\n",
      "Epoch: 33, Loss: 1.5908,  acc_train: 80.7143%,  acc_valid: 54.2000%,  time: 1.0170s.\n",
      "Epoch: 34, Loss: 1.5685,  acc_train: 81.4286%,  acc_valid: 54.6000%,  time: 1.0510s.\n",
      "Epoch: 35, Loss: 1.5345,  acc_train: 81.4286%,  acc_valid: 55.4000%,  time: 1.0850s.\n",
      "Epoch: 36, Loss: 1.5074,  acc_train: 82.1429%,  acc_valid: 56.4000%,  time: 1.1190s.\n",
      "Epoch: 37, Loss: 1.4792,  acc_train: 82.1429%,  acc_valid: 57.2000%,  time: 1.1490s.\n",
      "Epoch: 38, Loss: 1.4835,  acc_train: 82.8571%,  acc_valid: 57.6000%,  time: 1.1840s.\n",
      "Epoch: 39, Loss: 1.4427,  acc_train: 82.8571%,  acc_valid: 58.0000%,  time: 1.2200s.\n",
      "Epoch: 40, Loss: 1.4176,  acc_train: 83.5714%,  acc_valid: 58.6000%,  time: 1.2540s.\n",
      "Epoch: 41, Loss: 1.3816,  acc_train: 83.5714%,  acc_valid: 58.8000%,  time: 1.2870s.\n",
      "Epoch: 42, Loss: 1.3943,  acc_train: 83.5714%,  acc_valid: 59.6000%,  time: 1.3210s.\n",
      "Epoch: 43, Loss: 1.3333,  acc_train: 83.5714%,  acc_valid: 60.0000%,  time: 1.3510s.\n",
      "Epoch: 44, Loss: 1.3043,  acc_train: 83.5714%,  acc_valid: 60.4000%,  time: 1.3890s.\n",
      "Epoch: 45, Loss: 1.2851,  acc_train: 83.5714%,  acc_valid: 61.4000%,  time: 1.4280s.\n",
      "Epoch: 46, Loss: 1.2955,  acc_train: 83.5714%,  acc_valid: 62.2000%,  time: 1.4620s.\n",
      "Epoch: 47, Loss: 1.2061,  acc_train: 83.5714%,  acc_valid: 62.4000%,  time: 1.4950s.\n",
      "Epoch: 48, Loss: 1.2192,  acc_train: 85.0000%,  acc_valid: 62.8000%,  time: 1.5280s.\n",
      "Epoch: 49, Loss: 1.1661,  acc_train: 85.0000%,  acc_valid: 63.6000%,  time: 1.5640s.\n",
      "Epoch: 50, Loss: 1.1715,  acc_train: 86.4286%,  acc_valid: 64.8000%,  time: 1.5970s.\n",
      "Epoch: 51, Loss: 1.1469,  acc_train: 87.1429%,  acc_valid: 65.4000%,  time: 1.6330s.\n",
      "Epoch: 52, Loss: 1.1178,  acc_train: 88.5714%,  acc_valid: 65.8000%,  time: 1.6640s.\n",
      "Epoch: 53, Loss: 1.1241,  acc_train: 89.2857%,  acc_valid: 65.6000%,  time: 1.6960s.\n",
      "Epoch: 54, Loss: 1.0712,  acc_train: 90.0000%,  acc_valid: 66.0000%,  time: 1.7310s.\n",
      "Epoch: 55, Loss: 1.0617,  acc_train: 90.0000%,  acc_valid: 66.4000%,  time: 1.7630s.\n",
      "Epoch: 56, Loss: 1.0413,  acc_train: 90.0000%,  acc_valid: 66.8000%,  time: 1.7960s.\n",
      "Epoch: 57, Loss: 0.9869,  acc_train: 90.0000%,  acc_valid: 67.4000%,  time: 1.8290s.\n",
      "Epoch: 58, Loss: 1.0205,  acc_train: 91.4286%,  acc_valid: 67.8000%,  time: 1.8630s.\n",
      "Epoch: 59, Loss: 0.9906,  acc_train: 91.4286%,  acc_valid: 69.0000%,  time: 1.8980s.\n",
      "Epoch: 60, Loss: 0.9472,  acc_train: 92.1429%,  acc_valid: 69.6000%,  time: 1.9310s.\n",
      "Epoch: 61, Loss: 0.9470,  acc_train: 92.8571%,  acc_valid: 70.2000%,  time: 1.9640s.\n",
      "Epoch: 62, Loss: 0.9557,  acc_train: 92.8571%,  acc_valid: 70.6000%,  time: 1.9970s.\n",
      "Epoch: 63, Loss: 0.8755,  acc_train: 92.8571%,  acc_valid: 71.2000%,  time: 2.0310s.\n",
      "Epoch: 64, Loss: 0.8613,  acc_train: 94.2857%,  acc_valid: 72.0000%,  time: 2.0690s.\n",
      "Epoch: 65, Loss: 0.8435,  acc_train: 94.2857%,  acc_valid: 72.0000%,  time: 2.1040s.\n",
      "Epoch: 66, Loss: 0.8496,  acc_train: 94.2857%,  acc_valid: 72.0000%,  time: 2.1410s.\n",
      "Epoch: 67, Loss: 0.7674,  acc_train: 95.0000%,  acc_valid: 72.2000%,  time: 2.1740s.\n",
      "Epoch: 68, Loss: 0.8237,  acc_train: 95.0000%,  acc_valid: 72.8000%,  time: 2.2020s.\n",
      "Epoch: 69, Loss: 0.7945,  acc_train: 95.0000%,  acc_valid: 73.0000%,  time: 2.2410s.\n",
      "Epoch: 70, Loss: 0.7884,  acc_train: 95.7143%,  acc_valid: 73.2000%,  time: 2.2770s.\n",
      "Epoch: 71, Loss: 0.8066,  acc_train: 95.7143%,  acc_valid: 73.2000%,  time: 2.3100s.\n",
      "Epoch: 72, Loss: 0.7596,  acc_train: 95.7143%,  acc_valid: 73.0000%,  time: 2.3410s.\n",
      "Epoch: 73, Loss: 0.7366,  acc_train: 95.7143%,  acc_valid: 73.2000%,  time: 2.3740s.\n",
      "Epoch: 74, Loss: 0.6612,  acc_train: 95.7143%,  acc_valid: 73.4000%,  time: 2.4040s.\n",
      "Epoch: 75, Loss: 0.6753,  acc_train: 96.4286%,  acc_valid: 73.2000%,  time: 2.4380s.\n",
      "Epoch: 76, Loss: 0.6988,  acc_train: 96.4286%,  acc_valid: 73.4000%,  time: 2.4750s.\n",
      "Epoch: 77, Loss: 0.6700,  acc_train: 97.1429%,  acc_valid: 73.4000%,  time: 2.5070s.\n",
      "Epoch: 78, Loss: 0.6923,  acc_train: 97.1429%,  acc_valid: 73.4000%,  time: 2.5430s.\n",
      "Epoch: 79, Loss: 0.6415,  acc_train: 97.1429%,  acc_valid: 73.6000%,  time: 2.5760s.\n",
      "Epoch: 80, Loss: 0.6934,  acc_train: 97.1429%,  acc_valid: 73.8000%,  time: 2.6100s.\n",
      "Epoch: 81, Loss: 0.6543,  acc_train: 97.1429%,  acc_valid: 74.0000%,  time: 2.6450s.\n",
      "Epoch: 82, Loss: 0.6011,  acc_train: 97.1429%,  acc_valid: 74.0000%,  time: 2.6760s.\n",
      "Epoch: 83, Loss: 0.5941,  acc_train: 97.1429%,  acc_valid: 74.0000%,  time: 2.7090s.\n",
      "Epoch: 84, Loss: 0.5640,  acc_train: 97.1429%,  acc_valid: 74.2000%,  time: 2.7420s.\n"
     ]
    },
    {
     "name": "stdout",
     "output_type": "stream",
     "text": [
      "Epoch: 85, Loss: 0.5855,  acc_train: 97.8571%,  acc_valid: 74.4000%,  time: 2.7790s.\n",
      "Epoch: 86, Loss: 0.5172,  acc_train: 97.8571%,  acc_valid: 74.0000%,  time: 2.8130s.\n",
      "Epoch: 87, Loss: 0.5318,  acc_train: 97.8571%,  acc_valid: 74.8000%,  time: 2.8640s.\n",
      "Epoch: 88, Loss: 0.5697,  acc_train: 97.8571%,  acc_valid: 74.8000%,  time: 2.8970s.\n",
      "Epoch: 89, Loss: 0.5509,  acc_train: 97.1429%,  acc_valid: 74.8000%,  time: 2.9350s.\n",
      "Epoch: 90, Loss: 0.5335,  acc_train: 97.8571%,  acc_valid: 74.8000%,  time: 2.9690s.\n",
      "Epoch: 91, Loss: 0.4959,  acc_train: 97.8571%,  acc_valid: 74.8000%,  time: 3.0010s.\n",
      "Epoch: 92, Loss: 0.4799,  acc_train: 98.5714%,  acc_valid: 75.0000%,  time: 3.0330s.\n",
      "Epoch: 93, Loss: 0.4566,  acc_train: 98.5714%,  acc_valid: 75.0000%,  time: 3.0640s.\n",
      "Epoch: 94, Loss: 0.4845,  acc_train: 98.5714%,  acc_valid: 75.2000%,  time: 3.0960s.\n",
      "Epoch: 95, Loss: 0.4421,  acc_train: 98.5714%,  acc_valid: 75.0000%,  time: 3.1310s.\n",
      "Epoch: 96, Loss: 0.4928,  acc_train: 98.5714%,  acc_valid: 75.0000%,  time: 3.1660s.\n",
      "Epoch: 97, Loss: 0.4453,  acc_train: 97.8571%,  acc_valid: 75.0000%,  time: 3.1980s.\n",
      "Epoch: 98, Loss: 0.4160,  acc_train: 97.8571%,  acc_valid: 75.0000%,  time: 3.2310s.\n",
      "Epoch: 99, Loss: 0.4528,  acc_train: 97.8571%,  acc_valid: 75.0000%,  time: 3.2630s.\n",
      "Epoch: 100, Loss: 0.4154,  acc_train: 98.5714%,  acc_valid: 75.0000%,  time: 3.2940s.\n",
      "best acc_valid: 75.2000%\n"
     ]
    }
   ],
   "source": [
    "## Note:\n",
    "## feel free to play with the parameters to improve validation accuracy\n",
    "## you should get a validationaccuracy of at least 77%-80%\n",
    "model_GAT = NodeClassifier(nfeat=features.shape[1],\n",
    "              nhid=16,\n",
    "              nclass=labels.max().item() + 1,\n",
    "              dropout=0.5,\n",
    "              gnn_layer=GAT).to(device)\n",
    "model_GAT = train(model_GAT, 100, 0.01)"
   ]
  },
  {
   "cell_type": "markdown",
   "id": "jAqFqoZPUTHN",
   "metadata": {
    "id": "jAqFqoZPUTHN"
   },
   "source": [
    "## Visualize and analize results (7 points)"
   ]
  },
  {
   "cell_type": "markdown",
   "id": "-mAEk0w8ZiMy",
   "metadata": {
    "id": "-mAEk0w8ZiMy"
   },
   "source": [
    "\n",
    "Familiarize yourself with the following utility functions, which are designed for visual analysis and will assist us in evaluating our GNNs."
   ]
  },
  {
   "cell_type": "code",
   "execution_count": null,
   "id": "_4lCscL3U1GG",
   "metadata": {
    "id": "_4lCscL3U1GG"
   },
   "outputs": [],
   "source": [
    "def plot_embeddings(embeddings1, embeddings2, labels):\n",
    "    # Convert multi-labels to unique integers for color-coding\n",
    "    unique_labels, label_indices = np.unique(labels, axis=0, return_inverse=True)\n",
    "\n",
    "    # Set up the matplotlib figure and axes\n",
    "    fig, axs = plt.subplots(1, 2, figsize=(12, 6))\n",
    "\n",
    "    # Perform PCA for both sets of embeddings\n",
    "    pca = PCA(n_components=2)\n",
    "    pca_result1 = pca.fit_transform(embeddings1)\n",
    "    pca_result2 = pca.fit_transform(embeddings2)\n",
    "\n",
    "    # Plotting GCN\n",
    "    scatter1 = axs[0].scatter(pca_result1[:, 0], pca_result1[:, 1], c=label_indices, cmap='viridis')\n",
    "    axs[0].set_title('GCN')\n",
    "    axs[0].set_xlabel('PCA Component 1')\n",
    "    axs[0].set_ylabel('PCA Component 2')\n",
    "\n",
    "    # Plotting GAT\n",
    "    scatter2 = axs[1].scatter(pca_result2[:, 0], pca_result2[:, 1], c=label_indices, cmap='viridis')\n",
    "    axs[1].set_title('GAT')\n",
    "    axs[1].set_xlabel('PCA Component 1')\n",
    "    axs[1].set_ylabel('PCA Component 2')\n",
    "\n",
    "    # Create a color bar with label information\n",
    "    cbar = plt.colorbar(scatter1, ax=axs, orientation='vertical', fraction=0.046, pad=0.04)\n",
    "    cbar.set_label('Label Combinations')\n",
    "    cbar.set_ticks(np.arange(len(unique_labels)))\n",
    "    cbar.set_ticklabels([' + '.join(str(comb)) for comb in unique_labels])\n",
    "\n",
    "    # Show the plot\n",
    "    plt.show()\n"
   ]
  },
  {
   "cell_type": "code",
   "execution_count": null,
   "id": "4XlA1WI7YsnC",
   "metadata": {
    "id": "4XlA1WI7YsnC"
   },
   "outputs": [],
   "source": [
    "def plot_weight_distributions(weights1, weights2):\n",
    "    # Flatten the weight matrices\n",
    "    flattened_weights1 = weights1.flatten()\n",
    "    flattened_weights2 = weights2.flatten()\n",
    "\n",
    "    # Create KDE plots\n",
    "    plt.figure(figsize=(12, 6))\n",
    "    sns.kdeplot(flattened_weights1, fill=True, color=\"r\", label=\"GCN\")\n",
    "    sns.kdeplot(flattened_weights2, fill=True, color=\"b\", label=\"GAT\")\n",
    "\n",
    "    plt.title(\"Distribution of GNN Weights\")\n",
    "    plt.xlabel(\"Weight Value\")\n",
    "    plt.ylabel(\"Density\")\n",
    "    plt.legend()\n",
    "    plt.show()\n"
   ]
  },
  {
   "cell_type": "code",
   "execution_count": null,
   "id": "uC6QMjPadcfk",
   "metadata": {
    "id": "uC6QMjPadcfk"
   },
   "outputs": [],
   "source": [
    "def plot_metrics(metrics, title, phases = ['train', 'val', 'test']):\n",
    "    n_phases = len(phases)\n",
    "\n",
    "    # Setting up the subplot grid\n",
    "    fig, axs = plt.subplots(n_phases, 1, figsize=(15, 6 * n_phases), sharey=True)\n",
    "\n",
    "    for i, phase in enumerate(phases):\n",
    "        # Extracting metric names\n",
    "        metric_names = list(metrics[0][phase].keys())\n",
    "\n",
    "        # Number of metrics\n",
    "        n_metrics = len(metric_names)\n",
    "\n",
    "        # Data for plotting\n",
    "        scores_modelA = [metrics[0][phase][metric] for metric in metric_names]\n",
    "        scores_modelB = [metrics[1][phase][metric] for metric in metric_names]\n",
    "\n",
    "        # Setting the positions and width for the bars\n",
    "        pos = np.arange(n_metrics)\n",
    "        bar_width = 0.35\n",
    "\n",
    "        # Plotting in the respective subplot\n",
    "        axs[i].bar(pos - bar_width/2, scores_modelA, bar_width, label='GCN')\n",
    "        axs[i].bar(pos + bar_width/2, scores_modelB, bar_width, label='GAT')\n",
    "\n",
    "        # Adding labels and titles\n",
    "        axs[i].set_xlabel('Metrics')\n",
    "        axs[i].set_title(f'{phase.capitalize()} Metrics')\n",
    "        axs[i].set_xticks(pos)\n",
    "        axs[i].set_xticklabels(metric_names)\n",
    "\n",
    "        # Adding a legend to the first subplot\n",
    "        if i == 0:\n",
    "            axs[i].legend()\n",
    "\n",
    "    # Setting the main title and showing the plot\n",
    "    plt.suptitle(title)\n",
    "    plt.tight_layout(rect=[0, 0.03, 1, 0.95])\n",
    "    plt.show()"
   ]
  },
  {
   "cell_type": "markdown",
   "id": "di6Zhiq0ds3p",
   "metadata": {
    "id": "di6Zhiq0ds3p"
   },
   "source": [
    "### Node Embeddings"
   ]
  },
  {
   "cell_type": "code",
   "execution_count": null,
   "id": "hnPNAFYLFORu",
   "metadata": {
    "id": "hnPNAFYLFORu"
   },
   "outputs": [
    {
     "data": {
      "image/png": "[encoded data removed]",
      "text/plain": [
       "<Figure size 1200x600 with 3 Axes>"
      ]
     },
     "metadata": {},
     "output_type": "display_data"
    }
   ],
   "source": [
    "############# Your code here ############\n",
    "## 1. Generate embeddings using the GCN model\n",
    "## 2. Generate embeddings using the GAT model\n",
    "## Note: use detach to avoid using the computation graph\n",
    "## convert the tensor to a numpy array\n",
    "## use H_GCN and H_GAT as variable names\n",
    "## (~2 lines of code)\n",
    "H_GCN = model_GCN(features, adj).detach().cpu().numpy()\n",
    "H_GAT = model_GAT(features, adj).detach().cpu().numpy()\n",
    "#########################################\n",
    "plot_embeddings(H_GCN,H_GAT, labels.detach().cpu().numpy())"
   ]
  },
  {
   "cell_type": "markdown",
   "id": "qgz-LV0laj5U",
   "metadata": {
    "id": "qgz-LV0laj5U"
   },
   "source": [
    "Based on the visualizations in the plots, what insights can you gather about the embeddings generated by each model?"
   ]
  },
  {
   "cell_type": "markdown",
   "id": "PSbW4t-Ed6kr",
   "metadata": {
    "id": "PSbW4t-Ed6kr"
   },
   "source": [
    "######## Your response here (double-click) ########\n",
    "\n",
    "The plots show the distribution of nodes in a two-dimensional space where each point's color corresponds to its label. The plots are side by side for comparison between the embedding spaces generated by the GCN and GAT models.\n",
    "\n",
    "The GCN plot shows a wide dispersion of data points along PCA Component 1, suggesting a high variance captured by this principal component. However, the points are more clustered along PCA Component 2, indicating less variance captured in that direction.\n",
    "\n",
    "The GAT plot, on the other hand, exhibits a more compact cluster of data points, with a distinct pattern that might suggest a higher level of structure within the data. This could imply that the attention mechanism in GAT provides a more nuanced aggregation of neighbor information, which results in embeddings that better capture the relationships between nodes.\n",
    "\n",
    "The color bar indicates that there are potentially 7 labels (0-6), and it seems that the GAT model might be creating embeddings that allow for clearer separation of these labels, especially if the labels represent different classes or types of nodes in the graph. This could be beneficial for downstream tasks such as node classification.\n",
    "\n",
    "#########################################"
   ]
  },
  {
   "cell_type": "markdown",
   "id": "b5NkRAVHefKI",
   "metadata": {
    "id": "b5NkRAVHefKI"
   },
   "source": [
    "### Distribution of learned weights"
   ]
  },
  {
   "cell_type": "code",
   "execution_count": null,
   "id": "bcXWvuy0Yc7n",
   "metadata": {
    "id": "bcXWvuy0Yc7n"
   },
   "outputs": [
    {
     "data": {
      "image/png": "[encoded data removed]",
      "text/plain": [
       "<Figure size 1200x600 with 1 Axes>"
      ]
     },
     "metadata": {},
     "output_type": "display_data"
    }
   ],
   "source": [
    "############# Your code here ############\n",
    "## 1. Extract the weights from the second graph\n",
    "## convolutional layer (gc2) of the GCN model\n",
    "## 2. Extract the weights from the second graph\n",
    "## convolutional layer (gc2) of the GAT model\n",
    "## Note: use detach to avoid using the computation graph\n",
    "## convert the tensor to a numpy array\n",
    "## use Omega_GCN_gc2 and Omega_GAT_gc2 as variable names\n",
    "## (~2 lines of code)\n",
    "Omega_GCN_gc2 = model_GCN.gc2.weight.detach().cpu().numpy()\n",
    "Omega_GAT_gc2 = model_GAT.gc2.weight.detach().cpu().numpy()\n",
    "#########################################\n",
    "plot_weight_distributions(Omega_GCN_gc2, Omega_GAT_gc2)"
   ]
  },
  {
   "cell_type": "markdown",
   "id": "uffhAF6Ie9iD",
   "metadata": {
    "id": "uffhAF6Ie9iD"
   },
   "source": [
    "Reflect on the observed distributions of the weights from the models. What conclusions or understandings can be drawn about the behavior and characteristics of each model based on these distributions?\n",
    "\n",
    "\n",
    "\n",
    "\n"
   ]
  },
  {
   "cell_type": "markdown",
   "id": "Poj0JkdBe9vV",
   "metadata": {
    "id": "Poj0JkdBe9vV"
   },
   "source": [
    "######## Your response here (double-click) ########\n",
    "\n",
    "Based on the plot, we can make several observations and potential conclusions about the behavior and characteristics of each model:\n",
    "\n",
    "Centering of Weights:\n",
    "\n",
    "Both distributions are centered around zero, but the GCN distribution is more tightly centered. This suggests that the GCN model may have a stronger regularization effect or it may be less complex, driving the weights towards smaller values.\n",
    "Spread of the Distributions:\n",
    "\n",
    "The GAT distribution appears to be broader with a larger spread of values than the GCN distribution. A wider distribution might indicate that the GAT model has learned a more complex function, with a greater variety of weight values indicating that the model is making use of a wider range of feature transformations.\n",
    "Multiplicity of Modes:\n",
    "\n",
    "The GAT's weight distribution has two clear peaks (bimodal distribution), which could imply that the attention mechanism has resulted in the model learning to differentiate more distinctly between different types of relationships or features in the data. This bimodal distribution could also suggest that the GAT model has specialized some of its weights for different types of nodes or edges in the graph, which might help in better feature representation.\n",
    "Implications for Downstream Tasks:\n",
    "\n",
    "The more complex weight distribution of the GAT might result in better performance on downstream tasks, especially in cases where the relationships between nodes are complex and varied. However, this complexity could also lead to overfitting if not properly regularized or if trained on insufficient data.\n",
    "Potential for Overfitting:\n",
    "\n",
    "The greater variance in the GAT weights could potentially lead to overfitting, as the model may be fitting to the noise rather than the underlying data structure. This would need to be checked against a validation set or through techniques such as dropout or weight decay.\n",
    "Model Sensitivity:\n",
    "\n",
    "The shape of the GAT's weight distribution may indicate that the model's attention mechanism is sensitive to the features of the nodes, giving it the ability to assign different importance to different nodes based on their features.\n",
    "In summary, the observed weight distributions suggest that the GAT model potentially captures more complex patterns and relationships in the data than the GCN model. However, care must be taken to ensure that this complexity does not lead to overfitting. These interpretations should be validated with performance metrics on a hold-out test set and, if possible, by examining how changes in the model's architecture or training procedure affect the weight distributions and task performance.\n",
    "\n",
    "#########################################"
   ]
  },
  {
   "cell_type": "markdown",
   "id": "WwhgePeTe4tK",
   "metadata": {
    "id": "WwhgePeTe4tK"
   },
   "source": [
    "### Metrics"
   ]
  },
  {
   "cell_type": "code",
   "execution_count": null,
   "id": "TjhJAM3GbkWW",
   "metadata": {
    "id": "TjhJAM3GbkWW"
   },
   "outputs": [],
   "source": [
    "metrics = {\"acc\": accuracy, \"sensitivity\": sensitivity, \"specifity\": specificity}\n",
    "results_GCN = test(model_GCN, features, adj,\n",
    "                   labels, train_mask, val_mask, test_mask, metrics)\n",
    "results_GAT = test(model_GAT, features, adj,\n",
    "                   labels, train_mask, val_mask, test_mask, metrics)"
   ]
  },
  {
   "cell_type": "code",
   "execution_count": null,
   "id": "26gMjOincTMm",
   "metadata": {
    "id": "26gMjOincTMm"
   },
   "outputs": [
    {
     "data": {
      "image/png": "[encoded data removed]",
      "text/plain": [
       "<Figure size 1500x1800 with 3 Axes>"
      ]
     },
     "metadata": {},
     "output_type": "display_data"
    }
   ],
   "source": [
    "plot_metrics([results_GCN, results_GAT], 'Metric Comparison')"
   ]
  },
  {
   "cell_type": "markdown",
   "id": "ArHRsbJ7gv9t",
   "metadata": {
    "id": "ArHRsbJ7gv9t"
   },
   "source": [
    "How might you interpret the outcomes of these results?\n",
    "\n",
    "\n",
    "\n",
    "\n"
   ]
  },
  {
   "cell_type": "markdown",
   "id": "hWjw5eD7gmx7",
   "metadata": {
    "id": "hWjw5eD7gmx7"
   },
   "source": [
    "######## Your response here (double-click) ########\n",
    "\n",
    "Accuracy (acc):\n",
    "\n",
    "Both models perform comparably on the training set, with GAT showing a slightly higher accuracy.\n",
    "On the validation set, GCN has a marginally higher accuracy compared to GAT.\n",
    "For the test set, the accuracy of GCN is slightly higher than that of GAT.\n",
    "Sensitivity:\n",
    "\n",
    "In the training set, both models have identical sensitivity.\n",
    "In the validation set, the sensitivity of GCN is slightly higher than that of GAT.\n",
    "The sensitivity is again identical in the test set, just like in the training set.\n",
    "Specificity:\n",
    "\n",
    "Specificity is identical across both models in the training and test sets.\n",
    "There's a slight difference in the validation set, with GAT having marginally lower specificity than GCN.\n",
    "From these observations, several interpretations can be drawn:\n",
    "\n",
    "The performance of both models is quite similar across all metrics, suggesting that for this particular task and dataset, the additional complexity of the GAT model does not provide a substantial benefit over the GCN model.\n",
    "\n",
    "The GAT model's marginally higher training accuracy could be a result of the attention mechanism's ability to capture more nuanced patterns in the data. However, this does not translate into clear gains on the validation or test sets, which might indicate that the nuances captured by the attention mechanism are not generalizing as well outside the training data.\n",
    "\n",
    "The similar sensitivity values across the models on both the training and test sets suggest that both models are equally good at identifying true positive cases. However, the slightly higher sensitivity of GCN on the validation set suggests it may be better at generalizing the detection of positive cases to unseen data.\n",
    "\n",
    "Specificity measures the true negative rate. The fact that specificity is identical for both models on the training and test sets suggests that both models are equally good at identifying true negative cases.\n",
    "\n",
    "The slight drop in GAT's specificity on the validation set compared to GCN might suggest that GAT could be overfitting to the training data, making it less effective at recognizing true negatives on unseen data. However, this difference is minor.\n",
    "\n",
    "It is important to note that the differences in performance are relatively small. The choice between using a GCN or a GAT might thus depend on other factors such as computational efficiency, ease of implementation, or the specific nature of the dataset.\n",
    "\n",
    "Overall, while the GAT model is theoretically capable of capturing more complex patterns through its attention mechanism, in practice, for this dataset and task, it does not outperform the simpler GCN model in a significant way. It would be important to consider the complexity versus performance trade-off when choosing between these models for deployment.\n",
    "\n",
    "#########################################"
   ]
  },
  {
   "cell_type": "markdown",
   "id": "qIc4lj0whLbW",
   "metadata": {
    "id": "qIc4lj0whLbW"
   },
   "source": [
    "## Bonus question 1\n",
    "\n",
    "What changes in the GCN and GAT layers would result in a more effective implementation?\n",
    "\n",
    "Hint: See how [message passing](https://pytorch-geometric.readthedocs.io/en/latest/notes/create_gnn.html) is implemented in PyTorch Geometric.\n",
    "\n",
    "Furthermore, explore the specific implementations for [GCN](https://pytorch-geometric.readthedocs.io/en/latest/generated/torch_geometric.nn.conv.GCNConv.html) and [GAT](https://pytorch-geometric.readthedocs.io/en/latest/generated/torch_geometric.nn.conv.GATConv.html).\n",
    "\n",
    "*Note: Bonus questions are ungraded yet provide an opportunity for those who wish to delve deeper into their graph based learning journey.*\n"
   ]
  },
  {
   "cell_type": "markdown",
   "id": "Q4uW3ekljtlQ",
   "metadata": {
    "id": "Q4uW3ekljtlQ"
   },
   "source": [
    "######## Your response here (double-click) ########\n",
    "\n",
    "\n",
    "\n",
    "#########################################"
   ]
  },
  {
   "cell_type": "markdown",
   "id": "ahE7TBzSwKCt",
   "metadata": {
    "id": "ahE7TBzSwKCt"
   },
   "source": [
    "## Bonus question 2\n",
    "\n",
    "Write the kipf normalization\n",
    "\n",
    "$H_{k+1} = a[\\beta_k\\mathbf{1}^T + \\Omega_kH_k(D^{-1/2}AD^{-1/2}+I)]$\n",
    "\n",
    "*Note: Bonus questions are ungraded yet provide an opportunity for those who wish to delve deeper into their graph based learning journey.*\n"
   ]
  },
  {
   "cell_type": "code",
   "execution_count": null,
   "id": "IQ_VTX4Awo7n",
   "metadata": {
    "id": "IQ_VTX4Awo7n"
   },
   "outputs": [],
   "source": [
    "def kipf_normalization(A):\n",
    "  ############# Your code here ############\n",
    "  eps = 1e-5\n",
    "  D_inv_sqrt = torch.diag(1 / (eps + torch.sqrt(torch.sum(A, dim=0))))\n",
    "  A = D_inv_sqrt @ A @ D_inv_sqrt\n",
    "  #########################################\n",
    "  return A"
   ]
  },
  {
   "cell_type": "markdown",
   "id": "Gaf3LOV7c5O9",
   "metadata": {
    "id": "Gaf3LOV7c5O9"
   },
   "source": [
    "# 4) Propagation rule integrating edge features/embeddings (15 points)"
   ]
  },
  {
   "cell_type": "code",
   "execution_count": 5,
   "id": "aCStFPrA8rAD",
   "metadata": {
    "id": "aCStFPrA8rAD"
   },
   "outputs": [
    {
     "name": "stdout",
     "output_type": "stream",
     "text": [
      "[[[  0   0   0   0]\n",
      "  [  1   7  50 390]\n",
      "  [  1   5  44 323]\n",
      "  ...\n",
      "  [  0   0   0   0]\n",
      "  [  0   0   0   0]\n",
      "  [  0   0   0   0]]\n",
      "\n",
      " [[  1   7  50 390]\n",
      "  [  0   0   0   0]\n",
      "  [  1   6  47 363]\n",
      "  ...\n",
      "  [  0   0   0   0]\n",
      "  [  0   0   0   0]\n",
      "  [  0   0   0   0]]\n",
      "\n",
      " [[  1   5  44 323]\n",
      "  [  1   6  47 363]\n",
      "  [  0   0   0   0]\n",
      "  ...\n",
      "  [  0   0   0   0]\n",
      "  [  0   0   0   0]\n",
      "  [  0   0   0   0]]\n",
      "\n",
      " ...\n",
      "\n",
      " [[  0   0   0   0]\n",
      "  [  0   0   0   0]\n",
      "  [  0   0   0   0]\n",
      "  ...\n",
      "  [  0   0   0   0]\n",
      "  [  0   0   0   0]\n",
      "  [  1   4  40 272]]\n",
      "\n",
      " [[  0   0   0   0]\n",
      "  [  0   0   0   0]\n",
      "  [  0   0   0   0]\n",
      "  ...\n",
      "  [  0   0   0   0]\n",
      "  [  0   0   0   0]\n",
      "  [  1   3  45 288]]\n",
      "\n",
      " [[  0   0   0   0]\n",
      "  [  0   0   0   0]\n",
      "  [  0   0   0   0]\n",
      "  ...\n",
      "  [  1   4  40 272]\n",
      "  [  1   3  45 288]\n",
      "  [  0   0   0   0]]]\n",
      "[[1.]\n",
      " [1.]\n",
      " [1.]\n",
      " [1.]\n",
      " [1.]\n",
      " [1.]\n",
      " [1.]\n",
      " [1.]\n",
      " [1.]\n",
      " [1.]\n",
      " [0.]\n",
      " [0.]\n",
      " [0.]\n",
      " [0.]\n",
      " [0.]\n",
      " [0.]\n",
      " [0.]\n",
      " [0.]\n",
      " [0.]\n",
      " [0.]]\n"
     ]
    }
   ],
   "source": [
    "\n",
    "seed = 42\n",
    "np.random.seed(seed)  # Setting a fixed seed for numpy random number generator\n",
    "\n",
    "\n",
    "# we will create a stochastic block model graph with two communities and 20 nodes\n",
    "G = nx.stochastic_block_model(sizes=[10, 10], p=[[0.8, 0.1], [0.1, 0.8]], seed=seed)\n",
    "\n",
    "# We will create a node feature\n",
    "communities = nx.community.louvain_communities(G)\n",
    "X = np.zeros((len(G), 1))\n",
    "X[list(communities[0])] = 1\n",
    "\n",
    "A = nx.adjacency_matrix(G).todense()\n",
    "\n",
    "# we will use powers of the adjacency matrix as edge features (considering edge embeddings only on edges already existing)\n",
    "E1 = A\n",
    "E2 = (A @ A)*A # we zero the embedding on edges which aren't connected\n",
    "E3 = (A @ A @ A)*A\n",
    "E4 = (A @ A @ A @ A)*A\n",
    "\n",
    "E = np.stack((E1, E2, E3, E4), axis = 2)\n",
    "\n",
    "print(E)\n",
    "print(X)"
   ]
  },
  {
   "cell_type": "markdown",
   "id": "3EPth4u885N-",
   "metadata": {
    "id": "3EPth4u885N-"
   },
   "source": [
    "### 4.1) Graph visualization <b>(5 points)</b>\n",
    "\n",
    "#### 4.1.1 Use networkx to visualize the structure and the node features of the graph. (2 points)"
   ]
  },
  {
   "cell_type": "code",
   "execution_count": 6,
   "id": "svQEBbzg8xX_",
   "metadata": {
    "id": "svQEBbzg8xX_"
   },
   "outputs": [],
   "source": [
    "# store the node feature embedding for each node\n",
    "for i, node in enumerate(G.nodes()):\n",
    "    G.nodes[node]['feature'] = X[i]\n",
    "   \n",
    "def VisualizeGraphNetworkx(G):\n",
    "    '''\n",
    "    input: G\n",
    "    A networkx graph instance\n",
    "    '''\n",
    "    #Complete code here:\n",
    "    pos = nx.spring_layout(G)\n",
    "    node_color = [G.nodes[node]['feature'] for node in G.nodes()]\n",
    "    # I decided to use colors to indicate the different node features, same color = same feature \n",
    "    nx.draw_networkx_nodes(G, pos, node_color=node_color, cmap=plt.cm.coolwarm)\n",
    "    nx.draw_networkx_edges(G, pos)\n",
    "    nx.draw_networkx_labels(G, pos)\n",
    "    ####################\n",
    "\n",
    "    plt.show()"
   ]
  },
  {
   "cell_type": "code",
   "execution_count": null,
   "id": "c1e5f3d2",
   "metadata": {},
   "outputs": [
    {
     "data": {
      "image/png": "[encoded data removed]",
      "text/plain": [
       "<Figure size 640x480 with 1 Axes>"
      ]
     },
     "metadata": {},
     "output_type": "display_data"
    }
   ],
   "source": [
    "# TEST CODE\n",
    "VisualizeGraphNetworkx(G)"
   ]
  },
  {
   "cell_type": "markdown",
   "id": "2BRqCmSV9CxU",
   "metadata": {
    "id": "2BRqCmSV9CxU"
   },
   "source": [
    "#### 4.1.2 Display the edge features for edges which are connected to node 0 (first node). (3 points)"
   ]
  },
  {
   "cell_type": "code",
   "execution_count": 7,
   "id": "GAa3JxT79E_7",
   "metadata": {
    "id": "GAa3JxT79E_7"
   },
   "outputs": [
    {
     "name": "stdout",
     "output_type": "stream",
     "text": [
      "[('node 0', 'node 1', array([  1,   7,  50, 390], dtype=int32)), ('node 0', 'node 2', array([  1,   5,  44, 323], dtype=int32)), ('node 0', 'node 3', array([  1,   5,  48, 346], dtype=int32)), ('node 0', 'node 4', array([  1,   3,  37, 243], dtype=int32)), ('node 0', 'node 5', array([  1,   5,  39, 295], dtype=int32)), ('node 0', 'node 6', array([  1,   6,  46, 350], dtype=int32)), ('node 0', 'node 8', array([  1,   5,  47, 334], dtype=int32)), ('node 0', 'node 9', array([  1,   6,  49, 379], dtype=int32))]\n"
     ]
    }
   ],
   "source": [
    "''' code to display the edge features for all edges connected to node 0. List the output in the format\n",
    "[node 0, node x, edge_features]\n",
    "[node 0, node y, edge_features] ...\n",
    " Please change = None to your implementation.'''\n",
    "# each edge has a 4-dimensional feature \n",
    "node = 0 \n",
    "edge_features = [(f'node {node}', f'node {neighbor}', E[0, neighbor, :]) for neighbor in list(G.neighbors(node))]\n",
    "print(edge_features)"
   ]
  },
  {
   "cell_type": "markdown",
   "id": "oqL_AF0m9JCD",
   "metadata": {
    "id": "oqL_AF0m9JCD"
   },
   "source": [
    "### 4.2 Mathematical Formulation <b>(5 points)</b>\n",
    "\n",
    "Consider a graph with node embedding $\\mathbf{h}_n$ based on its neighboring node embeddings $\\{\\mathbf{h}_m\\}_{m \\in ne[n]}$ and the neighboring edge embeddings $\\{\\mathbf{e}_m\\}_{m \\in nee[n]}$\n",
    "$ne[n]$ denotes the neighbors of node $n$ and $nee[n]$ denotes the edges connected to node $n$.\n",
    "  \n",
    "Let the update rule without accounting for edge embeddings is the following\n",
    "\n",
    "$\\mathbf{H}_{k+1} = a[ \\mathbf{\\beta}_k \\mathbf{1}^T + \\mathbf{\\Omega}_k \\mathbf{H}_k (\\mathbf{A} + \\mathbf{I}) ]$"
   ]
  },
  {
   "cell_type": "markdown",
   "id": "0wTK6G6X9au5",
   "metadata": {
    "id": "0wTK6G6X9au5"
   },
   "source": [
    "#### 4.2.1 fill in the [...] in the equation below so that we account for edge embeddings (3 points)\n",
    "\n",
    "$\\mathbf{H}_{k+1} = a[ \\mathbf{\\beta}_k \\mathbf{1}^T + \\mathbf{\\Omega}_k \\mathbf{H}_k (\\mathbf{A} + \\mathbf{I}) + [...]]$  (1)\n",
    "\n",
    "My updated formula which accounts for edge embeddings is as follows:\n",
    "\n",
    "$\\mathbf{H}_{k+1} = a[ \\mathbf{\\beta}_k \\mathbf{1}^T + \\mathbf{\\Omega}_k \\mathbf{H}_k (\\mathbf{A} + \\mathbf{I}) + \\mathbf{\\Phi}_k (\\mathbf{E} \\odot (\\mathbf{A} + \\mathbf{I}))]$  (1)"
   ]
  },
  {
   "cell_type": "markdown",
   "id": "-o0WJog-9cYa",
   "metadata": {
    "id": "-o0WJog-9cYa"
   },
   "source": [
    "#### 4.2.2 Define any new variables you introduce in the matrix form of (1) and specify their size. (2 points)"
   ]
  },
  {
   "cell_type": "markdown",
   "id": "250c7b8f",
   "metadata": {},
   "source": [
    "- $E$ is the flattened edge embedding matrix, where $E_{ij}$ represents the embedding for the edge between nodes $i$ and $j$. The size of $E$ is $N \\times N$, where $N$ is the number of nodes in $G$. Note that the edge embedding matrix was originally $N \\times N \\times d_e$, where $d_e$ is the dimension of the edge embedding, but I've aggregated the feature dimension to make the formula multiplicatively conformable. Please see the implementation and comment below for a better understanding :) \n",
    "\n",
    "- $\\Phi_k$ is the learnable weights of layer $k$. The size of $\\Phi_k$ is $d_{in} \\times d_h$, where $d_{in}$ is the input feature dimension and $d_h$ is the dimension of the hidden embeddings, or otherwise interpreted as 'output_features'. \n",
    "\n",
    "- $\\odot$ represents element-wise product. "
   ]
  },
  {
   "cell_type": "markdown",
   "id": "FO84ej4M9e9S",
   "metadata": {
    "id": "FO84ej4M9e9S"
   },
   "source": [
    "### 4.3) Implementation <b>(5 points)</b>"
   ]
  },
  {
   "cell_type": "code",
   "execution_count": 4,
   "id": "qtFGBFbG9h5B",
   "metadata": {
    "id": "qtFGBFbG9h5B"
   },
   "outputs": [
    {
     "ename": "NameError",
     "evalue": "name 'A' is not defined",
     "output_type": "error",
     "traceback": [
      "\u001b[1;31m---------------------------------------------------------------------------\u001b[0m",
      "\u001b[1;31mNameError\u001b[0m                                 Traceback (most recent call last)",
      "Cell \u001b[1;32mIn[4], line 53\u001b[0m\n\u001b[0;32m     48\u001b[0m     \u001b[38;5;28;01mreturn\u001b[39;00m D_hat_inv_sqrt\u001b[38;5;241m.\u001b[39mdot(A_hat)\u001b[38;5;241m.\u001b[39mdot(D_hat_inv_sqrt)\n\u001b[0;32m     52\u001b[0m \u001b[38;5;66;03m# GCN update steps\u001b[39;00m\n\u001b[1;32m---> 53\u001b[0m A_hat \u001b[38;5;241m=\u001b[39m add_self_connections(\u001b[43mA\u001b[49m) \u001b[38;5;66;03m# A is from question 1.2\u001b[39;00m\n\u001b[0;32m     55\u001b[0m \u001b[38;5;66;03m# define input features\u001b[39;00m\n\u001b[0;32m     56\u001b[0m H_k \u001b[38;5;241m=\u001b[39m X\n",
      "\u001b[1;31mNameError\u001b[0m: name 'A' is not defined"
     ]
    }
   ],
   "source": [
    "import numpy as np\n",
    "import networkx as nx\n",
    "import matplotlib.pyplot as plt\n",
    "import torch\n",
    "np.random.seed(42)  # Setting a fixed seed for numpy random number generator\n",
    "torch.manual_seed(42)\n",
    "\n",
    "\n",
    "def sigmoid(x):\n",
    "    return 1 / (1 + np.exp(-x))\n",
    "\n",
    "\n",
    "def add_self_connections(A):\n",
    "    \"\"\"\n",
    "    Add self-connections to the adjacency matrix.\n",
    "\n",
    "    This function adds an identity matrix to the adjacency matrix `A`, which\n",
    "    effectively adds a self-loop to each node in the graph. This is a common\n",
    "    preprocessing step in graph neural network implementations.\n",
    "\n",
    "    Parameters:\n",
    "    A (np.ndarray): The adjacency matrix to modify.\n",
    "\n",
    "    Returns:\n",
    "    np.ndarray: The adjacency matrix with self-connections added.\n",
    "    \"\"\"\n",
    "    I = np.eye(A.shape[0])\n",
    "    return A + I\n",
    "\n",
    "\n",
    "def normalize_adjacency(A_hat):\n",
    "    \"\"\"\n",
    "    Normalize the adjacency matrix.\n",
    "\n",
    "    This function applies symmetric normalization to the adjacency matrix\n",
    "    `A_hat`. The normalization is done using the inverse square root of the\n",
    "    degree matrix. This step is important for many graph-based learning\n",
    "    algorithms to ensure that the scale of the feature representations is not\n",
    "    skewed by node degree.\n",
    "\n",
    "    Parameters:\n",
    "    A_hat (np.ndarray): The adjacency matrix with self-connections.\n",
    "\n",
    "    Returns:\n",
    "    np.ndarray: The normalized adjacency matrix.\n",
    "    \"\"\"\n",
    "    D_hat_inv_sqrt = np.diag(1.0 / np.sqrt(np.sum(A_hat, axis=0)))\n",
    "    return D_hat_inv_sqrt.dot(A_hat).dot(D_hat_inv_sqrt)\n",
    "\n",
    "\n",
    "\n",
    "# GCN update steps\n",
    "A_hat = add_self_connections(A) # A is from question 1.2\n",
    "\n",
    "# define input features\n",
    "H_k = X\n",
    "\n",
    "# Define the dimensions of the weight matrix\n",
    "input_features = H_k.shape[1]  # Number of input features (columns of H_k)\n",
    "output_features = 2  # Number of output features (can be chosen based on your model's design)\n",
    "\n",
    "# Initialize the weight matrix Omega_k with random values\n",
    "Omega_k = np.random.rand(input_features, output_features)"
   ]
  },
  {
   "cell_type": "markdown",
   "id": "QkMfH2569lAo",
   "metadata": {
    "id": "QkMfH2569lAo"
   },
   "source": [
    "#### 4.1 Implement equation (1) and print out an update using this equation"
   ]
  },
  {
   "cell_type": "code",
   "execution_count": 12,
   "id": "oJasGBjZ9nX5",
   "metadata": {
    "id": "oJasGBjZ9nX5"
   },
   "outputs": [
    {
     "name": "stdout",
     "output_type": "stream",
     "text": [
      "\n",
      "With edge-embeddings:\n",
      " [[0.9947844  1.        ]\n",
      " [0.9978803  1.        ]\n",
      " [0.98839377 1.        ]\n",
      " [0.98969901 1.        ]\n",
      " [0.94867177 1.        ]\n",
      " [0.97637573 1.        ]\n",
      " [0.99483712 1.        ]\n",
      " [0.98808312 1.        ]\n",
      " [0.98814718 1.        ]\n",
      " [0.99476795 1.        ]\n",
      " [0.5        0.5       ]\n",
      " [0.57201678 0.97835174]\n",
      " [0.5        0.5       ]\n",
      " [0.58625284 0.99126094]\n",
      " [0.68774726 0.99998093]\n",
      " [0.5        0.5       ]\n",
      " [0.5        0.5       ]\n",
      " [0.57642792 0.98332111]\n",
      " [0.68695894 0.9999789 ]\n",
      " [0.75054706 0.99999968]]\n"
     ]
    }
   ],
   "source": [
    "''' Please implement your update which includes edge embeddings below (change = None)\n",
    "You should use A, X and E defined at the beginning of 4)\n",
    "\n",
    "'''\n",
    "# define a bias for completeness\n",
    "beta_k = np.zeros(output_features)\n",
    "\n",
    "# initialize the weight matrix Phi_k with random values\n",
    "Phi_k = np.random.rand(input_features, output_features)\n",
    "\n",
    "# normalise adjacency matrix using degree normalisation \n",
    "A_hat_normalized = normalize_adjacency(A_hat)\n",
    "\n",
    "# apply part of the update formula using node embeddings \n",
    "node_embs_aggregated = A_hat_normalized @ H_k @ Omega_k \n",
    "\n",
    "# apply new part of the update formula using edge embeddings: \n",
    "# 1. flatten the edge embeddings using mean aggregation to go from N x N x D -> N x N \n",
    "E_flattened = np.mean(E, axis=-1)\n",
    "# 2. element-wise product of normalized adjacency and flattened edge feature matrix before update rule \n",
    "edge_embs_aggregated = (A_hat_normalized * E_flattened) @ H_k @ Phi_k\n",
    "\n",
    "# sum together and apply bias and finally pass through sigmoid activation \n",
    "H_k_edge_embeddings = sigmoid(node_embs_aggregated + edge_embs_aggregated + beta_k)\n",
    "\n",
    "print(\"\\nWith edge-embeddings:\\n\", H_k_edge_embeddings)"
   ]
  },
  {
   "cell_type": "markdown",
   "id": "eqEsEFp8c5O-",
   "metadata": {
    "id": "eqEsEFp8c5O-"
   },
   "source": [
    "Hi Joshua, this is just a summary of what my implementation does in case it is not clear: \n",
    "\n",
    "The update formula has a beta parameter but wasn't defined in the cell above, so I decided to create one myself for completeness. I've also created an additional weight matrix $\\Phi$ which is intended to be a learnable parameter, similar to $\\Omega$. I then normalise the adjacency matrix using the predefined function normalize_adjacency, which uses degree normalisation.\n",
    "\n",
    "To begin with, I apply the original update formula term with $\\hat{A}$, $H_k$ and $\\Omega$, calling this node_embs_aggregated. I then implement my new mathematical formulation that accounts for edge embeddings. To do this, I realise that the edge embedding matrix $E$ is N x N x D, which is incompatible with the adjacency matrix which is N x N. Hence, I decided to flatten the feature dimension by aggregating the edge embedding features using mean aggregation. I could've used sum or max aggregation instead, but I thought mean pooling was the best given that I have encountered it the most during coursework and tutorials. Then I just add the two terms together, add my bias and pass through sigmoid activation.  \n",
    "\n",
    "I hope this makes sense. Thank you for the interesting question! "
   ]
  },
  {
   "cell_type": "markdown",
   "id": "Yh_VUCCsc5O-",
   "metadata": {
    "id": "Yh_VUCCsc5O-"
   },
   "source": [
    "# 5) Bonus (5 points)\n",
    "\n",
    "#### Graph Fusion"
   ]
  },
  {
   "cell_type": "code",
   "execution_count": 5,
   "id": "S0Fzftx0_kNV",
   "metadata": {
    "id": "S0Fzftx0_kNV"
   },
   "outputs": [
    {
     "name": "stdout",
     "output_type": "stream",
     "text": [
      "600\n",
      "600\n"
     ]
    }
   ],
   "source": [
    "# here we have two datasets of the same digits. One using pixels and the other in the Fourier Domain.\n",
    "\n",
    "# load digits in fourier domain\n",
    "df1 = pd.read_csv('sample_data/fourier.csv', header=None)\n",
    "X1 = df1.to_numpy()\n",
    "print(len(X1))\n",
    "\n",
    "# load digits in pixel domain\n",
    "df2 = pd.read_csv('sample_data/pixel.csv', header=None)\n",
    "X2 = df2.to_numpy()\n",
    "print(len(X2))\n",
    "\n",
    "\n",
    "# generate distances between all pairs of points to create distance matrix\n",
    "A1 = euclidean_distances(X1,X1)\n",
    "A2 = euclidean_distances(X2,X2)"
   ]
  },
  {
   "cell_type": "markdown",
   "id": "2VRqe8vn_dPR",
   "metadata": {
    "id": "2VRqe8vn_dPR"
   },
   "source": [
    "Here we have two graphs $G =(A1,X1)$ and $G' = (A2,X2)$ representating the same dataset in different domains.\n",
    "\n",
    "#### 5.1) Use the SNF graph cross-diffusion rule (see equations (4) and (5) in the SNF paper) to define a function $G_f = fuse(G,G')$ that fuses the node and edge features of these two graphs. Formalize the solution mathematically in the matrix form (2 points)"
   ]
  },
  {
   "cell_type": "markdown",
   "id": "_GCv6arK_dnL",
   "metadata": {
    "id": "_GCv6arK_dnL"
   },
   "source": [
    "The SNF graph cross-diffusion rule (for m = 2 data types) for is defined as: \n",
    "\n",
    "$$\n",
    "P^{(1)}_{t+1} = S^{(1)} \\times P^{(2)}_{t} \\times (S^{(1)})^T \\tag{4}\n",
    "$$\n",
    "\n",
    "$$\n",
    "P^{(2)}_{t+1} = S^{(2)} \\times P^{(1)}_{t} \\times (S^{(2)})^T \\tag{5}\n",
    "$$\n",
    "\n",
    "where\n",
    "\n",
    "$$\n",
    "S(i, j) = \n",
    "\\begin{cases} \n",
    "\\frac{W(i, j)}{\\sum_{k \\in N_i} W(i, k)}, & \\text{if } j \\in N_i \\\\\n",
    "0, & \\text{otherwise}\n",
    "\\end{cases}\n",
    "$$\n",
    "\n",
    "$$\n",
    "P(i, j) = \n",
    "\\begin{cases} \n",
    "\\frac{W(i, j)}{2 \\sum_{k \\neq i} W(i, k)}, & \\text{if } j \\neq i \\\\\n",
    "\\frac{1}{2}, & \\text{if } j = i\n",
    "\\end{cases}\n",
    "$$\n",
    "\n",
    "$$\n",
    "W(i,j) = \\exp\\left(-\\frac{\\rho^2(x_i, x_j)}{\\mu \\varepsilon_{i,j}}\\right) \\tag{1}\n",
    "$$\n",
    "\n",
    "$$\n",
    "\\varepsilon_{i,j} = \\frac{\\text{mean}(\\rho(x_i, N_i)) + \\text{mean}(\\rho(x_j, N_j)) + \\rho(x_i, x_j)}{3}\n",
    "$$\n",
    "\n",
    "W is a scaled exponential similarity matrix computed using Euclidean distance function $\\rho$, P is the normalized weight matrix and S is the local affinity matrix using KNN."
   ]
  },
  {
   "cell_type": "markdown",
   "id": "Bj2SPVR9_dq0",
   "metadata": {
    "id": "Bj2SPVR9_dq0"
   },
   "source": [
    "#### 5.2) Cross-diffuse graphs G and G' above using your new formula. (3 points)"
   ]
  },
  {
   "cell_type": "code",
   "execution_count": 19,
   "id": "2UREw95M_dy7",
   "metadata": {
    "id": "2UREw95M_dy7"
   },
   "outputs": [
    {
     "data": {
      "text/plain": [
       "array([[2.04859692e+280, 8.40938738e+279, 3.52285123e+277, ...,\n",
       "        5.19286864e+282, 2.34138835e+276, 1.67737937e+276],\n",
       "       [8.40934361e+279, 3.45346039e+279, 1.44660523e+277, ...,\n",
       "        2.12825219e+282, 9.59564244e+275, 6.87402179e+275],\n",
       "       [3.52283754e+277, 1.44660715e+277, 6.05972262e+274, ...,\n",
       "        8.91822007e+279, 4.02100216e+273, 2.88055733e+273],\n",
       "       ...,\n",
       "       [5.19290949e+282, 2.12827995e+282, 8.91832493e+279, ...,\n",
       "        1.32459690e+285, 5.97180433e+278, 4.27837742e+278],\n",
       "       [2.34142567e+276, 9.59584521e+275, 4.02108196e+273, ...,\n",
       "        5.97185207e+278, 2.69276772e+272, 1.92936725e+272],\n",
       "       [1.67741470e+276, 6.87420232e+275, 2.88062928e+273, ...,\n",
       "        4.27843332e+278, 1.92937703e+272, 1.38248596e+272]])"
      ]
     },
     "execution_count": 19,
     "metadata": {},
     "output_type": "execute_result"
    }
   ],
   "source": [
    "\n",
    "def scaled_exponential_similarity_kernel(A, mu=0.8):\n",
    "    \"\"\"\n",
    "    Computes the scaled exponential similarity kernel W.\n",
    "    Paper recommends mu in range [0.3, 0.8], so we set default to 0.8.\n",
    "    \"\"\"\n",
    "    W = np.zeros_like(A)\n",
    "    for i in range(W.shape[0]):\n",
    "        for j in range(W.shape[1]):\n",
    "            epsilon = (np.mean(A[i, :]) + np.mean(A[j, :]) + A[i, j]) / 3\n",
    "            W[i, j] = np.exp(- A[i, j]**2 / (mu * epsilon))\n",
    "    return W \n",
    "\n",
    "W1 = scaled_exponential_similarity_kernel(A1)\n",
    "W2 = scaled_exponential_similarity_kernel(A2)\n",
    "\n",
    "\n",
    "def normalize_weight_matrix(W):\n",
    "    \"\"\"\n",
    "    Normalize the weight matrix W to form P \n",
    "    \"\"\"\n",
    "    P = np.zeros_like(W)\n",
    "    for i in range(W.shape[0]):\n",
    "        for j in range(W.shape[1]):\n",
    "            if i != j:\n",
    "                P[i, j] = W[i, j] / (2 * np.sum(W[i, :]) - W[i, i]) # don't include self weight W[i, i]\n",
    "            else:\n",
    "                P[i, j] = 1/2\n",
    "    return P\n",
    "\n",
    "P1 = normalize_weight_matrix(W1)\n",
    "P2 = normalize_weight_matrix(W2)\n",
    "\n",
    "def knn_local_affinity(W, k=5):\n",
    "    \"\"\"\n",
    "    Compute the local affinity matrix S using KNN.\n",
    "    \"\"\"\n",
    "    S = np.zeros_like(W)\n",
    "    for i in range(W.shape[0]):\n",
    "        for j in range(W.shape[1]):\n",
    "            if W[i, j]: \n",
    "                knn_sum = np.sum(np.sort(W[i, :])[:k])\n",
    "                S[i, j] = W[i, j] / knn_sum\n",
    "            else:\n",
    "                S[i, j] = 0\n",
    "    return S\n",
    "\n",
    "S1 = knn_local_affinity(W1)\n",
    "S2 = knn_local_affinity(W2)\n",
    "    \n",
    "\n",
    "def similarity_network_fusion(S1, S2, P1, P2, num_iterations):\n",
    "    \"\"\"\n",
    "    Apply Similarity Network Fusion (SNF) to two kernel matrices.\n",
    "    \"\"\"\n",
    "    P1_curr = P1\n",
    "    P2_curr = P2\n",
    "    \n",
    "    # equations (4) and (5)\n",
    "    for _ in range(5):\n",
    "        P1_next = S1 @ P2_curr @ S1.T\n",
    "        P2_next = S2 @ P1_curr @ S2.T\n",
    "        P1_curr, P2_curr = P1_next, P2_next\n",
    "\n",
    "    # compute the final fused similarity matrix\n",
    "    P_c = (P1_curr + P2_curr) / 2\n",
    "    return P_c\n",
    "\n",
    "# Apply Similarity Network Fusion\n",
    "P_c = similarity_network_fusion(S1, S2, P1, P2, num_iterations=20)\n",
    "\n",
    "P_c"
   ]
  },
  {
   "cell_type": "markdown",
   "id": "f3YOZHLJc5O-",
   "metadata": {
    "id": "f3YOZHLJc5O-"
   },
   "source": [
    "#### References:\n",
    "1. SNF paper: Wang, Bo, et al. \"Similarity network fusion for aggregating data types on a genomic scale.\" Nature methods 11.3 (2014): 333-337.\n",
    "2. Feel free to check  <A Href=\"https://www.youtube.com/watch?v=Oqrjkm6TIy8&list=PLug43ldmRSo3MV-Jgjr30E5SpwNKkjTvJ&index=32\">video</A> from minute 21 to 30 (9 minutes to cover)."
   ]
  }
 ],
 "metadata": {
  "accelerator": "GPU",
  "colab": {
   "collapsed_sections": [
    "LQ7SGGtic5O6"
   ],
   "gpuType": "T4",
   "provenance": []
  },
  "kernelspec": {
   "display_name": "Python 3 (ipykernel)",
   "language": "python",
   "name": "python3"
  },
  "language_info": {
   "codemirror_mode": {
    "name": "ipython",
    "version": 3
   },
   "file_extension": ".py",
   "mimetype": "text/x-python",
   "name": "python",
   "nbconvert_exporter": "python",
   "pygments_lexer": "ipython3",
   "version": "3.11.8"
  }
 },
 "nbformat": 4,
 "nbformat_minor": 5
}
